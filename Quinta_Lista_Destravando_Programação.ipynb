{
  "nbformat": 4,
  "nbformat_minor": 0,
  "metadata": {
    "colab": {
      "name": "Quinta Lista - Destravando Programação",
      "provenance": [],
      "authorship_tag": "ABX9TyNR1m9Fs/tR40FpCX1Sd9Oo",
      "include_colab_link": true
    },
    "kernelspec": {
      "name": "python3",
      "display_name": "Python 3"
    },
    "language_info": {
      "name": "python"
    }
  },
  "cells": [
    {
      "cell_type": "markdown",
      "metadata": {
        "id": "view-in-github",
        "colab_type": "text"
      },
      "source": [
        "<a href=\"https://colab.research.google.com/github/LeonardoHyppolito/Estudos/blob/main/Quinta_Lista_Destravando_Programa%C3%A7%C3%A3o.ipynb\" target=\"_parent\"><img src=\"https://colab.research.google.com/assets/colab-badge.svg\" alt=\"Open In Colab\"/></a>"
      ]
    },
    {
      "cell_type": "markdown",
      "source": [
        "Última lista, do capítulo destravando programação. Agora, a ideia é entender as funções. "
      ],
      "metadata": {
        "id": "XgaX_yydN7bB"
      }
    },
    {
      "cell_type": "code",
      "execution_count": 1,
      "metadata": {
        "id": "fh7MVtwNNsk0"
      },
      "outputs": [],
      "source": [
        "# Para definirmos uma função, para a linguagem python utilizamos a palavra reservada \"def\", isto é, a partir deste momento estamos definindo uma função. \n",
        "def soma(valor_a,valor_b):            # Dentro dos colchetes, colocamos os parâmetros. \n",
        "  soma = valor_a + valor_b            # Aqui criamos uma variável chamada soma, que é diferente da \"soma\" de cima, pois a de cima esta definida como função.\n",
        "  return soma                         # É necessário utilizar o return, para o python retornar o valor pra gente. "
      ]
    },
    {
      "cell_type": "code",
      "source": [
        "soma(56,8)  # Aqui basicamente estamos chamando a função soma, onde o 56 vai assumir o valor_a, e o 8 vai assumir o valor_b, então o computador vai fazer a \n",
        "            # soma, salvar na variável soma, e retornar o valor salvo nesta variável. "
      ],
      "metadata": {
        "colab": {
          "base_uri": "https://localhost:8080/"
        },
        "id": "wbAiUZC6WPtA",
        "outputId": "40782aae-0d0d-4aea-b7df-235f0d507b02"
      },
      "execution_count": null,
      "outputs": [
        {
          "output_type": "execute_result",
          "data": {
            "text/plain": [
              "64"
            ]
          },
          "metadata": {},
          "execution_count": 3
        }
      ]
    },
    {
      "cell_type": "code",
      "source": [
        "# Existe outra maneira, de realizar uma função, que é utilizando o \"return\" direto, sem precisar salvar em uma nova variável. \n",
        "def multiplicacao(a, b, c):\n",
        "  return a * b * c "
      ],
      "metadata": {
        "id": "t4mjrWYmWdpI"
      },
      "execution_count": null,
      "outputs": []
    },
    {
      "cell_type": "code",
      "source": [
        "multiplicacao(1, 2, 3)     # Isto é, colocamos a operação a ser feita direto na frente do return, e o computador ja vai entender que a ideia da função é\n",
        "                           # multiplicar o primeiro parâmetro, pelo segundo, e pelo terceiro. "
      ],
      "metadata": {
        "colab": {
          "base_uri": "https://localhost:8080/"
        },
        "id": "kmYs-9LeX1En",
        "outputId": "70cf7cf2-c440-44b3-ff82-5b82fda4ea8b"
      },
      "execution_count": null,
      "outputs": [
        {
          "output_type": "execute_result",
          "data": {
            "text/plain": [
              "6"
            ]
          },
          "metadata": {},
          "execution_count": 5
        }
      ]
    },
    {
      "cell_type": "markdown",
      "source": [
        "Exercícios"
      ],
      "metadata": {
        "id": "d8ZSZD9iYgiS"
      }
    },
    {
      "cell_type": "markdown",
      "source": [
        "1) CRIE UMA FUNÇÃO QUE ACEITA DOIS ARGUMENTOS (NOME E IDADE) E IMPRIMIR SEU VALOR"
      ],
      "metadata": {
        "id": "Hd8D9R4hYnor"
      }
    },
    {
      "cell_type": "code",
      "source": [
        "def nome_idadee(nome, idade):\n",
        "  return (f\"O nome é {nome} e a idade é {idade}\")           # Aqui poderia ter usado o print, mas é aconselhável que utilizemos o \"return\".\n",
        "                                                            # basicamente, eu disse para o computador que o {nome}, é o nome (primeiro parâmetro da função)\n",
        "                                                            #e que a {idade} é o segundo parâmetro da função. Logo, quando eu chamar a função, e der os \n",
        "                                                            #parâmetros o computador vai entender que o primeiro parâmetro será o nome e o segundo a idade. "
      ],
      "metadata": {
        "id": "HfZGRaO2Q05x"
      },
      "execution_count": null,
      "outputs": []
    },
    {
      "cell_type": "code",
      "source": [
        "nome_idadee(\"Léo\", 21)"
      ],
      "metadata": {
        "colab": {
          "base_uri": "https://localhost:8080/",
          "height": 35
        },
        "id": "7ApV7mJH8U2G",
        "outputId": "7ce2930a-662d-438f-d776-a32b885273b3"
      },
      "execution_count": null,
      "outputs": [
        {
          "output_type": "execute_result",
          "data": {
            "application/vnd.google.colaboratory.intrinsic+json": {
              "type": "string"
            },
            "text/plain": [
              "'O nome é Léo e a idade é 21'"
            ]
          },
          "metadata": {},
          "execution_count": 7
        }
      ]
    },
    {
      "cell_type": "code",
      "source": [
        "nome_idadee(\"Marcos\", 40)    \n",
        "# Desse modo, o usuário não precisará ficar inputando o nome e a idade, basta chamar a função. "
      ],
      "metadata": {
        "colab": {
          "base_uri": "https://localhost:8080/",
          "height": 35
        },
        "id": "mnZSk5VMjxkg",
        "outputId": "a339278e-07fe-4679-b8e3-2122f8b190ae"
      },
      "execution_count": null,
      "outputs": [
        {
          "output_type": "execute_result",
          "data": {
            "application/vnd.google.colaboratory.intrinsic+json": {
              "type": "string"
            },
            "text/plain": [
              "'O nome é Marcos e a idade é 40'"
            ]
          },
          "metadata": {},
          "execution_count": 8
        }
      ]
    },
    {
      "cell_type": "code",
      "source": [
        "type(nome_idadee)             # Type também reconhece funções. "
      ],
      "metadata": {
        "colab": {
          "base_uri": "https://localhost:8080/"
        },
        "id": "z7xqu88Hjxmt",
        "outputId": "102edb23-e60e-4bb3-9f60-3d370941a5e3"
      },
      "execution_count": null,
      "outputs": [
        {
          "output_type": "execute_result",
          "data": {
            "text/plain": [
              "function"
            ]
          },
          "metadata": {},
          "execution_count": 9
        }
      ]
    },
    {
      "cell_type": "markdown",
      "source": [
        "2) ESCREVA UMA FUNÇÃO DE FORMA QUE ELA POSSA ACEITAR UM TAMANHO VARIÁVEL DE\n",
        "ARGUMENTO E IMPRIMIR TODOS OS VALORES DOS ARGUMENTOS."
      ],
      "metadata": {
        "id": "DTp0EFBYYq_4"
      }
    },
    {
      "cell_type": "code",
      "source": [
        "# Resolve-se esse problema criando uma função, que podemos variar a quantidade de parâmetros, e para isso utilizamos o comando *args:\n",
        "def parametros_variaveis(*args): #(20,30,40,50,60)\n",
        "  for i in args:                 # Aqui não precisamos utilizar o *. O i, percorrerá todos os argumentos, nesse caso, printando-os.\n",
        "    print(i)                           "
      ],
      "metadata": {
        "id": "nBJe4Xqr8Vwm"
      },
      "execution_count": null,
      "outputs": []
    },
    {
      "cell_type": "code",
      "source": [
        "parametros_variaveis(20,30,40,50,60)"
      ],
      "metadata": {
        "id": "yqMWC5PS8Vy2",
        "colab": {
          "base_uri": "https://localhost:8080/"
        },
        "outputId": "30031cf8-0d45-4ac5-b462-a33917558b7c"
      },
      "execution_count": null,
      "outputs": [
        {
          "output_type": "stream",
          "name": "stdout",
          "text": [
            "20\n",
            "30\n",
            "40\n",
            "50\n",
            "60\n"
          ]
        }
      ]
    },
    {
      "cell_type": "code",
      "source": [
        "parametros_variaveis(20,30)"
      ],
      "metadata": {
        "colab": {
          "base_uri": "https://localhost:8080/"
        },
        "id": "kGNumcICnjMk",
        "outputId": "6c98be63-37bb-4150-eb2a-ebc0e7019709"
      },
      "execution_count": null,
      "outputs": [
        {
          "output_type": "stream",
          "name": "stdout",
          "text": [
            "20\n",
            "30\n"
          ]
        }
      ]
    },
    {
      "cell_type": "code",
      "source": [
        "parametros_variaveis(20)"
      ],
      "metadata": {
        "id": "ZRQJb_4E8WEX",
        "colab": {
          "base_uri": "https://localhost:8080/"
        },
        "outputId": "4ab434ea-04d7-4638-8d42-4f012a1ec57c"
      },
      "execution_count": null,
      "outputs": [
        {
          "output_type": "stream",
          "name": "stdout",
          "text": [
            "20\n"
          ]
        }
      ]
    },
    {
      "cell_type": "markdown",
      "source": [
        "3) ESCREVA UMA FUNÇÃO () QUE POSSA ACEITAR DUAS VARIÁVEIS E CALCULE A ADIÇÃO E\n",
        "SUBTRAÇÃO DELAS. E TAMBÉM DEVE RETORNAR ADIÇÃO E SUBTRAÇÃO EM UMA ÚNICA\n",
        "CHAMADA DE RETORNO"
      ],
      "metadata": {
        "id": "EuR03iXnYrGM"
      }
    },
    {
      "cell_type": "code",
      "source": [
        "def soma_sub(a, b):\n",
        "  return a + b, a - b"
      ],
      "metadata": {
        "id": "zGQcDUsB8Whb"
      },
      "execution_count": null,
      "outputs": []
    },
    {
      "cell_type": "code",
      "source": [
        "soma_sub(10, 5)"
      ],
      "metadata": {
        "id": "a-KjoeUN8Wj5",
        "colab": {
          "base_uri": "https://localhost:8080/"
        },
        "outputId": "466bc43f-01dc-4e62-cf77-deff36e8fd45"
      },
      "execution_count": null,
      "outputs": [
        {
          "output_type": "execute_result",
          "data": {
            "text/plain": [
              "(15, 5)"
            ]
          },
          "metadata": {},
          "execution_count": 15
        }
      ]
    },
    {
      "cell_type": "code",
      "source": [
        "# A primeira parte do exercicio, esta resolvida. Note, que o computador retorna o resultado em uma tupla (15,5), isso nos permite salvar o resultado\n",
        "#Em variáveis, utlizando a virgula, onde a primeira variavel será o primeiro valor da tupla, a segunda variável irá assumir o segundo valor da tupla e assim\n",
        "#Por diante...."
      ],
      "metadata": {
        "id": "9jQTNOLM8WmJ"
      },
      "execution_count": null,
      "outputs": []
    },
    {
      "cell_type": "code",
      "source": [
        "soma , sub , = soma_sub(10, 5)"
      ],
      "metadata": {
        "id": "rz13Vo3yq6To"
      },
      "execution_count": null,
      "outputs": []
    },
    {
      "cell_type": "code",
      "source": [
        "print(soma)\n",
        "print(sub)               # Com isso concluimos o exercício, visto que o print nos mostra que cada um dos resultados estão armazenados em diferentes variaveis."
      ],
      "metadata": {
        "colab": {
          "base_uri": "https://localhost:8080/"
        },
        "id": "1Iu0MfxOq6ZK",
        "outputId": "0200f366-017d-4e1f-8613-993611aed365"
      },
      "execution_count": null,
      "outputs": [
        {
          "output_type": "stream",
          "name": "stdout",
          "text": [
            "15\n",
            "5\n"
          ]
        }
      ]
    },
    {
      "cell_type": "markdown",
      "source": [
        "4) CRIE UMA FUNÇÃO QUE ACEITE O NOME DO FUNCIONÁRIO E SEU SALÁRIO E EXIBA AMBOS. SE\n",
        "O SALÁRIO ESTIVER FAL TANDO NA CHAMADA DE FUNÇÃO, ATRIBUA O VALOR PADRÃO 1000 AO\n",
        "SALÁRIO."
      ],
      "metadata": {
        "id": "04Kns1RMYrML"
      }
    },
    {
      "cell_type": "code",
      "source": [
        "def nome_salario(nome, salario = 1000):\n",
        "  return(nome, salario)"
      ],
      "metadata": {
        "id": "9KHHAVB3q6bR"
      },
      "execution_count": null,
      "outputs": []
    },
    {
      "cell_type": "code",
      "source": [
        "nome_salario(\"Léo\", 1500)"
      ],
      "metadata": {
        "id": "K69uW-XS8XFa",
        "colab": {
          "base_uri": "https://localhost:8080/"
        },
        "outputId": "91c71eae-ee6d-410a-db06-293c650eb6a7"
      },
      "execution_count": null,
      "outputs": [
        {
          "output_type": "execute_result",
          "data": {
            "text/plain": [
              "('Léo', 1500)"
            ]
          },
          "metadata": {},
          "execution_count": 20
        }
      ]
    },
    {
      "cell_type": "code",
      "source": [
        "# Até aqui é bem simples, o problema está, em definir um padrão, para o caso de passarmos o parâmetro salario vazio. Pois, com a função escrita:\n",
        "# \"nome_salario(nome, salario):\", como estava ate agora, a situação de não passar um parâmetro salario iria retornar um erro. Em python, podemos resolver\n",
        "# este problema, escrevendo \"nome_salario\"(nome,salario = 1000). Com isso, sempre que passarmos um parâmetro != de 1000, ele retornará o parâmetro escolhido\n",
        "# Mas, no caso de não passarmos um parâmetro salario, ele considerará o salario = 1000."
      ],
      "metadata": {
        "id": "Gb_8ie5w8XHk"
      },
      "execution_count": null,
      "outputs": []
    },
    {
      "cell_type": "code",
      "source": [
        "nome_salario(\"Léo\", )"
      ],
      "metadata": {
        "id": "3sSEJIoZ8XKD",
        "colab": {
          "base_uri": "https://localhost:8080/"
        },
        "outputId": "c6663de1-6c6f-4808-a88d-0f1325102df8"
      },
      "execution_count": null,
      "outputs": [
        {
          "output_type": "execute_result",
          "data": {
            "text/plain": [
              "('Léo', 1000)"
            ]
          },
          "metadata": {},
          "execution_count": 22
        }
      ]
    },
    {
      "cell_type": "markdown",
      "source": [
        "5) ESCREVA UMA FUNÇÃO RECURSIVA PARA CALCULAR A SOMA DOS NÚMEROS DE 0 A 10"
      ],
      "metadata": {
        "id": "VpyWcRtyYrSp"
      }
    },
    {
      "cell_type": "code",
      "source": [
        "# Uma função recusriva é uma função que chama ela mesma. Isto é dentro da função, eu posso chamar ela mesma. \n",
        "def calcula_soma(num):\n",
        "  if (num):\n",
        "    print(num)\n",
        "    return num + calcula_soma(num - 1)\n",
        "  else:\n",
        "    return 0 "
      ],
      "metadata": {
        "id": "qi--KLN48XtZ"
      },
      "execution_count": null,
      "outputs": []
    },
    {
      "cell_type": "code",
      "source": [
        "resultado = calcula_soma(10)"
      ],
      "metadata": {
        "id": "KgPyXUQk8Xv6",
        "colab": {
          "base_uri": "https://localhost:8080/"
        },
        "outputId": "71465ed8-9384-47f1-8554-c70987327e62"
      },
      "execution_count": null,
      "outputs": [
        {
          "output_type": "stream",
          "name": "stdout",
          "text": [
            "10\n",
            "9\n",
            "8\n",
            "7\n",
            "6\n",
            "5\n",
            "4\n",
            "3\n",
            "2\n",
            "1\n"
          ]
        }
      ]
    },
    {
      "cell_type": "code",
      "source": [
        "print(resultado)"
      ],
      "metadata": {
        "id": "Nb8LyuWj8Xyd",
        "colab": {
          "base_uri": "https://localhost:8080/"
        },
        "outputId": "d0623ca9-d648-45c5-d602-33e17a8e5731"
      },
      "execution_count": null,
      "outputs": [
        {
          "output_type": "stream",
          "name": "stdout",
          "text": [
            "55\n"
          ]
        }
      ]
    },
    {
      "cell_type": "markdown",
      "source": [
        "6) ESCREVA UMA FUNÇÃO E QUANDO FOR USÁ- LA CHAME POR UM NOVO NOME."
      ],
      "metadata": {
        "id": "56azr2HrYrZU"
      }
    },
    {
      "cell_type": "code",
      "source": [
        "def primeiro_nome(a, b):\n",
        "  return(a, b)"
      ],
      "metadata": {
        "id": "PlhMbul11pGy"
      },
      "execution_count": null,
      "outputs": []
    },
    {
      "cell_type": "code",
      "source": [
        "nome_novo = primeiro_nome"
      ],
      "metadata": {
        "id": "G84e-zv81pJL"
      },
      "execution_count": null,
      "outputs": []
    },
    {
      "cell_type": "code",
      "source": [
        "nome_novo(10,5)"
      ],
      "metadata": {
        "colab": {
          "base_uri": "https://localhost:8080/"
        },
        "id": "iX6xd5f-1pLj",
        "outputId": "e265f168-5186-4b17-a014-ec9cb3e63e9a"
      },
      "execution_count": null,
      "outputs": [
        {
          "output_type": "execute_result",
          "data": {
            "text/plain": [
              "(10, 5)"
            ]
          },
          "metadata": {},
          "execution_count": 28
        }
      ]
    },
    {
      "cell_type": "code",
      "source": [
        "type(nome_novo)"
      ],
      "metadata": {
        "colab": {
          "base_uri": "https://localhost:8080/"
        },
        "id": "Tjj-lRF02QXz",
        "outputId": "f247d998-6c9b-4e2d-d28d-f18084b0a104"
      },
      "execution_count": null,
      "outputs": [
        {
          "output_type": "execute_result",
          "data": {
            "text/plain": [
              "function"
            ]
          },
          "metadata": {},
          "execution_count": 29
        }
      ]
    },
    {
      "cell_type": "code",
      "source": [
        "# Muito interessante isso, pois podemos mudar a identidade da função, manter a da original e ir trabalhando e resolvendo um leque maior de problemas\n",
        "# e de complexidade dos problemas. "
      ],
      "metadata": {
        "id": "7lyqBcRK28Ah"
      },
      "execution_count": null,
      "outputs": []
    },
    {
      "cell_type": "markdown",
      "source": [
        "7) CRIE UMA FUNÇÃO QUE RECEBE COMO PARÂMETRO UM NÚMERO INTEIRO E DEVOLVE O SEU\n",
        "DOBRO.\n"
      ],
      "metadata": {
        "id": "XSHldaw4Yrfq"
      }
    },
    {
      "cell_type": "code",
      "source": [
        "def dobra_inteiro(x):\n",
        "  return(2 * x)"
      ],
      "metadata": {
        "id": "qgV4soeI3Hkc"
      },
      "execution_count": null,
      "outputs": []
    },
    {
      "cell_type": "code",
      "source": [
        "dobra_inteiro(20)"
      ],
      "metadata": {
        "colab": {
          "base_uri": "https://localhost:8080/"
        },
        "id": "m9nCw7dj3Hmu",
        "outputId": "12b9b315-8395-4e15-8219-782f1bc44713"
      },
      "execution_count": null,
      "outputs": [
        {
          "output_type": "execute_result",
          "data": {
            "text/plain": [
              "40"
            ]
          },
          "metadata": {},
          "execution_count": 32
        }
      ]
    },
    {
      "cell_type": "markdown",
      "source": [
        "8) FAÇA UMA FUNÇÃO PARA VERIFICAR SE UM NÚMERO É POSITIVO OU NEGATIVO. SENDO QUE O\n",
        "VALOR DE RETORNO SERA 1 SE POSITIVO, -1 SE NEGAT IVO E 0 SE FOR IGUAL A 0."
      ],
      "metadata": {
        "id": "g9DLSgcjYrlr"
      }
    },
    {
      "cell_type": "code",
      "source": [
        "def pos_neg(y):\n",
        "  if (y > 0):\n",
        "    return 1\n",
        "  elif (y < 0):\n",
        "    return -1\n",
        "  else:\n",
        "    return 0 "
      ],
      "metadata": {
        "id": "dMghVrHg3Ho7"
      },
      "execution_count": null,
      "outputs": []
    },
    {
      "cell_type": "code",
      "source": [
        "pos_neg(10)"
      ],
      "metadata": {
        "colab": {
          "base_uri": "https://localhost:8080/"
        },
        "id": "Vl39KI-Q36Qz",
        "outputId": "96f05c53-d35a-429f-f145-164c5a7f4efd"
      },
      "execution_count": null,
      "outputs": [
        {
          "output_type": "execute_result",
          "data": {
            "text/plain": [
              "1"
            ]
          },
          "metadata": {},
          "execution_count": 34
        }
      ]
    },
    {
      "cell_type": "code",
      "source": [
        "pos_neg(-5)"
      ],
      "metadata": {
        "colab": {
          "base_uri": "https://localhost:8080/"
        },
        "id": "6icezj4R36S4",
        "outputId": "aa9e3a97-fa34-4351-ce14-d30965ed76b1"
      },
      "execution_count": null,
      "outputs": [
        {
          "output_type": "execute_result",
          "data": {
            "text/plain": [
              "-1"
            ]
          },
          "metadata": {},
          "execution_count": 35
        }
      ]
    },
    {
      "cell_type": "code",
      "source": [
        "pos_neg(0)"
      ],
      "metadata": {
        "colab": {
          "base_uri": "https://localhost:8080/"
        },
        "id": "E5bKd2ie39uC",
        "outputId": "d017aea9-8ce2-4ce0-c7d5-86b7ede88ad9"
      },
      "execution_count": null,
      "outputs": [
        {
          "output_type": "execute_result",
          "data": {
            "text/plain": [
              "0"
            ]
          },
          "metadata": {},
          "execution_count": 36
        }
      ]
    },
    {
      "cell_type": "code",
      "source": [
        ""
      ],
      "metadata": {
        "id": "6pRRs9cP39v6"
      },
      "execution_count": null,
      "outputs": []
    },
    {
      "cell_type": "markdown",
      "source": [
        "9) FAÇA UMA FUNÇÃO QUE RECEBA DOIS NÚMEROS E RETORNE QUAL DELES É O MAIOR.\n"
      ],
      "metadata": {
        "id": "tetd7YLFYrq7"
      }
    },
    {
      "cell_type": "code",
      "source": [
        "def maior_menor(d, f):\n",
        "  if (d > f):\n",
        "    return (f\"O maior é {d}\")\n",
        "  elif (d==f):\n",
        "    return (f\"São iguais\")\n",
        "  else:\n",
        "    return (f\"O maior é {f}\") "
      ],
      "metadata": {
        "id": "Q982GdZM4GOi"
      },
      "execution_count": null,
      "outputs": []
    },
    {
      "cell_type": "code",
      "source": [
        "maior_menor(10,10)"
      ],
      "metadata": {
        "colab": {
          "base_uri": "https://localhost:8080/",
          "height": 35
        },
        "id": "NxJaeg534GQu",
        "outputId": "a738ad91-2b36-49e5-ceb0-e952604d26b5"
      },
      "execution_count": null,
      "outputs": [
        {
          "output_type": "execute_result",
          "data": {
            "application/vnd.google.colaboratory.intrinsic+json": {
              "type": "string"
            },
            "text/plain": [
              "'São iguais'"
            ]
          },
          "metadata": {},
          "execution_count": 42
        }
      ]
    },
    {
      "cell_type": "code",
      "source": [
        "maior_menor(10,20)"
      ],
      "metadata": {
        "colab": {
          "base_uri": "https://localhost:8080/",
          "height": 35
        },
        "id": "Uma9ezP1dMFc",
        "outputId": "5a1683e4-7a39-46ef-abb4-ace99c7a7adb"
      },
      "execution_count": null,
      "outputs": [
        {
          "output_type": "execute_result",
          "data": {
            "application/vnd.google.colaboratory.intrinsic+json": {
              "type": "string"
            },
            "text/plain": [
              "'O maior é 20'"
            ]
          },
          "metadata": {},
          "execution_count": 43
        }
      ]
    },
    {
      "cell_type": "markdown",
      "source": [
        "10) ELABORE UMA FUNÇÃOO QUE RECEBA TRÊS NOTAS DE UM ALUNO COMO PARÂMETROS E UMA\n",
        "LETRA. SE A LETRA FOR A, A FUNÇÃO DEVERÁ CALCULAR A MÉDIA ARITMÉTICA DAS NOTAS DO\n",
        "ALUNO; SE FOR P, DEVERÁ CALCULAR A MÉDIA PONDERADA, COM PESOS 5, 3 E 2.\n"
      ],
      "metadata": {
        "id": "PSxZsG2IYrw6"
      }
    },
    {
      "cell_type": "code",
      "source": [
        "def media_aluno(nota1, nota2, nota3, letra):\n",
        "  if (letra == \"A\"):\n",
        "    return (nota1 + nota2 + nota3) / 3 \n",
        "  elif (letra == \"P\"):\n",
        "    return ((nota1 * 5) + (nota2 * 3) + (nota3 * 2)) / 10 \n",
        "  else: \n",
        "    return(f\"A letra inserida esta errada\")"
      ],
      "metadata": {
        "id": "3QNAzvAqdMHZ"
      },
      "execution_count": null,
      "outputs": []
    },
    {
      "cell_type": "code",
      "source": [
        "media_aluno(7,4,5,\"A\")"
      ],
      "metadata": {
        "id": "jpVfuMIz4mj4",
        "colab": {
          "base_uri": "https://localhost:8080/"
        },
        "outputId": "43cce282-4e8d-4840-a2ff-65b63d8dce2d"
      },
      "execution_count": null,
      "outputs": [
        {
          "output_type": "execute_result",
          "data": {
            "text/plain": [
              "5.333333333333333"
            ]
          },
          "metadata": {},
          "execution_count": 45
        }
      ]
    },
    {
      "cell_type": "code",
      "source": [
        "media_aluno(5,6,7,\"P\")"
      ],
      "metadata": {
        "id": "_HgEm3bC4ml-",
        "colab": {
          "base_uri": "https://localhost:8080/"
        },
        "outputId": "4ffa51fc-6851-43cb-8f50-914219820a7a"
      },
      "execution_count": null,
      "outputs": [
        {
          "output_type": "execute_result",
          "data": {
            "text/plain": [
              "5.7"
            ]
          },
          "metadata": {},
          "execution_count": 49
        }
      ]
    },
    {
      "cell_type": "code",
      "source": [
        "media_aluno(7,4,5,\"G\")"
      ],
      "metadata": {
        "id": "cxwC8YGZ4mog",
        "colab": {
          "base_uri": "https://localhost:8080/",
          "height": 35
        },
        "outputId": "40be7846-a957-49a0-f765-707b3baef220"
      },
      "execution_count": null,
      "outputs": [
        {
          "output_type": "execute_result",
          "data": {
            "application/vnd.google.colaboratory.intrinsic+json": {
              "type": "string"
            },
            "text/plain": [
              "'A letra inserida esta errada'"
            ]
          },
          "metadata": {},
          "execution_count": 48
        }
      ]
    },
    {
      "cell_type": "markdown",
      "source": [
        "11) FAÇA UMA FUNÇÃO QUE RECEBA DOIS NÚMEROS INTEIROS POSITIVOS POR PARÂMETRO E\n",
        "RETORNE A SOMA DOS N NUMEROS INTEIROS EXISTENTES ENTRE ELES."
      ],
      "metadata": {
        "id": "6VdS-5mkYr2P"
      }
    },
    {
      "cell_type": "code",
      "source": [
        "# Vou considerar que o exercício que a soma, dos valores entre os dois parâmetros, sem incluir o valor dos parâmetros na soma. "
      ],
      "metadata": {
        "id": "7xBt8Bhx4mtm"
      },
      "execution_count": null,
      "outputs": []
    },
    {
      "cell_type": "code",
      "source": [
        "#ERRADO\n",
        "def soma_dos_n(valor1, valor2):\n",
        "  for i in range(valor1 , valor2 + 1):\n",
        "    print(i)\n",
        "    soma = 0 \n",
        "    soma += i \n",
        "    return soma \n",
        "    # travei aqui, consigo printar, os valores existentes entre os dois numeros, mas não consigo somar um com o outro. \n",
        "    #pois quando eu coloco a soma, ele da erro.  \n",
        "     "
      ],
      "metadata": {
        "id": "0eUr7mUi4mrC"
      },
      "execution_count": null,
      "outputs": []
    },
    {
      "cell_type": "code",
      "source": [
        "soma_dos_n(1,5)"
      ],
      "metadata": {
        "colab": {
          "base_uri": "https://localhost:8080/"
        },
        "id": "Wl7RbPz0iOMy",
        "outputId": "ab3cac22-014a-4774-fa9c-f0b7cbf44192"
      },
      "execution_count": null,
      "outputs": [
        {
          "output_type": "stream",
          "name": "stdout",
          "text": [
            "2\n",
            "3\n",
            "4\n"
          ]
        }
      ]
    },
    {
      "cell_type": "code",
      "source": [
        "# Agora vou ver o jeito do meu professor, e entender o que estava faltando no meu raciocinio. "
      ],
      "metadata": {
        "id": "bGxGh0WWiOTB"
      },
      "execution_count": null,
      "outputs": []
    },
    {
      "cell_type": "code",
      "source": [
        "def soma_entre_inteiros(valor_a, valor_b):\n",
        "  soma = 0 \n",
        "  for i in range(valor_a, valor_b + 1):\n",
        "    soma += i \n",
        "  return soma\n",
        "# O QUE ESTAVA ERRADO ? 1. A variavel soma não podia estar fora da função. 2. A variavel soma não poderia estar zerada, dentro do laço de repetição FOR\n",
        "# isso pois, se estivesse o laço de repetição ia fazer com que a soma fosse igual a zero em todos inicios de laços. 3. o return também não poderia\n",
        "#estar dentro do laço de repetição, pois nesse caso, teriamos \"varios returns\", o que não funciona. "
      ],
      "metadata": {
        "id": "hSNg_S9okZ67"
      },
      "execution_count": null,
      "outputs": []
    },
    {
      "cell_type": "code",
      "source": [
        "soma_entre_inteiros(1, 5)"
      ],
      "metadata": {
        "colab": {
          "base_uri": "https://localhost:8080/"
        },
        "id": "o9xgAFuOkZ9G",
        "outputId": "187f273e-5b1e-41da-d841-6b563427d343"
      },
      "execution_count": null,
      "outputs": [
        {
          "output_type": "execute_result",
          "data": {
            "text/plain": [
              "15"
            ]
          },
          "metadata": {},
          "execution_count": 83
        }
      ]
    },
    {
      "cell_type": "markdown",
      "source": [
        "12) FAÇA UMA FUNÇÃO QUE RECEBA A ALTURA E O RAIO DE UM CILINDRO CIRCULAR E RETORNE\n",
        "O VOLUME DO CILINDRO. O VOLUME DE UM CILINDRO CIRCULAR E CALCULADO POR MEIO DA\n",
        "SEGUINTE FÓRMULA: V = Π ∗ RAIO2 ∗ AL TURA, ONDE Π = 3.141592."
      ],
      "metadata": {
        "id": "4-t8--uMYr8P"
      }
    },
    {
      "cell_type": "code",
      "source": [
        "def altura_raio(altura, raio):\n",
        "  pi = 3.14\n",
        "  volume = pi * (raio ** 2) * altura\n",
        "  return (f\"O volume deste cilindro é {volume}\")"
      ],
      "metadata": {
        "id": "sjWema9_okvG"
      },
      "execution_count": null,
      "outputs": []
    },
    {
      "cell_type": "code",
      "source": [
        "altura_raio(2, 3)"
      ],
      "metadata": {
        "colab": {
          "base_uri": "https://localhost:8080/",
          "height": 35
        },
        "id": "rNry9dtMokxg",
        "outputId": "45216f3f-f579-49ac-f39b-64e32df1d4ca"
      },
      "execution_count": null,
      "outputs": [
        {
          "output_type": "execute_result",
          "data": {
            "application/vnd.google.colaboratory.intrinsic+json": {
              "type": "string"
            },
            "text/plain": [
              "'O volume deste cilindro é 56.52'"
            ]
          },
          "metadata": {},
          "execution_count": 96
        }
      ]
    },
    {
      "cell_type": "markdown",
      "source": [
        "13) ESCREVA UMA FUNÇÃO QUE RECEBE UM NÚMERO REAL COMO ARGUMENTO E RETORNA O\n",
        "VALOR ABSOLUTO DESSE NÚMERO."
      ],
      "metadata": {
        "id": "hophguA8YsBU"
      }
    },
    {
      "cell_type": "code",
      "source": [
        "def recebe_real(x):\n",
        "  converte = x * (-1)\n",
        "  if (x >= 0):\n",
        "    return (f\"O valor absoluto deste numero é {x}\") \n",
        "  else:\n",
        "    return (f\"O valor absoluto deste numero é {converte}\")"
      ],
      "metadata": {
        "id": "BJ3-VbQ5ok2U"
      },
      "execution_count": null,
      "outputs": []
    },
    {
      "cell_type": "code",
      "source": [
        "recebe_real(8)"
      ],
      "metadata": {
        "colab": {
          "base_uri": "https://localhost:8080/",
          "height": 35
        },
        "id": "XQIThPNookz8",
        "outputId": "97139c61-9293-4afd-dd3c-51d41458b024"
      },
      "execution_count": null,
      "outputs": [
        {
          "output_type": "execute_result",
          "data": {
            "application/vnd.google.colaboratory.intrinsic+json": {
              "type": "string"
            },
            "text/plain": [
              "'O valor absoluto deste numero é 8'"
            ]
          },
          "metadata": {},
          "execution_count": 104
        }
      ]
    },
    {
      "cell_type": "code",
      "source": [
        "recebe_real(-8)"
      ],
      "metadata": {
        "colab": {
          "base_uri": "https://localhost:8080/",
          "height": 35
        },
        "id": "NLrqhvTYufzr",
        "outputId": "b21863df-51e6-4b01-dd09-fdc78e8fff4d"
      },
      "execution_count": null,
      "outputs": [
        {
          "output_type": "execute_result",
          "data": {
            "application/vnd.google.colaboratory.intrinsic+json": {
              "type": "string"
            },
            "text/plain": [
              "'O valor absoluto deste numero é 8'"
            ]
          },
          "metadata": {},
          "execution_count": 105
        }
      ]
    },
    {
      "cell_type": "code",
      "source": [
        "recebe_real(0)"
      ],
      "metadata": {
        "colab": {
          "base_uri": "https://localhost:8080/",
          "height": 35
        },
        "id": "ws2fettluf5s",
        "outputId": "da691ea8-db27-44b3-df7b-786222599ef4"
      },
      "execution_count": null,
      "outputs": [
        {
          "output_type": "execute_result",
          "data": {
            "application/vnd.google.colaboratory.intrinsic+json": {
              "type": "string"
            },
            "text/plain": [
              "'O valor absoluto deste numero é 0'"
            ]
          },
          "metadata": {},
          "execution_count": 106
        }
      ]
    },
    {
      "cell_type": "markdown",
      "source": [
        "14) ESCREVA UMA FUNÇÃO QUE RECEBA DOIS NÚMERO INTEIRO (N E P) COMO ARGUMENTO E\n",
        "RETORNA N ELEVADO A P SE N FOR MAIOR QUE P, CASO CONTRÁRIO RETORNE A RAIZ QUADRADA\n",
        "DE N."
      ],
      "metadata": {
        "id": "K3VbiPObYsGq"
      }
    },
    {
      "cell_type": "code",
      "source": [
        "def function_np(numero_n, numero_p):\n",
        "  if (numero_n > numero_p):\n",
        "    return numero_n ** numero_p\n",
        "  elif (numero_p > numero_n):\n",
        "    return numero_n ** 0.5        # A raiz quadrada de um numero = este numero elevado a 1/2\n",
        "  else:\n",
        "    return(\"Os numeros são iguais\")"
      ],
      "metadata": {
        "id": "nA5cACh4vW2y"
      },
      "execution_count": null,
      "outputs": []
    },
    {
      "cell_type": "code",
      "source": [
        "function_np(2,2)"
      ],
      "metadata": {
        "colab": {
          "base_uri": "https://localhost:8080/",
          "height": 35
        },
        "id": "I8jJJLg6vW5R",
        "outputId": "34ce4559-1690-4efe-9b19-ee47f7e0256c"
      },
      "execution_count": null,
      "outputs": [
        {
          "output_type": "execute_result",
          "data": {
            "application/vnd.google.colaboratory.intrinsic+json": {
              "type": "string"
            },
            "text/plain": [
              "'Os numeros são iguais'"
            ]
          },
          "metadata": {},
          "execution_count": 114
        }
      ]
    },
    {
      "cell_type": "code",
      "source": [
        "function_np(4,2)"
      ],
      "metadata": {
        "colab": {
          "base_uri": "https://localhost:8080/"
        },
        "id": "3XQE6FURvW7g",
        "outputId": "f5ce3cc0-5270-499f-cf58-f025bb46334a"
      },
      "execution_count": null,
      "outputs": [
        {
          "output_type": "execute_result",
          "data": {
            "text/plain": [
              "16"
            ]
          },
          "metadata": {},
          "execution_count": 115
        }
      ]
    },
    {
      "cell_type": "code",
      "source": [
        "function_np(2,4)"
      ],
      "metadata": {
        "colab": {
          "base_uri": "https://localhost:8080/"
        },
        "id": "vzDYDcW5yIrt",
        "outputId": "e342531e-c529-4301-8df6-d1bc1de2feda"
      },
      "execution_count": null,
      "outputs": [
        {
          "output_type": "execute_result",
          "data": {
            "text/plain": [
              "1.4142135623730951"
            ]
          },
          "metadata": {},
          "execution_count": 116
        }
      ]
    },
    {
      "cell_type": "markdown",
      "source": [
        "15) ESCREVA UMA FUNÇÃO PARA SOMAR TODOS OS NÚMEROS EM UMA LISTA."
      ],
      "metadata": {
        "id": "mQ9q1CfXYsMT"
      }
    },
    {
      "cell_type": "code",
      "source": [
        "# Jeito que eu fiz \n",
        "def soma_lista(a,b,c,d,e):\n",
        "  lista = [a,b,c,d,e]\n",
        "  soma = a + b + c + d + e\n",
        "  return soma \n",
        "\n"
      ],
      "metadata": {
        "id": "hBlDAzUsyV5_"
      },
      "execution_count": null,
      "outputs": []
    },
    {
      "cell_type": "code",
      "source": [
        "soma_lista(1,2,3,4,5)"
      ],
      "metadata": {
        "colab": {
          "base_uri": "https://localhost:8080/"
        },
        "id": "Jjh9WqvlyV8F",
        "outputId": "de7e6fca-e5f3-4b17-bb9a-4bd76527aab4"
      },
      "execution_count": null,
      "outputs": [
        {
          "output_type": "execute_result",
          "data": {
            "text/plain": [
              "15"
            ]
          },
          "metadata": {},
          "execution_count": 123
        }
      ]
    },
    {
      "cell_type": "code",
      "source": [
        "#Jeito do professor "
      ],
      "metadata": {
        "id": "PsEnVV1SyWQa"
      },
      "execution_count": null,
      "outputs": []
    },
    {
      "cell_type": "code",
      "source": [
        "lista_parametro = [1,2,3,4,5]"
      ],
      "metadata": {
        "id": "gF0MEZeK1DWw"
      },
      "execution_count": null,
      "outputs": []
    },
    {
      "cell_type": "code",
      "source": [
        "def soma_dos_elementos(lista_qualquer):     # Note que aqui, podemos escrever no parâmetro, algo mais intuitivo, bom para o leitor/usuário. \n",
        "  soma = 0\n",
        "  for i in lista_parametro:\n",
        "    soma += i \n",
        "  return soma"
      ],
      "metadata": {
        "id": "lovbYoHw1DZK"
      },
      "execution_count": null,
      "outputs": []
    },
    {
      "cell_type": "code",
      "source": [
        "soma_dos_elementos(lista_parametro)        # E aqui, chamamos uma lista, ja definida e então a função irá funcionar em cima dela, da maneira que pedimos. \n",
        "                                           # Neste exercicio, o funcionamento da função da-se-por somar todos os itens da lista. "
      ],
      "metadata": {
        "colab": {
          "base_uri": "https://localhost:8080/"
        },
        "id": "FUS4mt8z1DrF",
        "outputId": "5f9227cb-2e85-4441-dd57-32a8310c18c4"
      },
      "execution_count": null,
      "outputs": [
        {
          "output_type": "execute_result",
          "data": {
            "text/plain": [
              "15"
            ]
          },
          "metadata": {},
          "execution_count": 127
        }
      ]
    },
    {
      "cell_type": "markdown",
      "source": [
        "16) ESCREVA UMA FUNÇÃO PARA MULTIPLICAR TODOS OS NÚMEROS EM UMA L ISTA"
      ],
      "metadata": {
        "id": "Vyl-M-L5YsRp"
      }
    },
    {
      "cell_type": "code",
      "source": [
        "def multiplica_elementos_lista(lista_qualquer):\n",
        "  multiplica = 1 \n",
        "  for i in lista_parametro:\n",
        "    multiplica *= i \n",
        "  return multiplica"
      ],
      "metadata": {
        "id": "k2y9xGt91DtS"
      },
      "execution_count": null,
      "outputs": []
    },
    {
      "cell_type": "code",
      "source": [
        "multiplica_elementos_lista(lista_parametro)"
      ],
      "metadata": {
        "colab": {
          "base_uri": "https://localhost:8080/"
        },
        "id": "fgLbZxxv3nHT",
        "outputId": "f54df5b3-e824-4ee8-d6dd-4b970ba6c11d"
      },
      "execution_count": null,
      "outputs": [
        {
          "output_type": "execute_result",
          "data": {
            "text/plain": [
              "120"
            ]
          },
          "metadata": {},
          "execution_count": 133
        }
      ]
    },
    {
      "cell_type": "markdown",
      "source": [
        "17) ESCREVA UMA FUNÇÃO PARA VERIFICAR SE UM NÚMERO ESTÁ EM UM DETERMINADO\n",
        "INTERVALO."
      ],
      "metadata": {
        "id": "bGxU0NR7YsXq"
      }
    },
    {
      "cell_type": "code",
      "source": [
        "def verifica_intervalo(valor, inicio, fim):\n",
        "  if valor in range(inicio, fim + 1):\n",
        "    return(f\"O numero {valor} esta no intervalo \")\n",
        "  else:\n",
        "    return(\"Este numero não esta no intervalo\")\n"
      ],
      "metadata": {
        "id": "Hmd5zJIO3nMQ"
      },
      "execution_count": null,
      "outputs": []
    },
    {
      "cell_type": "code",
      "source": [
        "verifica_intervalo(8,0,100)"
      ],
      "metadata": {
        "colab": {
          "base_uri": "https://localhost:8080/",
          "height": 35
        },
        "id": "OC757v1W3nJq",
        "outputId": "f491ad9b-be9e-4f30-81a8-39a2b8352560"
      },
      "execution_count": null,
      "outputs": [
        {
          "output_type": "execute_result",
          "data": {
            "application/vnd.google.colaboratory.intrinsic+json": {
              "type": "string"
            },
            "text/plain": [
              "'O numero 8 esta no intervalo '"
            ]
          },
          "metadata": {},
          "execution_count": 136
        }
      ]
    },
    {
      "cell_type": "markdown",
      "source": [
        "18) ESCREVA UM PROGRAMA PARA IMPRIMIR OS NÚMEROS PARES DE UMA DETERMINADA LISTA"
      ],
      "metadata": {
        "id": "ITv_t87iYsdL"
      }
    },
    {
      "cell_type": "code",
      "source": [
        "def imprime_par_da_lista(qualquer_lista):\n",
        "  lista_resultado = [] # Não tinha pensado na possibilidade de criar uma lista, para armazenar o resultado. Isso resolve o problema. \n",
        "  for i in (qualquer_lista):   # Logo, para os valores de uma lista parâmetro.\n",
        "    if (i % 2 == 0):           # Caso o i for par \n",
        "      lista_resultado.append(i) # Adicione este i, a lista de resultado. \n",
        "  return lista_resultado        # E por fim, retorne a lista com os resultados, neste caso, os \"i\" pares.\n",
        "\n",
        "    \n"
      ],
      "metadata": {
        "id": "LT4QNKsw-UfR"
      },
      "execution_count": null,
      "outputs": []
    },
    {
      "cell_type": "code",
      "source": [
        "lista_par = [1,2,3,4,5,6,7,8,9,10]"
      ],
      "metadata": {
        "id": "wdkZJpTxBzUo"
      },
      "execution_count": null,
      "outputs": []
    },
    {
      "cell_type": "code",
      "source": [
        "imprime_par_da_lista(lista_par)"
      ],
      "metadata": {
        "colab": {
          "base_uri": "https://localhost:8080/"
        },
        "id": "87D7sfTB-UnR",
        "outputId": "f7e384d0-6c9e-4810-9089-8da21ec013a0"
      },
      "execution_count": null,
      "outputs": [
        {
          "output_type": "execute_result",
          "data": {
            "text/plain": [
              "[2, 4, 6, 8, 10]"
            ]
          },
          "metadata": {},
          "execution_count": 157
        }
      ]
    },
    {
      "cell_type": "markdown",
      "source": [
        "19) ESCREVA UMA FUNÇÃO PARA CRIAR E IMPRIMIR UMA LISTA ONDE OS VALORES SÃO\n",
        "QUADRADOS DE NÚMEROS ENTRE 1 E 30 (AMBOS INCLUÍDOS)."
      ],
      "metadata": {
        "id": "IImI7h0TYsi8"
      }
    },
    {
      "cell_type": "code",
      "source": [
        "def imprime_quadrados(lista5):\n",
        "  lista_quadrados = []\n",
        "  for i in range(1, 30 + 1 , 1):\n",
        "    i = i ** 2 \n",
        "    lista_quadrados.append(i)\n",
        "  return  print(lista_quadrados)\n"
      ],
      "metadata": {
        "id": "KbhyPXqWDb0H"
      },
      "execution_count": null,
      "outputs": []
    },
    {
      "cell_type": "code",
      "source": [
        "lista5 = []"
      ],
      "metadata": {
        "id": "9uNi6AGRExSF"
      },
      "execution_count": null,
      "outputs": []
    },
    {
      "cell_type": "code",
      "source": [
        "imprime_quadrados(lista5)"
      ],
      "metadata": {
        "colab": {
          "base_uri": "https://localhost:8080/"
        },
        "id": "KALZgg2BDb2i",
        "outputId": "a0645168-bf22-467a-a6b7-62f2f382d935"
      },
      "execution_count": null,
      "outputs": [
        {
          "output_type": "stream",
          "name": "stdout",
          "text": [
            "[1, 4, 9, 16, 25, 36, 49, 64, 81, 100, 121, 144, 169, 196, 225, 256, 289, 324, 361, 400, 441, 484, 529, 576, 625, 676, 729, 784, 841, 900]\n"
          ]
        }
      ]
    },
    {
      "cell_type": "markdown",
      "source": [
        "20) ESCREVA UM PROGRAMA PARA DETECTAR O NÚMERO DE VARIÁVEIS LOCAIS DECLARADAS\n",
        "EM UMA FUNÇÃO"
      ],
      "metadata": {
        "id": "-pY2uIrnYsoq"
      }
    },
    {
      "cell_type": "code",
      "source": [
        "# Para resolver este problema, precisamos utilizar um método, \"nome_função.__code__.co_nlocals)\". Este método, irá contar e retornar o numero de variaveis locais \n",
        "# que existem dentro da função escrita. "
      ],
      "metadata": {
        "id": "JqBr-lsvrsbC"
      },
      "execution_count": null,
      "outputs": []
    },
    {
      "cell_type": "code",
      "source": [
        "def detectar_numero_variaveis(): \n",
        "  soma = 20\n",
        "  contador = 40 \n",
        "  subtração = 50 "
      ],
      "metadata": {
        "id": "y0rxkk6MrsdO"
      },
      "execution_count": null,
      "outputs": []
    },
    {
      "cell_type": "code",
      "source": [
        "print(detectar_numero_variaveis.__code__.co_nlocals)"
      ],
      "metadata": {
        "colab": {
          "base_uri": "https://localhost:8080/"
        },
        "id": "-F6yvnE0rsfm",
        "outputId": "14ad81eb-bf3c-45b1-b3c2-fa250b0f8ed1"
      },
      "execution_count": null,
      "outputs": [
        {
          "output_type": "stream",
          "name": "stdout",
          "text": [
            "3\n"
          ]
        }
      ]
    },
    {
      "cell_type": "markdown",
      "source": [
        "# Vamos entender a diferença entre uma variável global, e uma variável local ! "
      ],
      "metadata": {
        "id": "AsJyrbIAto5G"
      }
    },
    {
      "cell_type": "code",
      "source": [
        "soma = 10 "
      ],
      "metadata": {
        "id": "g8WUwcs_X7Fc"
      },
      "execution_count": null,
      "outputs": []
    },
    {
      "cell_type": "code",
      "source": [
        "print(soma)"
      ],
      "metadata": {
        "colab": {
          "base_uri": "https://localhost:8080/"
        },
        "id": "lNv2azExpud3",
        "outputId": "b8bf0932-4ec3-44bd-da2a-f5e36cb4e67c"
      },
      "execution_count": null,
      "outputs": [
        {
          "output_type": "stream",
          "name": "stdout",
          "text": [
            "10\n"
          ]
        }
      ]
    },
    {
      "cell_type": "code",
      "source": [
        "def multiplica(x,y):\n",
        "  return x * y + soma"
      ],
      "metadata": {
        "id": "z_e0lch4pwWk"
      },
      "execution_count": null,
      "outputs": []
    },
    {
      "cell_type": "code",
      "source": [
        "multiplica (8,2)"
      ],
      "metadata": {
        "colab": {
          "base_uri": "https://localhost:8080/"
        },
        "id": "OJP_tQfUpxAf",
        "outputId": "4f599903-e29d-4b3c-aa35-a69c7a1a4625"
      },
      "execution_count": null,
      "outputs": [
        {
          "output_type": "execute_result",
          "data": {
            "text/plain": [
              "26"
            ]
          },
          "metadata": {},
          "execution_count": 4
        }
      ]
    },
    {
      "cell_type": "code",
      "source": [
        "# Note que, mesmo que tenhamos definido a variável soma, fora da minha função, a função a reconhece. Fato esse, comprova que a variável soma \n",
        "# é uma variável Global, isto é, uma variável que é reconhecida por todo o meu código. "
      ],
      "metadata": {
        "id": "mJbhAnvVpxCc"
      },
      "execution_count": null,
      "outputs": []
    },
    {
      "cell_type": "code",
      "source": [
        "# Agora observe este exemplo \n",
        "def sub(x,y):\n",
        "  contador = 10\n",
        "  return x - y"
      ],
      "metadata": {
        "id": "CgcNnJ0-pxE3"
      },
      "execution_count": null,
      "outputs": []
    },
    {
      "cell_type": "code",
      "source": [
        "sub(8,2)"
      ],
      "metadata": {
        "colab": {
          "base_uri": "https://localhost:8080/"
        },
        "id": "lxASWz3lpxG4",
        "outputId": "bc510634-2254-464f-d8d1-3b0a95477b94"
      },
      "execution_count": null,
      "outputs": [
        {
          "output_type": "execute_result",
          "data": {
            "text/plain": [
              "6"
            ]
          },
          "metadata": {},
          "execution_count": 6
        }
      ]
    },
    {
      "cell_type": "code",
      "source": [
        "# Note que deu tudo certo, criamos uma variável local(contador), isto é, localizada dentro da função. Porém, o importante disso é que se na linha de código \n",
        "# abaixo eu chamar essa variável contador, o computador irá retornar um erro, dizendo que a variavel contador não foi definida ainda. \n",
        "# Em suma, as variáveis que foram criadas fora da função, podem ser aplicadas dentro da mesma. Noutro viés, se criarmos uma variável dentro \n",
        "# de uma função, e tentarmos utiliza-la do lado de fora, não funcionará. "
      ],
      "metadata": {
        "id": "fTTJY7SlqmVS"
      },
      "execution_count": null,
      "outputs": []
    },
    {
      "cell_type": "code",
      "source": [
        "# Isso irá retornar um erro \n",
        "print(contador)"
      ],
      "metadata": {
        "id": "fshAPNhcqmW_"
      },
      "execution_count": null,
      "outputs": []
    },
    {
      "cell_type": "markdown",
      "source": [
        "FIM do capítulo destravando programação ! Só progresso \n"
      ],
      "metadata": {
        "id": "7EZ24fQBtt-9"
      }
    }
  ]
}