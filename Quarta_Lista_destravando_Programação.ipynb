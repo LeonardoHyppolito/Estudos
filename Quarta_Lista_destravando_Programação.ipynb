{
  "nbformat": 4,
  "nbformat_minor": 0,
  "metadata": {
    "colab": {
      "name": "Quarta Lista - destravando Programação",
      "provenance": [],
      "authorship_tag": "ABX9TyOh/ICOAaIsCBej4ehLmAb/",
      "include_colab_link": true
    },
    "kernelspec": {
      "name": "python3",
      "display_name": "Python 3"
    },
    "language_info": {
      "name": "python"
    }
  },
  "cells": [
    {
      "cell_type": "markdown",
      "metadata": {
        "id": "view-in-github",
        "colab_type": "text"
      },
      "source": [
        "<a href=\"https://colab.research.google.com/github/LeonardoHyppolito/Estudos/blob/main/Quarta_Lista_destravando_Programa%C3%A7%C3%A3o.ipynb\" target=\"_parent\"><img src=\"https://colab.research.google.com/assets/colab-badge.svg\" alt=\"Open In Colab\"/></a>"
      ]
    },
    {
      "cell_type": "markdown",
      "source": [
        "Nesta Quarta lista, a ideia é apresentar a ideia de coleções. Vamos ver as listas, as tuplas, e os dicionarios. \n",
        "\n",
        "\n",
        "\n"
      ],
      "metadata": {
        "id": "yIM4jLjjmIG_"
      }
    },
    {
      "cell_type": "markdown",
      "source": [
        "INTRODUÇÂO"
      ],
      "metadata": {
        "id": "mdDHI3ohpD-F"
      }
    },
    {
      "cell_type": "markdown",
      "source": [
        "LISTAS"
      ],
      "metadata": {
        "id": "TTwRGbT1n4Tt"
      }
    },
    {
      "cell_type": "code",
      "source": [
        "lista_de_mercado = [\"leite\", \"pão\", \"arroz\", \"feijão\"]\n",
        "print(lista_de_mercado)\n",
        "type(lista_de_mercado) # É legal notar que list também é um tipo de dados, assim como inteiros e floats. "
      ],
      "metadata": {
        "colab": {
          "base_uri": "https://localhost:8080/"
        },
        "id": "nJgb_aYRoX_A",
        "outputId": "6dfd570a-1dc3-45c3-ee95-68fd0dcbda50"
      },
      "execution_count": null,
      "outputs": [
        {
          "output_type": "stream",
          "name": "stdout",
          "text": [
            "['leite', 'pão', 'arroz', 'feijão']\n"
          ]
        },
        {
          "output_type": "execute_result",
          "data": {
            "text/plain": [
              "list"
            ]
          },
          "metadata": {},
          "execution_count": 1
        }
      ]
    },
    {
      "cell_type": "code",
      "source": [
        "type([]) # OS colchetes vazios, ja são suficientes para python reconhecer que isto é um objeto do tipo lista. "
      ],
      "metadata": {
        "colab": {
          "base_uri": "https://localhost:8080/"
        },
        "id": "G-65vjRjpWlg",
        "outputId": "fc84dda3-ea21-4b38-94be-4433382842c0"
      },
      "execution_count": null,
      "outputs": [
        {
          "output_type": "execute_result",
          "data": {
            "text/plain": [
              "list"
            ]
          },
          "metadata": {},
          "execution_count": 2
        }
      ]
    },
    {
      "cell_type": "code",
      "source": [
        "lista3  = list(range(11))\n",
        "print(lista3) # Podemos usar o comando list, para criar uma lista, e podemos usar o conceito de range, que aprendemos na LISTA 3, para criar a lista. "
      ],
      "metadata": {
        "colab": {
          "base_uri": "https://localhost:8080/"
        },
        "id": "9b-8ZicepigA",
        "outputId": "d8d43576-bc21-4a31-eedc-6524f080ded7"
      },
      "execution_count": null,
      "outputs": [
        {
          "output_type": "stream",
          "name": "stdout",
          "text": [
            "[0, 1, 2, 3, 4, 5, 6, 7, 8, 9, 10]\n"
          ]
        }
      ]
    },
    {
      "cell_type": "code",
      "source": [
        "nome = \"Leonardo Hyppolito\"\n",
        "lista4 = list(nome) # Assim como no exemplo a cima utilizamos o range entre parenteses para ditar o tamanho da lista, podemos fazer o mesmo com uma variavel\n",
        "                    # e no caso dessa variavel ser do tipo string, cada caractere da string, se transformará em um elemento da lista.\n",
        "print(lista4)"
      ],
      "metadata": {
        "colab": {
          "base_uri": "https://localhost:8080/"
        },
        "id": "uFfTlM_bqQ8I",
        "outputId": "e337450d-1663-4cb0-f34a-c2460fd83085"
      },
      "execution_count": null,
      "outputs": [
        {
          "output_type": "stream",
          "name": "stdout",
          "text": [
            "['L', 'e', 'o', 'n', 'a', 'r', 'd', 'o', ' ', 'H', 'y', 'p', 'p', 'o', 'l', 'i', 't', 'o']\n"
          ]
        }
      ]
    },
    {
      "cell_type": "code",
      "source": [
        "lista4[0]      # Neste comando, estamos passando o indice, isto é, o elemento dentro da lista que buscamos dentro do colchetes.Logo, nesse exemplo, o computador irá \n",
        "                  # me retorna o primeiro item da lista (indice zero \"L\"), uma vez que python sempre começa a contar do zero. "
      ],
      "metadata": {
        "colab": {
          "base_uri": "https://localhost:8080/",
          "height": 35
        },
        "id": "mP9l0CbDzYCC",
        "outputId": "ecbd9ffb-a787-42f1-d22c-829cdf8ef0a7"
      },
      "execution_count": null,
      "outputs": [
        {
          "output_type": "execute_result",
          "data": {
            "application/vnd.google.colaboratory.intrinsic+json": {
              "type": "string"
            },
            "text/plain": [
              "'L'"
            ]
          },
          "metadata": {},
          "execution_count": 5
        }
      ]
    },
    {
      "cell_type": "code",
      "source": [
        "tamanho_lista = len(lista4)                   # Len, é a palavra reservada para descobrir o tamanho de alguma coisa.\n",
        "print(f\"O tamanho da lista é {tamanho_lista}\")"
      ],
      "metadata": {
        "colab": {
          "base_uri": "https://localhost:8080/"
        },
        "id": "fQW3K_u6z4nf",
        "outputId": "1a8669e1-2095-45b2-be94-62339ca8b75e"
      },
      "execution_count": null,
      "outputs": [
        {
          "output_type": "stream",
          "name": "stdout",
          "text": [
            "O tamanho da lista é 18\n"
          ]
        }
      ]
    },
    {
      "cell_type": "code",
      "source": [
        "# Conferindo se um determinado valor, esta dentro de uma lista.\n",
        "num = 4\n",
        "print(lista3)\n",
        "if (num in lista3):\n",
        "  print(\"Esta na lista \")\n",
        "else:\n",
        "  print(\"Não esta na lista\")"
      ],
      "metadata": {
        "colab": {
          "base_uri": "https://localhost:8080/"
        },
        "id": "446o8T_uz4uO",
        "outputId": "d0b263e3-7616-473c-eb6a-035e8bbbf455"
      },
      "execution_count": null,
      "outputs": [
        {
          "output_type": "stream",
          "name": "stdout",
          "text": [
            "[0, 1, 2, 3, 4, 5, 6, 7, 8, 9, 10]\n",
            "Esta na lista \n"
          ]
        }
      ]
    },
    {
      "cell_type": "code",
      "source": [
        "print(lista_de_mercado)\n",
        "#Existe um comando em python para ordenar em ordem alfabética --> \".sort()\" é a palavra reservada para este comando. \n",
        "lista_de_mercado.sort()\n",
        "print(lista_de_mercado)\n",
        "# Quando estamos utilizando algo que é pronto, como é o caso do \"sort()\", nós acessamos esse comando com um ponto. "
      ],
      "metadata": {
        "id": "Ez87pLWF10nU",
        "colab": {
          "base_uri": "https://localhost:8080/"
        },
        "outputId": "c08b8ebf-f423-4de1-aefd-9f9afa18870e"
      },
      "execution_count": null,
      "outputs": [
        {
          "output_type": "stream",
          "name": "stdout",
          "text": [
            "['leite', 'pão', 'arroz', 'feijão']\n",
            "['arroz', 'feijão', 'leite', 'pão']\n"
          ]
        }
      ]
    },
    {
      "cell_type": "code",
      "source": [
        "# Vamos supor que eu coloquei um nome duplicado em uma lista, como resolver ?\n",
        "lista_de_aniversario = [\"João\", \"maria\", \"joaquina\",\"João\", \"Francisco\"]\n",
        "print(lista_de_aniversario)\n",
        "\n",
        "\n"
      ],
      "metadata": {
        "id": "mHlDCB_5xbcf",
        "colab": {
          "base_uri": "https://localhost:8080/"
        },
        "outputId": "bfd97625-915e-4bbd-b231-0f1a069d1db5"
      },
      "execution_count": null,
      "outputs": [
        {
          "output_type": "stream",
          "name": "stdout",
          "text": [
            "['João', 'maria', 'joaquina', 'João', 'Francisco']\n"
          ]
        }
      ]
    },
    {
      "cell_type": "code",
      "source": [
        "#Contando quantas vezes um determinado valor aparece na lista \n",
        "print(lista_de_aniversario.count(\"João\"))\n",
        "# Se eu tivesse passado um joao com J maiusculo e um joao com j minusculo, dentro da lista, o count só teria encontrado 1 joao. "
      ],
      "metadata": {
        "id": "h2e1YH8Yxbmu",
        "colab": {
          "base_uri": "https://localhost:8080/"
        },
        "outputId": "7254a3c2-4e76-4f91-d4e5-a4a288cd8fd0"
      },
      "execution_count": null,
      "outputs": [
        {
          "output_type": "stream",
          "name": "stdout",
          "text": [
            "2\n"
          ]
        }
      ]
    },
    {
      "cell_type": "code",
      "source": [
        "lista_de_aniversario.append(\"Victor\") # O metodo .append() adiciona um valor por vez na lista, na ultima posição.  \n",
        "print(lista_de_aniversario)"
      ],
      "metadata": {
        "colab": {
          "base_uri": "https://localhost:8080/"
        },
        "id": "ty2sSd7a46vJ",
        "outputId": "0e84324c-be54-4de7-d558-1b5b4dab865a"
      },
      "execution_count": null,
      "outputs": [
        {
          "output_type": "stream",
          "name": "stdout",
          "text": [
            "['João', 'maria', 'joaquina', 'João', 'Francisco', 'Victor']\n"
          ]
        }
      ]
    },
    {
      "cell_type": "code",
      "source": [
        "lista_de_mercado.append(\"Chocolate\")"
      ],
      "metadata": {
        "id": "Lwa3CP0X5FmJ"
      },
      "execution_count": null,
      "outputs": []
    },
    {
      "cell_type": "code",
      "source": [
        "print(lista_de_mercado)"
      ],
      "metadata": {
        "colab": {
          "base_uri": "https://localhost:8080/"
        },
        "id": "FH5_P0kO5FoV",
        "outputId": "ae862b75-5f8d-4412-82a3-1f95a6f8b949"
      },
      "execution_count": null,
      "outputs": [
        {
          "output_type": "stream",
          "name": "stdout",
          "text": [
            "['arroz', 'feijão', 'leite', 'pão', 'Chocolate']\n"
          ]
        }
      ]
    },
    {
      "cell_type": "markdown",
      "source": [
        "1) ESCREVA UM PROGRAMA PARA SOMAR TODOS OS ITENS EM UMA LISTA."
      ],
      "metadata": {
        "id": "h0pyOT9Ad1I9"
      }
    },
    {
      "cell_type": "code",
      "source": [
        "lista_de_entrada = [1,2,3,4,5,6,7]\n",
        "type(lista_de_entrada)"
      ],
      "metadata": {
        "id": "uQbSptVOoYFt",
        "colab": {
          "base_uri": "https://localhost:8080/"
        },
        "outputId": "1ebc24d5-1fc6-42ef-d8aa-7675e210a142"
      },
      "execution_count": null,
      "outputs": [
        {
          "output_type": "execute_result",
          "data": {
            "text/plain": [
              "list"
            ]
          },
          "metadata": {},
          "execution_count": 14
        }
      ]
    },
    {
      "cell_type": "code",
      "source": [
        "soma = 0 \n",
        "for i in (lista_de_entrada):\n",
        "  soma = i + soma\n",
        "print(f\"A soma é {soma}\")"
      ],
      "metadata": {
        "colab": {
          "base_uri": "https://localhost:8080/"
        },
        "id": "3H2zk5o353xS",
        "outputId": "c04bf3db-106a-421c-ad5e-f74f292244a6"
      },
      "execution_count": null,
      "outputs": [
        {
          "output_type": "stream",
          "name": "stdout",
          "text": [
            "A soma é 28\n"
          ]
        }
      ]
    },
    {
      "cell_type": "markdown",
      "source": [
        "2) ESCREVA UM PROGRAMA PARA MULTIPLICAR TODOS OS ITENS DE UMA LISTA\n",
        "\n",
        "*   Item da lista\n",
        "*   Item da lista\n",
        "\n"
      ],
      "metadata": {
        "id": "FZOXPWMxd1Zq"
      }
    },
    {
      "cell_type": "code",
      "source": [
        "print(lista_de_entrada)"
      ],
      "metadata": {
        "colab": {
          "base_uri": "https://localhost:8080/"
        },
        "id": "IWuSM_T4778B",
        "outputId": "cffbb727-5853-4b8a-873e-2a775ebb9027"
      },
      "execution_count": null,
      "outputs": [
        {
          "output_type": "stream",
          "name": "stdout",
          "text": [
            "[1, 2, 3, 4, 5, 6, 7]\n"
          ]
        }
      ]
    },
    {
      "cell_type": "code",
      "source": [
        "multiplica = 1 # Aqui temos um problema de logica, pois quando optamos por zerar o multiplica, ele zera toda a operação, uma solução é colocar o 1. \n",
        "for i in lista_de_entrada:\n",
        "  multiplica *= i                              # Pense: Qual o numero que sempre que eu multiplicar por ele, o resultado sera o valor multiplicado por ele ? 1\n",
        "print(f\"O resultado da multiplicação é {multiplica}\")"
      ],
      "metadata": {
        "colab": {
          "base_uri": "https://localhost:8080/"
        },
        "id": "nvPLVN1x8iXy",
        "outputId": "1c343336-3025-495d-c860-0f94529d7c56"
      },
      "execution_count": null,
      "outputs": [
        {
          "output_type": "stream",
          "name": "stdout",
          "text": [
            "O resultado da multiplicação é 5040\n"
          ]
        }
      ]
    },
    {
      "cell_type": "markdown",
      "source": [
        "3) ESCREVA UM PROGRAMA PARA OBTER O MAIOR NÚMERO DE UMA L ISTA"
      ],
      "metadata": {
        "id": "ArFyJhhmd1ca"
      }
    },
    {
      "cell_type": "code",
      "source": [
        "print(lista_de_entrada)"
      ],
      "metadata": {
        "id": "NEUEQ2kR8idw",
        "colab": {
          "base_uri": "https://localhost:8080/"
        },
        "outputId": "96e6dd2e-ff89-4b52-e3be-5c38fe823276"
      },
      "execution_count": null,
      "outputs": [
        {
          "output_type": "stream",
          "name": "stdout",
          "text": [
            "[1, 2, 3, 4, 5, 6, 7]\n"
          ]
        }
      ]
    },
    {
      "cell_type": "code",
      "source": [
        "maior_valor = max(lista_de_entrada) # O comando max(), é a solução para problemos que envolvam descobrir o maior número. \n",
        "print(f\"O maior valor é {maior_valor}\")"
      ],
      "metadata": {
        "colab": {
          "base_uri": "https://localhost:8080/"
        },
        "id": "WooaJ6BO-ORW",
        "outputId": "cf44d27c-4fc5-472e-c7c4-4d88c40268cd"
      },
      "execution_count": null,
      "outputs": [
        {
          "output_type": "stream",
          "name": "stdout",
          "text": [
            "O maior valor é 7\n"
          ]
        }
      ]
    },
    {
      "cell_type": "markdown",
      "source": [
        "4) ESCREVA UM PROGRAMA PARA OBTER O MENOR NÚMERO DE UMA L ISTA.\n"
      ],
      "metadata": {
        "id": "HsdqCbwGd1el"
      }
    },
    {
      "cell_type": "code",
      "source": [
        "minimo_valor = min(lista_de_entrada)  # O comando \"min()\" é a solução para problemas que envolvam descobrir o menor número. \n",
        "print(f\"O menor valor da lista {minimo_valor}\")"
      ],
      "metadata": {
        "colab": {
          "base_uri": "https://localhost:8080/"
        },
        "id": "DWfXW5bQ-OzD",
        "outputId": "1561400d-0646-4ee9-a3eb-df7cc88742d3"
      },
      "execution_count": null,
      "outputs": [
        {
          "output_type": "stream",
          "name": "stdout",
          "text": [
            "O menor valor da lista 1\n"
          ]
        }
      ]
    },
    {
      "cell_type": "markdown",
      "source": [
        "5) ESCREVA UM PROGRAMA PARA REMOVER DUPLICATAS DE UMA LISTA.\n",
        "\n",
        "---\n",
        "\n"
      ],
      "metadata": {
        "id": "73EOI7Bjd1jq"
      }
    },
    {
      "cell_type": "code",
      "source": [
        "l = [1,1,2,2,3,3,4,5,6]\n",
        "type(l)"
      ],
      "metadata": {
        "colab": {
          "base_uri": "https://localhost:8080/"
        },
        "id": "Zw6WTHOB_hGD",
        "outputId": "a36a7d6e-ed7b-4450-b03d-ad962d536f62"
      },
      "execution_count": null,
      "outputs": [
        {
          "output_type": "execute_result",
          "data": {
            "text/plain": [
              "list"
            ]
          },
          "metadata": {},
          "execution_count": 21
        }
      ]
    },
    {
      "cell_type": "code",
      "source": [
        "# Vamos utilizar os conjuntos (que é pouco utilizado), porém para fim  didático pode ser interessante. A palavra reservada para conjunto é a palavra \"set\" \n",
        "remove_duplicatas = set(l)   # Neste caso, o comando \"set()\" resolve bem o problema, pois ele transforma a lista em um conjunto (set), que por definição não pode \n",
        "print(remove_duplicatas)     # ter duplicatas. "
      ],
      "metadata": {
        "colab": {
          "base_uri": "https://localhost:8080/"
        },
        "id": "DHjZk8HU_hYK",
        "outputId": "ae47a84e-9114-45ec-a11f-b674205eff97"
      },
      "execution_count": null,
      "outputs": [
        {
          "output_type": "stream",
          "name": "stdout",
          "text": [
            "{1, 2, 3, 4, 5, 6}\n"
          ]
        }
      ]
    },
    {
      "cell_type": "code",
      "source": [
        "type(remove_duplicatas) # Ao passar o \"set\", as duplicatas foram removidas, porém a variavel passou a ser do tipo set. Logo, vamos fazer com que volte a ser \n",
        "                        # do tipo list."
      ],
      "metadata": {
        "colab": {
          "base_uri": "https://localhost:8080/"
        },
        "id": "kvqnJF4TAl-q",
        "outputId": "497f80f4-f107-445c-fe20-bc8773a91a86"
      },
      "execution_count": null,
      "outputs": [
        {
          "output_type": "execute_result",
          "data": {
            "text/plain": [
              "set"
            ]
          },
          "metadata": {},
          "execution_count": 23
        }
      ]
    },
    {
      "cell_type": "code",
      "source": [
        "lista_sem_duplicatas = list(remove_duplicatas)  # Interessante a idéia de ir \"trocando\" o nome da variável inicial, para resolver o problema. "
      ],
      "metadata": {
        "id": "heMUwaSxAp_Z"
      },
      "execution_count": null,
      "outputs": []
    },
    {
      "cell_type": "code",
      "source": [
        "print(lista_sem_duplicatas)\n",
        "type(lista_sem_duplicatas)"
      ],
      "metadata": {
        "colab": {
          "base_uri": "https://localhost:8080/"
        },
        "id": "g8IQL1GUBoVk",
        "outputId": "d9de669c-4a20-4e3b-eb4a-c89f1b5e2463"
      },
      "execution_count": null,
      "outputs": [
        {
          "output_type": "stream",
          "name": "stdout",
          "text": [
            "[1, 2, 3, 4, 5, 6]\n"
          ]
        },
        {
          "output_type": "execute_result",
          "data": {
            "text/plain": [
              "list"
            ]
          },
          "metadata": {},
          "execution_count": 25
        }
      ]
    },
    {
      "cell_type": "markdown",
      "source": [
        "6) ESCREVA UM PROGRAMA PARA COPIAR UMA LISTA PARA OUTRA."
      ],
      "metadata": {
        "id": "VPiXiwUud1me"
      }
    },
    {
      "cell_type": "code",
      "source": [
        "print(lista_de_aniversario)"
      ],
      "metadata": {
        "colab": {
          "base_uri": "https://localhost:8080/"
        },
        "id": "rwN48Tf-CRqk",
        "outputId": "071c2606-adc9-4d00-e0cb-468f81269b5f"
      },
      "execution_count": null,
      "outputs": [
        {
          "output_type": "stream",
          "name": "stdout",
          "text": [
            "['João', 'maria', 'joaquina', 'João', 'Francisco', 'Victor']\n"
          ]
        }
      ]
    },
    {
      "cell_type": "code",
      "source": [
        "# Para tirar um \"xerox\" em python, de uma lista utilizamos a palavra \".copy()\"\n",
        "lista_para_buffet = lista_de_aniversario.copy()\n",
        "print(lista_para_buffet)"
      ],
      "metadata": {
        "colab": {
          "base_uri": "https://localhost:8080/"
        },
        "id": "hZ4mWuh2C4Mp",
        "outputId": "69228674-d4d1-4318-fb8d-5a4445244a9d"
      },
      "execution_count": null,
      "outputs": [
        {
          "output_type": "stream",
          "name": "stdout",
          "text": [
            "['João', 'maria', 'joaquina', 'João', 'Francisco', 'Victor']\n"
          ]
        }
      ]
    },
    {
      "cell_type": "code",
      "source": [
        "lista_para_mae = lista_para_buffet.copy()\n",
        "print(lista_para_mae)"
      ],
      "metadata": {
        "colab": {
          "base_uri": "https://localhost:8080/"
        },
        "id": "7cTV4pWWC4O8",
        "outputId": "9d9e6665-c7ce-48bd-89d7-456ce1e7e5e9"
      },
      "execution_count": null,
      "outputs": [
        {
          "output_type": "stream",
          "name": "stdout",
          "text": [
            "['João', 'maria', 'joaquina', 'João', 'Francisco', 'Victor']\n"
          ]
        }
      ]
    },
    {
      "cell_type": "markdown",
      "source": [
        "#Aumentando o vocabulário "
      ],
      "metadata": {
        "id": "G5BJ6dTwExEf"
      }
    },
    {
      "cell_type": "code",
      "source": [
        "lista_para_buffet.pop()\n",
        "# Esse comando retorna o ultimo nome da lista, e o remove da lista: \n",
        "print(lista_para_buffet)"
      ],
      "metadata": {
        "colab": {
          "base_uri": "https://localhost:8080/"
        },
        "id": "rI628tXJE9DR",
        "outputId": "0cc8b843-f082-4bde-c751-dc57b9af9caa"
      },
      "execution_count": null,
      "outputs": [
        {
          "output_type": "stream",
          "name": "stdout",
          "text": [
            "['João', 'maria', 'joaquina', 'João', 'Francisco']\n"
          ]
        }
      ]
    },
    {
      "cell_type": "code",
      "source": [
        "lista_do_irmao = [\"paula\", \"joão\", \"andre\"]\n",
        "print(lista_do_irmao)"
      ],
      "metadata": {
        "colab": {
          "base_uri": "https://localhost:8080/"
        },
        "id": "GmYZcdrSE9FO",
        "outputId": "16dc539a-284b-4501-9850-2fd1d84c5194"
      },
      "execution_count": null,
      "outputs": [
        {
          "output_type": "stream",
          "name": "stdout",
          "text": [
            "['paula', 'joão', 'andre']\n"
          ]
        }
      ]
    },
    {
      "cell_type": "code",
      "source": [
        "# Agora vamos somar a lista de convidados que eu criei, junto com a lista do meu irmao.\n",
        "lista_total = lista_de_aniversario + lista_do_irmao\n",
        "print(lista_total)"
      ],
      "metadata": {
        "colab": {
          "base_uri": "https://localhost:8080/"
        },
        "id": "TWtuq1z0FrMI",
        "outputId": "7325ae35-86de-46e7-99e0-0beda0b288a3"
      },
      "execution_count": null,
      "outputs": [
        {
          "output_type": "stream",
          "name": "stdout",
          "text": [
            "['João', 'maria', 'joaquina', 'João', 'Francisco', 'Victor', 'paula', 'joão', 'andre']\n"
          ]
        }
      ]
    },
    {
      "cell_type": "code",
      "source": [
        "# Podemos usar também, o \".extend\", que faz a mesma coisa que o soma. \n",
        "lista_do_irmao.extend(lista_de_aniversario)\n",
        "print(lista_de_aniversario)"
      ],
      "metadata": {
        "id": "daM2eqKzFrOe",
        "colab": {
          "base_uri": "https://localhost:8080/"
        },
        "outputId": "caf5a1c3-64d0-46b7-b126-580ecd9fc2c5"
      },
      "execution_count": null,
      "outputs": [
        {
          "output_type": "stream",
          "name": "stdout",
          "text": [
            "['João', 'maria', 'joaquina', 'João', 'Francisco', 'Victor']\n"
          ]
        }
      ]
    },
    {
      "cell_type": "code",
      "source": [
        "# Podemos descobrir a posição de um valor, de uma dada lista. Para isso, utilizamos o comando \"index()\"\n",
        "print(lista_de_aniversario.index(\"maria\"))"
      ],
      "metadata": {
        "id": "K3COcGjxFrRG",
        "colab": {
          "base_uri": "https://localhost:8080/"
        },
        "outputId": "b78e92b3-38fa-4fea-b7ca-30aea7ffdf76"
      },
      "execution_count": null,
      "outputs": [
        {
          "output_type": "stream",
          "name": "stdout",
          "text": [
            "1\n"
          ]
        }
      ]
    },
    {
      "cell_type": "markdown",
      "source": [
        "7) ESCREVA UM PROGRAMA QUE RECEBA DUAS LISTAS E RETORNE TRUE SE ELAS TIVEREM PELO\n",
        "MENOS UM ELEMENTO EM COMUM."
      ],
      "metadata": {
        "id": "r9xrg966d1o7"
      }
    },
    {
      "cell_type": "code",
      "source": [
        "lista1 = [1,2,3,4,5]\n",
        "lista2 = [10,20,70,50,90]\n",
        "print(lista1)\n",
        "print(lista2)"
      ],
      "metadata": {
        "id": "IXYEVQC8FrZW",
        "colab": {
          "base_uri": "https://localhost:8080/"
        },
        "outputId": "97b9dd2d-54e0-4dfa-a398-439baff9425e"
      },
      "execution_count": null,
      "outputs": [
        {
          "output_type": "stream",
          "name": "stdout",
          "text": [
            "[1, 2, 3, 4, 5]\n",
            "[10, 20, 70, 50, 90]\n"
          ]
        }
      ]
    },
    {
      "cell_type": "code",
      "source": [
        "#Se precisamos descobrir os elementos incomum das duas listas, matematicamente estamos trabalhando a idéia de interseção. Existe um comando em \n",
        "#python que resolve este problema, \"intersection()\" porém para utiliza-lo é necessário que uma coleção seja do tipo conjunto. Logo, uma boa solução, é\n",
        "#transformar uma lista em set, e aplicar o método. "
      ],
      "metadata": {
        "id": "7Uu_FLRGFrXB"
      },
      "execution_count": null,
      "outputs": []
    },
    {
      "cell_type": "code",
      "source": [
        "lista1_conjunto = set(lista1)\n",
        "print(lista1)\n",
        "type(lista1_conjunto)"
      ],
      "metadata": {
        "id": "WTtMA2sRD--R",
        "colab": {
          "base_uri": "https://localhost:8080/"
        },
        "outputId": "66cad1a0-b2fb-4fe0-9b29-e2826ad996ad"
      },
      "execution_count": null,
      "outputs": [
        {
          "output_type": "stream",
          "name": "stdout",
          "text": [
            "[1, 2, 3, 4, 5]\n"
          ]
        },
        {
          "output_type": "execute_result",
          "data": {
            "text/plain": [
              "set"
            ]
          },
          "metadata": {},
          "execution_count": 36
        }
      ]
    },
    {
      "cell_type": "code",
      "source": [
        "elementos_incomum = lista1_conjunto.intersection(lista2)\n",
        "print(elementos_incomum)"
      ],
      "metadata": {
        "colab": {
          "base_uri": "https://localhost:8080/"
        },
        "id": "svCDQDYTlKXY",
        "outputId": "75482da1-03ae-439d-f5e9-d47b3f42b30c"
      },
      "execution_count": null,
      "outputs": [
        {
          "output_type": "stream",
          "name": "stdout",
          "text": [
            "set()\n"
          ]
        }
      ]
    },
    {
      "cell_type": "code",
      "source": [
        "if (elementos_incomum):\n",
        "  print(\"True\")\n",
        "else: \n",
        "  print(\"False\") "
      ],
      "metadata": {
        "colab": {
          "base_uri": "https://localhost:8080/"
        },
        "id": "M7YQlHVNlKkP",
        "outputId": "c1272c3b-e2b4-4eb3-aa58-9e297e08f7e0"
      },
      "execution_count": null,
      "outputs": [
        {
          "output_type": "stream",
          "name": "stdout",
          "text": [
            "False\n"
          ]
        }
      ]
    },
    {
      "cell_type": "markdown",
      "source": [
        "TUPLAS"
      ],
      "metadata": {
        "id": "0qgON8Rnnu8I"
      }
    },
    {
      "cell_type": "code",
      "source": [
        "#As tuplas são imutáveis. São criadas com parenteses (). E para que python entenda que os valores dentro do parenteses seja uma tupla, faz-se necessário \n",
        "#ter mais de um valor dentro:"
      ],
      "metadata": {
        "id": "BrYtFTSIn1hG"
      },
      "execution_count": null,
      "outputs": []
    },
    {
      "cell_type": "code",
      "source": [
        "tupla = (1,2,3)\n",
        "print(tupla)\n",
        "type(tupla)"
      ],
      "metadata": {
        "colab": {
          "base_uri": "https://localhost:8080/"
        },
        "id": "6pcn6CEjn1wF",
        "outputId": "d8027e0c-7578-478d-9f02-3858c85d27b9"
      },
      "execution_count": null,
      "outputs": [
        {
          "output_type": "stream",
          "name": "stdout",
          "text": [
            "(1, 2, 3)\n"
          ]
        },
        {
          "output_type": "execute_result",
          "data": {
            "text/plain": [
              "tuple"
            ]
          },
          "metadata": {},
          "execution_count": 40
        }
      ]
    },
    {
      "cell_type": "code",
      "source": [
        "# Se colocarmos só um valor, ele retornará só o valor. \n",
        "tupla_nome = (\"Léo\")\n",
        "print(tupla_nome)\n",
        "type(tupla_nome)\n"
      ],
      "metadata": {
        "colab": {
          "base_uri": "https://localhost:8080/"
        },
        "id": "JwrGq2HCn1ye",
        "outputId": "a49cd0a7-35ff-4f2d-cabe-064fe2e86785"
      },
      "execution_count": null,
      "outputs": [
        {
          "output_type": "stream",
          "name": "stdout",
          "text": [
            "Léo\n"
          ]
        },
        {
          "output_type": "execute_result",
          "data": {
            "text/plain": [
              "str"
            ]
          },
          "metadata": {},
          "execution_count": 41
        }
      ]
    },
    {
      "cell_type": "code",
      "source": [
        "# A partir de 2 ele ja entende\n",
        "tupla_2nome = (\"Léo\", \"Victor\")\n",
        "print(tupla_2nome)\n",
        "type(tupla_2nome)"
      ],
      "metadata": {
        "colab": {
          "base_uri": "https://localhost:8080/"
        },
        "id": "7JcpJ930p6b3",
        "outputId": "572c2f5a-ec66-4a26-a837-dc01c0c7302b"
      },
      "execution_count": null,
      "outputs": [
        {
          "output_type": "stream",
          "name": "stdout",
          "text": [
            "('Léo', 'Victor')\n"
          ]
        },
        {
          "output_type": "execute_result",
          "data": {
            "text/plain": [
              "tuple"
            ]
          },
          "metadata": {},
          "execution_count": 42
        }
      ]
    },
    {
      "cell_type": "code",
      "source": [
        "tupla_2 = tuple(range(11))\n",
        "print(tupla_2)\n",
        "type(tupla_2)"
      ],
      "metadata": {
        "colab": {
          "base_uri": "https://localhost:8080/"
        },
        "id": "vV6tkM8Rp90U",
        "outputId": "c40044e4-49b2-4e27-8ea7-9448d64f7e86"
      },
      "execution_count": null,
      "outputs": [
        {
          "output_type": "stream",
          "name": "stdout",
          "text": [
            "(0, 1, 2, 3, 4, 5, 6, 7, 8, 9, 10)\n"
          ]
        },
        {
          "output_type": "execute_result",
          "data": {
            "text/plain": [
              "tuple"
            ]
          },
          "metadata": {},
          "execution_count": 43
        }
      ]
    },
    {
      "cell_type": "code",
      "source": [
        "#FUNÇÕES\n",
        "sum(tupla_2)     # \"sum()\",soma todos os valores de dentro da tupla. \n",
        "max(tupla_2)     # \"max()\", mostra o maior valor dentro da tupla. \n",
        "min(tupla_2)     # \"min()\", mostra o menor valor dentro da tupla. \n",
        "len(tupla_2)     # \"len()\", mostra o tamanho da tupla. \n",
        "10 in (tupla_2)  # para saber se o valor 10 esta na tupla. \n",
        "tupla_2.count(10)# \".count()\", Para contar quantas vezes um valor aparece dentro da tupla. \n"
      ],
      "metadata": {
        "colab": {
          "base_uri": "https://localhost:8080/"
        },
        "id": "3Yf6Wg_Lp-A7",
        "outputId": "b996ec07-25d5-450a-afae-9c17e4d15e77"
      },
      "execution_count": null,
      "outputs": [
        {
          "output_type": "execute_result",
          "data": {
            "text/plain": [
              "1"
            ]
          },
          "metadata": {},
          "execution_count": 44
        }
      ]
    },
    {
      "cell_type": "code",
      "source": [
        "sum(tupla_2)  # \"sum()\",soma todos os valores de dentro da tupla. "
      ],
      "metadata": {
        "colab": {
          "base_uri": "https://localhost:8080/"
        },
        "id": "oqyzG__Jr9Lc",
        "outputId": "739ef4d3-9fa6-4bbc-9ee8-d93e4d3ccedf"
      },
      "execution_count": null,
      "outputs": [
        {
          "output_type": "execute_result",
          "data": {
            "text/plain": [
              "55"
            ]
          },
          "metadata": {},
          "execution_count": 45
        }
      ]
    },
    {
      "cell_type": "code",
      "source": [
        "max(tupla_2)  # \"max()\", mostra o maior valor dentro da tupla. "
      ],
      "metadata": {
        "colab": {
          "base_uri": "https://localhost:8080/"
        },
        "id": "04g8TJ3br9N1",
        "outputId": "a6362a5e-2c35-43d8-85d8-029732f96a55"
      },
      "execution_count": null,
      "outputs": [
        {
          "output_type": "execute_result",
          "data": {
            "text/plain": [
              "10"
            ]
          },
          "metadata": {},
          "execution_count": 46
        }
      ]
    },
    {
      "cell_type": "code",
      "source": [
        "min(tupla_2)  # \"min()\", mostra o menor valor dentro da tupla. "
      ],
      "metadata": {
        "colab": {
          "base_uri": "https://localhost:8080/"
        },
        "id": "Sue61LTlr9QO",
        "outputId": "d516ac2f-8e67-48e3-92b0-01cfaadd3a26"
      },
      "execution_count": null,
      "outputs": [
        {
          "output_type": "execute_result",
          "data": {
            "text/plain": [
              "0"
            ]
          },
          "metadata": {},
          "execution_count": 47
        }
      ]
    },
    {
      "cell_type": "code",
      "source": [
        "len(tupla_2)  # \"len()\", mostra o tamanho da tupla. "
      ],
      "metadata": {
        "colab": {
          "base_uri": "https://localhost:8080/"
        },
        "id": "DWP4yuOKsDij",
        "outputId": "11982553-ca03-4265-810a-35199230f09b"
      },
      "execution_count": null,
      "outputs": [
        {
          "output_type": "execute_result",
          "data": {
            "text/plain": [
              "11"
            ]
          },
          "metadata": {},
          "execution_count": 48
        }
      ]
    },
    {
      "cell_type": "code",
      "source": [
        "10 in (tupla_2) # para saber se o valor 10 esta na tupla. \n"
      ],
      "metadata": {
        "colab": {
          "base_uri": "https://localhost:8080/"
        },
        "id": "52awm8GksDki",
        "outputId": "7c8e06b4-790a-4bb6-9a5d-5fa2d2e9907f"
      },
      "execution_count": null,
      "outputs": [
        {
          "output_type": "execute_result",
          "data": {
            "text/plain": [
              "True"
            ]
          },
          "metadata": {},
          "execution_count": 49
        }
      ]
    },
    {
      "cell_type": "code",
      "source": [
        "tupla_2.count(10)# \".count()\", Para contar quantas vezes um valor aparece dentro da tupla. "
      ],
      "metadata": {
        "colab": {
          "base_uri": "https://localhost:8080/"
        },
        "id": "8_S57NncswvM",
        "outputId": "d66ef12f-13f4-420b-d119-945df19108fd"
      },
      "execution_count": null,
      "outputs": [
        {
          "output_type": "execute_result",
          "data": {
            "text/plain": [
              "1"
            ]
          },
          "metadata": {},
          "execution_count": 50
        }
      ]
    },
    {
      "cell_type": "markdown",
      "source": [
        "8) ESCREVA UM PROGRAMA PARA CRIAR UMA TUPLA"
      ],
      "metadata": {
        "id": "ndlNpMZtd1rm"
      }
    },
    {
      "cell_type": "code",
      "source": [
        "tupla_a = tuple(range(10))\n",
        "print(tupla_a)\n",
        "type(tupla_a)"
      ],
      "metadata": {
        "colab": {
          "base_uri": "https://localhost:8080/"
        },
        "id": "Rk8mVA8flKme",
        "outputId": "acc8e81e-1b15-4dba-8e00-5145231f6b27"
      },
      "execution_count": null,
      "outputs": [
        {
          "output_type": "stream",
          "name": "stdout",
          "text": [
            "(0, 1, 2, 3, 4, 5, 6, 7, 8, 9)\n"
          ]
        },
        {
          "output_type": "execute_result",
          "data": {
            "text/plain": [
              "tuple"
            ]
          },
          "metadata": {},
          "execution_count": 51
        }
      ]
    },
    {
      "cell_type": "markdown",
      "source": [
        "9) ESCREVA UM PROGRAMA PARA CRIAR UMA TUPLA COM DIFERENTES TIPOS DE DADOS."
      ],
      "metadata": {
        "id": "EUnO5sM_d1uM"
      }
    },
    {
      "cell_type": "code",
      "source": [
        "criar_tupla_diferentes_tipos = (7,10,11,\"Léo Hyppolito\", True, [1,2,3,4]) # Note, que lista também é um tipo, e não tem problema nenhum adiciona-la dentro\n",
        "type(criar_tupla_diferentes_tipos)                                         #dentro da tupla"
      ],
      "metadata": {
        "colab": {
          "base_uri": "https://localhost:8080/"
        },
        "id": "Noxp3EoNsPs0",
        "outputId": "431f5f7a-4655-47e5-92e6-976e9d3ec7ca"
      },
      "execution_count": null,
      "outputs": [
        {
          "output_type": "execute_result",
          "data": {
            "text/plain": [
              "tuple"
            ]
          },
          "metadata": {},
          "execution_count": 52
        }
      ]
    },
    {
      "cell_type": "code",
      "source": [
        "#Podemos acessar a lista dentro da tupla\n",
        "criar_tupla_diferentes_tipos[5]"
      ],
      "metadata": {
        "colab": {
          "base_uri": "https://localhost:8080/"
        },
        "id": "UgjrrmMhsPvK",
        "outputId": "1e4d095e-0487-4f92-eb38-2c28508cb16a"
      },
      "execution_count": null,
      "outputs": [
        {
          "output_type": "execute_result",
          "data": {
            "text/plain": [
              "[1, 2, 3, 4]"
            ]
          },
          "metadata": {},
          "execution_count": 53
        }
      ]
    },
    {
      "cell_type": "code",
      "source": [
        "#Ou até mesmo um dos elementos da lista, que esta dentro da tupla. \n",
        "criar_tupla_diferentes_tipos[5][2]"
      ],
      "metadata": {
        "colab": {
          "base_uri": "https://localhost:8080/"
        },
        "id": "LLGftMiesPxP",
        "outputId": "30061275-24e9-45c4-8f27-7ede19c4bc23"
      },
      "execution_count": null,
      "outputs": [
        {
          "output_type": "execute_result",
          "data": {
            "text/plain": [
              "3"
            ]
          },
          "metadata": {},
          "execution_count": 54
        }
      ]
    },
    {
      "cell_type": "markdown",
      "source": [
        "10) ESCREVA UM PROGRAMA PARA CRIAR UMA TUPLA COM NÚMEROS E IMPRIMIR UM ITEM."
      ],
      "metadata": {
        "id": "f6_9IEphd1w6"
      }
    },
    {
      "cell_type": "code",
      "source": [
        "tupla_numerica = (1,2,3,4,5,6)\n",
        "print(tupla_numerica)\n",
        "\n"
      ],
      "metadata": {
        "colab": {
          "base_uri": "https://localhost:8080/"
        },
        "id": "dpVgB_8jv_oC",
        "outputId": "473219c2-fd18-42a0-ee82-73a2a1fc3cc6"
      },
      "execution_count": null,
      "outputs": [
        {
          "output_type": "stream",
          "name": "stdout",
          "text": [
            "(1, 2, 3, 4, 5, 6)\n"
          ]
        }
      ]
    },
    {
      "cell_type": "code",
      "source": [
        "#Para acessar um item, isto é, um elemento desta tupla, utilizamos os colchetes [], e dentro dos colchetes o numero do indice \n",
        "# sempre bom lembrar que começamos a contar do ZEROOOO."
      ],
      "metadata": {
        "id": "ez5wAps9v_rI"
      },
      "execution_count": null,
      "outputs": []
    },
    {
      "cell_type": "code",
      "source": [
        "tupla_numerica[2]"
      ],
      "metadata": {
        "colab": {
          "base_uri": "https://localhost:8080/"
        },
        "id": "xM88pnpiv_wZ",
        "outputId": "05528b67-9fbe-4d8e-bcce-b96fe819582f"
      },
      "execution_count": null,
      "outputs": [
        {
          "output_type": "execute_result",
          "data": {
            "text/plain": [
              "3"
            ]
          },
          "metadata": {},
          "execution_count": 57
        }
      ]
    },
    {
      "cell_type": "code",
      "source": [
        "# Importante ter o cuidado para não confundir o tamanho da lista com o indice \n",
        "len(tupla_numerica)"
      ],
      "metadata": {
        "colab": {
          "base_uri": "https://localhost:8080/"
        },
        "id": "Iq2yQauGyTV8",
        "outputId": "756b9894-b75d-479b-dd30-7b5f4eb012fb"
      },
      "execution_count": null,
      "outputs": [
        {
          "output_type": "execute_result",
          "data": {
            "text/plain": [
              "6"
            ]
          },
          "metadata": {},
          "execution_count": 58
        }
      ]
    },
    {
      "cell_type": "code",
      "source": [
        "tupla_numerica[6] #Isso vai gerar um erro, justamente pois começamos a contar do zero. Logo, se colocarmos o valor que o \"len()\" nos retorna como índice \n",
        "                  # para acessar um valor, o computador irá nos dar um erro, pois nesta tupla não existe um elemento de indice 6. "
      ],
      "metadata": {
        "colab": {
          "base_uri": "https://localhost:8080/"
        },
        "id": "5D0rRw6dyka5",
        "outputId": "689ded22-ba8a-4241-b837-b7121729dfdc"
      },
      "execution_count": null,
      "outputs": [
        {
          "output_type": "execute_result",
          "data": {
            "text/plain": [
              "6"
            ]
          },
          "metadata": {},
          "execution_count": 62
        }
      ]
    },
    {
      "cell_type": "markdown",
      "source": [
        "11) ESCREVA UM PROGRAMA PARA ADICIONAR UM ITEM EM UMA TUPLA.\n",
        "\n",
        "---\n",
        "\n",
        "\n"
      ],
      "metadata": {
        "id": "RnDoEzzLd1zy"
      }
    },
    {
      "cell_type": "code",
      "source": [
        "# Tuplas são imutaveis, então pode parecer meio confuso este exercicio. Não podemos utilizar métodos como o .append, mas podemos \"driblar\", isso somando \n",
        "#duas tuplas. Neste caso, podemos definir a tupla_mutavel como a soma da tupla mutável com uma tupla (4, ) e assim o 4 aparecerá no final da lista\n",
        "# a virgula é  essencial para funcionar.\n",
        "tupla_mutavel = (1,2,3)\n",
        "print(tupla_mutavel)"
      ],
      "metadata": {
        "colab": {
          "base_uri": "https://localhost:8080/"
        },
        "id": "QTeofCIzzU0o",
        "outputId": "c9f17737-0ea6-45ad-a53c-7ce9755b98c9"
      },
      "execution_count": null,
      "outputs": [
        {
          "output_type": "stream",
          "name": "stdout",
          "text": [
            "(1, 2, 3)\n"
          ]
        }
      ]
    },
    {
      "cell_type": "code",
      "source": [
        "tupla_mutavel = tupla_mutavel + (4, )\n",
        "print(tupla_mutavel)"
      ],
      "metadata": {
        "colab": {
          "base_uri": "https://localhost:8080/"
        },
        "id": "aYXfQ5gjzU22",
        "outputId": "7d13f84b-0876-41ec-d816-c2ffbf98d271"
      },
      "execution_count": null,
      "outputs": [
        {
          "output_type": "stream",
          "name": "stdout",
          "text": [
            "(1, 2, 3, 4)\n"
          ]
        }
      ]
    },
    {
      "cell_type": "markdown",
      "source": [
        "12) ESCREVA UM PROGRAMA PARA OBTER O 4º ELEMENTO E O ÚLTIMO DE UMA TUPLA"
      ],
      "metadata": {
        "id": "sh2OPCt2d12k"
      }
    },
    {
      "cell_type": "code",
      "source": [
        "tupla_nova = ()\n",
        "type(tupla_nova)"
      ],
      "metadata": {
        "colab": {
          "base_uri": "https://localhost:8080/"
        },
        "id": "gj0VSecczU78",
        "outputId": "bbe25721-56e1-433e-89b6-bf7835209713"
      },
      "execution_count": null,
      "outputs": [
        {
          "output_type": "execute_result",
          "data": {
            "text/plain": [
              "tuple"
            ]
          },
          "metadata": {},
          "execution_count": 65
        }
      ]
    },
    {
      "cell_type": "code",
      "source": [
        "tupla_nova = (2,4,7,10,11,8,77)\n",
        "#O exercicio pede o 4° elemento, isto é, o elemento de índice 3, e o ultimo elemento de uma tupla. Para acharmos o ultimo elemento, podemos\n",
        "#Adotar a estratégia de utilizar o comando \"len()\" - 1, uma vez que o len retorna o tamanho, que é o mesmo que o valor de maior + 1. "
      ],
      "metadata": {
        "id": "UUo8viVQzU5I"
      },
      "execution_count": null,
      "outputs": []
    },
    {
      "cell_type": "code",
      "source": [
        "tupla_nova[3] "
      ],
      "metadata": {
        "colab": {
          "base_uri": "https://localhost:8080/"
        },
        "id": "bjANydED4wyN",
        "outputId": "6a216bef-7fc2-461e-d869-8bdc399cc3bb"
      },
      "execution_count": null,
      "outputs": [
        {
          "output_type": "execute_result",
          "data": {
            "text/plain": [
              "10"
            ]
          },
          "metadata": {},
          "execution_count": 67
        }
      ]
    },
    {
      "cell_type": "code",
      "source": [
        "tamanho_tupla = len(tupla_nova) - 1\n"
      ],
      "metadata": {
        "id": "FVRfZ7oj4w0d"
      },
      "execution_count": null,
      "outputs": []
    },
    {
      "cell_type": "code",
      "source": [
        "print(tupla_nova[3])\n",
        "print(tupla_nova[tamanho_tupla])"
      ],
      "metadata": {
        "colab": {
          "base_uri": "https://localhost:8080/"
        },
        "id": "XCiFaFpu6H37",
        "outputId": "d704a7e8-4e81-4fc2-90de-77e6b60af107"
      },
      "execution_count": null,
      "outputs": [
        {
          "output_type": "stream",
          "name": "stdout",
          "text": [
            "10\n",
            "77\n"
          ]
        }
      ]
    },
    {
      "cell_type": "markdown",
      "source": [
        "13) ESCREVA UM PROGRAMA PARA ENCONTRAR OS ITENS REPETIDOS DE UMA TUPLA"
      ],
      "metadata": {
        "id": "bE2LNviUd18z"
      }
    },
    {
      "cell_type": "code",
      "source": [
        "# Utilizando a estratégia de transformar tupla, em set, para remover os itens repetidos. \n",
        "tupla_verdadeira = (1,2,3,4,5,6,7)\n",
        "print(tupla_verdadeira)\n",
        "type(tupla_verdadeira)"
      ],
      "metadata": {
        "id": "-Lva6MyZ6H58",
        "colab": {
          "base_uri": "https://localhost:8080/"
        },
        "outputId": "3ede8a10-71f1-4689-8a53-5fad08c4afa7"
      },
      "execution_count": null,
      "outputs": [
        {
          "output_type": "stream",
          "name": "stdout",
          "text": [
            "(1, 2, 3, 4, 5, 6, 7)\n"
          ]
        },
        {
          "output_type": "execute_result",
          "data": {
            "text/plain": [
              "tuple"
            ]
          },
          "metadata": {},
          "execution_count": 73
        }
      ]
    },
    {
      "cell_type": "code",
      "source": [
        "#Agora criamos uma variável, transformando a tupla em set. \n",
        "tupla_transformada_em_set = set(tupla_verdadeira)\n",
        "print(tupla_transformada_em_set)\n",
        "type(tupla_transformada_em_set)"
      ],
      "metadata": {
        "colab": {
          "base_uri": "https://localhost:8080/"
        },
        "id": "YrKE_f081Hx3",
        "outputId": "be7bdea1-b481-445b-f2e2-1105984f41d5"
      },
      "execution_count": null,
      "outputs": [
        {
          "output_type": "stream",
          "name": "stdout",
          "text": [
            "{1, 2, 3, 4, 5, 6, 7}\n"
          ]
        },
        {
          "output_type": "execute_result",
          "data": {
            "text/plain": [
              "set"
            ]
          },
          "metadata": {},
          "execution_count": 74
        }
      ]
    },
    {
      "cell_type": "code",
      "source": [
        "# Se considerarmos que a solução do problema é identificar se a coleção tem itens repetidos, então podemos comparar o tamanho da tupla, com o tamanho do set\n",
        "# Uma vez que set não aceita itens repetidos, se as duas coleções tiverem o mesmo tamanho (len), então a coleção não possui itens repetidos. \n",
        "if len(tupla_verdadeira) != len(tupla_transformada_em_set):\n",
        "  print(\"Sim, existe  itens repetidos\")\n",
        "else: \n",
        "  print(\"Não existe itens repetidos\")"
      ],
      "metadata": {
        "colab": {
          "base_uri": "https://localhost:8080/"
        },
        "id": "wieGV3QG1H06",
        "outputId": "7b3ec978-9803-4051-c75f-7b5de890d1e9"
      },
      "execution_count": null,
      "outputs": [
        {
          "output_type": "stream",
          "name": "stdout",
          "text": [
            "Não existe itens repetidos\n"
          ]
        }
      ]
    },
    {
      "cell_type": "markdown",
      "source": [
        "14) ESCREVA UM PROGRAMA PARA CONVERTER UMA LISTA EM UMA TUPLA"
      ],
      "metadata": {
        "id": "JAFxzuSdd1_S"
      }
    },
    {
      "cell_type": "code",
      "source": [
        "lista_original = [1,2,3,4,5]\n",
        "print(lista_original)\n",
        "type(lista_original)"
      ],
      "metadata": {
        "colab": {
          "base_uri": "https://localhost:8080/"
        },
        "id": "crXXpgO91H3h",
        "outputId": "7f60da29-05f9-4da2-b1fb-528a068d2e18"
      },
      "execution_count": null,
      "outputs": [
        {
          "output_type": "stream",
          "name": "stdout",
          "text": [
            "[1, 2, 3, 4, 5]\n"
          ]
        },
        {
          "output_type": "execute_result",
          "data": {
            "text/plain": [
              "list"
            ]
          },
          "metadata": {},
          "execution_count": 76
        }
      ]
    },
    {
      "cell_type": "code",
      "source": [
        "transforma_lista_em_tupla = tuple(lista_original)\n",
        "print(transforma_lista_em_tupla)\n",
        "type(transforma_lista_em_tupla)"
      ],
      "metadata": {
        "colab": {
          "base_uri": "https://localhost:8080/"
        },
        "id": "k53m6A6t1H7P",
        "outputId": "2e9cf232-47ca-4fa5-df16-4c6f84f12017"
      },
      "execution_count": null,
      "outputs": [
        {
          "output_type": "stream",
          "name": "stdout",
          "text": [
            "(1, 2, 3, 4, 5)\n"
          ]
        },
        {
          "output_type": "execute_result",
          "data": {
            "text/plain": [
              "tuple"
            ]
          },
          "metadata": {},
          "execution_count": 77
        }
      ]
    },
    {
      "cell_type": "markdown",
      "source": [
        "DICIONÁRIOS"
      ],
      "metadata": {
        "id": "NE6JEtQj4pzx"
      }
    },
    {
      "cell_type": "code",
      "source": [
        "# Definimos o dicionário com chaves {}. \n",
        "# A estrutura de um dicionário é definida por chave e valor. \n",
        "# Minha primeira impressão, é que esta estrutura é muito útil, pois podemos fazer associações. "
      ],
      "metadata": {
        "id": "XCeYgwU_4u6k"
      },
      "execution_count": null,
      "outputs": []
    },
    {
      "cell_type": "code",
      "source": [
        "#Criando um dicionário \n",
        "estado_sigla = {\"Rio de Janeiro\": \"RJ\", \"Minas Gerais\": \"MG\", \"São Paulo\": \"SP\"}\n",
        "print(estado_sigla)\n",
        "type(estado_sigla)"
      ],
      "metadata": {
        "colab": {
          "base_uri": "https://localhost:8080/"
        },
        "id": "smYCE15Q4u97",
        "outputId": "c4358dc9-3691-4ef8-e1f0-db990312aed2"
      },
      "execution_count": null,
      "outputs": [
        {
          "output_type": "stream",
          "name": "stdout",
          "text": [
            "{'Rio de Janeiro': 'RJ', 'Minas Gerais': 'MG', 'São Paulo': 'SP'}\n"
          ]
        },
        {
          "output_type": "execute_result",
          "data": {
            "text/plain": [
              "dict"
            ]
          },
          "metadata": {},
          "execution_count": 79
        }
      ]
    },
    {
      "cell_type": "code",
      "source": [
        "# Podemos acessar o valor de uma chave, utilizando os [], assim como acessamos os índices de uma lista. \n",
        "print(estado_sigla[\"Rio de Janeiro\"])\n",
        "# Isso pode ser muuuuuuuito interessante. "
      ],
      "metadata": {
        "colab": {
          "base_uri": "https://localhost:8080/"
        },
        "id": "ud3cKhcs4vAH",
        "outputId": "edf43332-5ca2-4b08-e687-67cae7c69f1f"
      },
      "execution_count": null,
      "outputs": [
        {
          "output_type": "stream",
          "name": "stdout",
          "text": [
            "RJ\n"
          ]
        }
      ]
    },
    {
      "cell_type": "code",
      "source": [
        "# Podemos conferir se uma chave existe no dicionário. \n",
        "\"Minas Gerais\" in estado_sigla"
      ],
      "metadata": {
        "colab": {
          "base_uri": "https://localhost:8080/"
        },
        "id": "bEGSiyyF4vBs",
        "outputId": "5698eded-c2a9-46e7-a7de-8f490f496685"
      },
      "execution_count": null,
      "outputs": [
        {
          "output_type": "execute_result",
          "data": {
            "text/plain": [
              "True"
            ]
          },
          "metadata": {},
          "execution_count": 81
        }
      ]
    },
    {
      "cell_type": "markdown",
      "source": [
        "15) ESCREVA UM PROGRAMA PARA ADICIONAR UMA CHAVE A UM DICIONÁRIO."
      ],
      "metadata": {
        "id": "geqjLy56d2Bx"
      }
    },
    {
      "cell_type": "code",
      "source": [
        "# Existe um  comando chamado \"update\" que resolve este problema, a idéia é atualizar o dicionário. Importante passar a chave e o valor a serem adicionados \n",
        "#entre chaves \"{}\"\n",
        "estado_sigla.update({\"Rio Grande Do Sul\": \"RS\"})\n",
        "print(estado_sigla)"
      ],
      "metadata": {
        "colab": {
          "base_uri": "https://localhost:8080/"
        },
        "id": "8QVywwGg4vGX",
        "outputId": "0158883c-a9c8-4508-9d03-eb336f236730"
      },
      "execution_count": null,
      "outputs": [
        {
          "output_type": "stream",
          "name": "stdout",
          "text": [
            "{'Rio de Janeiro': 'RJ', 'Minas Gerais': 'MG', 'São Paulo': 'SP', 'Rio Grande Do Sul': 'RS'}\n"
          ]
        }
      ]
    },
    {
      "cell_type": "markdown",
      "source": [
        "16) CRIE DOIS DICIONÁRIOS DIFERENTES E CONCATENE PARA CRIAR UM NOVO.\n"
      ],
      "metadata": {
        "id": "_l7DHf8Hd2EE"
      }
    },
    {
      "cell_type": "code",
      "source": [
        "dicionario1 = {\"Arroz\": 25.50, \"Feijão\": 10, \"Farofa\": 2.80}\n",
        "dicionario2 = {\"Creme de leite\": 2, \"Leite condensado\": 4.50, \"Doce de leite\": \"8\"}\n",
        "print(dicionario1)\n",
        "print(dicionario2)\n",
        "type(dicionario1)\n",
        "type(dicionario2)"
      ],
      "metadata": {
        "colab": {
          "base_uri": "https://localhost:8080/"
        },
        "id": "SbHsOYM-3Ar5",
        "outputId": "2ad5baea-1d7b-4101-f929-9786efec797a"
      },
      "execution_count": null,
      "outputs": [
        {
          "output_type": "stream",
          "name": "stdout",
          "text": [
            "{'Arroz': 25.5, 'Feijão': 10, 'Farofa': 2.8}\n",
            "{'Creme de leite': 2, 'Leite condensado': 4.5, 'Doce de leite': '8'}\n"
          ]
        },
        {
          "output_type": "execute_result",
          "data": {
            "text/plain": [
              "dict"
            ]
          },
          "metadata": {},
          "execution_count": 86
        }
      ]
    },
    {
      "cell_type": "code",
      "source": [
        "# Podemos Utilizar o update para resolver, passamos um dicionario como base, e entre parenteses um dicionário a ser adicionado. Como as duas variaveis \n",
        "# são do tipo dict, não precisamos passar as chaves dentro do parenteses. \n",
        "dicionario1.update(dicionario2)\n",
        "print(dicionario1)"
      ],
      "metadata": {
        "colab": {
          "base_uri": "https://localhost:8080/"
        },
        "id": "j-ldkTwz3AiK",
        "outputId": "3460652c-0664-4613-fcca-a6ede92dc9fc"
      },
      "execution_count": null,
      "outputs": [
        {
          "output_type": "stream",
          "name": "stdout",
          "text": [
            "{'Arroz': 25.5, 'Feijão': 10, 'Farofa': 2.8, 'Creme de leite': 2, 'Leite condensado': 4.5, 'Doce de leite': '8'}\n"
          ]
        }
      ]
    },
    {
      "cell_type": "code",
      "source": [
        "# Legal a idéia de poder concatenar diversos dicionarios, criando um só. "
      ],
      "metadata": {
        "id": "_V4y3Ee1AYGf"
      },
      "execution_count": null,
      "outputs": []
    },
    {
      "cell_type": "markdown",
      "source": [
        "17) ESCREVA UM PROGRAMA PARA VERI FICAR SE UMA DETERMINADA CHAVE JÁ EXISTE EM UM\n",
        "DICIONÁRIO."
      ],
      "metadata": {
        "id": "tryE6KtreivL"
      }
    },
    {
      "cell_type": "code",
      "source": [
        "verificar_chave = input(\"Digite uma chave: \")\n"
      ],
      "metadata": {
        "colab": {
          "base_uri": "https://localhost:8080/"
        },
        "id": "xylNMA3n_sQJ",
        "outputId": "2263c33e-3b8e-4ed0-bc3c-57681cdf6dba"
      },
      "execution_count": null,
      "outputs": [
        {
          "name": "stdout",
          "output_type": "stream",
          "text": [
            "Digite uma chave: miojo\n"
          ]
        }
      ]
    },
    {
      "cell_type": "code",
      "source": [
        "if verificar_chave in dicionario1:\n",
        "  print(\"Esta chave existe no dicionário\")\n",
        "else: \n",
        "  print(\"Chave Inexistente\")"
      ],
      "metadata": {
        "colab": {
          "base_uri": "https://localhost:8080/"
        },
        "id": "EYWG1YtA_sSg",
        "outputId": "9cb06038-6125-45e2-8bf6-d364353d94cb"
      },
      "execution_count": null,
      "outputs": [
        {
          "output_type": "stream",
          "name": "stdout",
          "text": [
            "Chave Inexistente\n"
          ]
        }
      ]
    },
    {
      "cell_type": "markdown",
      "source": [
        "18) ESCREVA UM PROGRAMA PARA ITERAR SOBRE DICIONÁRIOS USANDO LOOPS FOR.\n"
      ],
      "metadata": {
        "id": "TjaQctqMei1m"
      }
    },
    {
      "cell_type": "code",
      "source": [
        "dicionario_novo = {\"cor\": \"verde\", \"Fruta\": \"banana\", \"time\": \"vasco\"}\n",
        "print(dicionario_novo)"
      ],
      "metadata": {
        "colab": {
          "base_uri": "https://localhost:8080/"
        },
        "id": "pzQ0Q_ty_sVO",
        "outputId": "637399a1-3f12-4b83-e46f-eba99a1c26c2"
      },
      "execution_count": null,
      "outputs": [
        {
          "output_type": "stream",
          "name": "stdout",
          "text": [
            "{'cor': 'verde', 'Fruta': 'banana', 'time': 'vasco'}\n"
          ]
        }
      ]
    },
    {
      "cell_type": "code",
      "source": [
        "# Se eu passar um \"for i in dicionario_novo\" print i, por definição ele retornará a chave. \n",
        "for i in dicionario_novo:\n",
        "  print(i)"
      ],
      "metadata": {
        "colab": {
          "base_uri": "https://localhost:8080/"
        },
        "id": "4604938QDL3H",
        "outputId": "e64b7b97-0f53-41c1-a6f7-11fc1c4fdcda"
      },
      "execution_count": null,
      "outputs": [
        {
          "output_type": "stream",
          "name": "stdout",
          "text": [
            "cor\n",
            "Fruta\n",
            "time\n"
          ]
        }
      ]
    },
    {
      "cell_type": "code",
      "source": [
        "for i in dicionario_novo:                         # Sem esse laço de repetição, o computador retornou só o valor da ultima chave. \n",
        "  print(f\"{i} : {dicionario_novo[i]}\")"
      ],
      "metadata": {
        "colab": {
          "base_uri": "https://localhost:8080/"
        },
        "id": "qkwWgcjrDL59",
        "outputId": "195c52c2-df35-471d-d17c-b2473473b665"
      },
      "execution_count": null,
      "outputs": [
        {
          "output_type": "stream",
          "name": "stdout",
          "text": [
            "cor : verde\n",
            "Fruta : banana\n",
            "time : vasco\n"
          ]
        }
      ]
    },
    {
      "cell_type": "markdown",
      "source": [
        "19) ESCREVA UM PROGRAMA PARA MULTIPLICAR TODOS OS ITENS EM UM DICIONÁRIO.\n"
      ],
      "metadata": {
        "id": "eyIdeixcei8L"
      }
    },
    {
      "cell_type": "code",
      "source": [
        "dicionario_mult = {\"A\": 2, \"B\": 3, \"C\": 4}\n",
        "print(dicionario_mult)"
      ],
      "metadata": {
        "colab": {
          "base_uri": "https://localhost:8080/"
        },
        "id": "b3tbPduADMHM",
        "outputId": "54248a30-22d3-4b7d-e42c-28cbb6f68cf8"
      },
      "execution_count": null,
      "outputs": [
        {
          "output_type": "stream",
          "name": "stdout",
          "text": [
            "{'A': 2, 'B': 3, 'C': 4}\n"
          ]
        }
      ]
    },
    {
      "cell_type": "code",
      "source": [
        "# Vamos multiplicar os valores do dicionario\n",
        "for i in dicionario_mult:\n",
        "  print(i)"
      ],
      "metadata": {
        "colab": {
          "base_uri": "https://localhost:8080/"
        },
        "id": "OzPndSBlFvVn",
        "outputId": "2a1dbcee-1d46-4dac-f193-43063fe7cf74"
      },
      "execution_count": null,
      "outputs": [
        {
          "output_type": "stream",
          "name": "stdout",
          "text": [
            "A\n",
            "B\n",
            "C\n"
          ]
        }
      ]
    },
    {
      "cell_type": "code",
      "source": [
        "multiplica = 1 \n",
        "for i in dicionario_mult:\n",
        "  print(dicionario_mult[i])  # Note, se passarmos somente o i, no print, o computador retorna as chaves. Se passarmos o nome do dicionário, e o i em\n",
        "  multiplica *= dicionario_mult[i]     # colchetes, o computador me retorna os valores. \n",
        "print(multiplica)"
      ],
      "metadata": {
        "colab": {
          "base_uri": "https://localhost:8080/"
        },
        "id": "zj99Aj2-FvYM",
        "outputId": "5a3854fc-261e-48ad-bdaf-7bef14faa52c"
      },
      "execution_count": null,
      "outputs": [
        {
          "output_type": "stream",
          "name": "stdout",
          "text": [
            "2\n",
            "3\n",
            "4\n",
            "24\n"
          ]
        }
      ]
    },
    {
      "cell_type": "markdown",
      "source": [
        "20) ESCREVA UM PROGRAMA PARA REMOVER UMA CHAVE DE UM DICIONÁRIO"
      ],
      "metadata": {
        "id": "P-wzUjVDejDC"
      }
    },
    {
      "cell_type": "code",
      "source": [
        "ultimo_dicionario = {'Rio de Janeiro': 'RJ', 'Minas Gerais': 'MG', 'São Paulo': 'SP', 'Rio Grande Do Sul': 'RS'}\n",
        "print(ultimo_dicionario)"
      ],
      "metadata": {
        "colab": {
          "base_uri": "https://localhost:8080/"
        },
        "id": "gvybfEgYINME",
        "outputId": "ba92dc4b-a9c6-456b-c89c-fa758266f8fa"
      },
      "execution_count": null,
      "outputs": [
        {
          "output_type": "stream",
          "name": "stdout",
          "text": [
            "{'Rio de Janeiro': 'RJ', 'Minas Gerais': 'MG', 'São Paulo': 'SP', 'Rio Grande Do Sul': 'RS'}\n"
          ]
        }
      ]
    },
    {
      "cell_type": "code",
      "source": [
        "for i in ultimo_dicionario:\n",
        "  print(i)"
      ],
      "metadata": {
        "colab": {
          "base_uri": "https://localhost:8080/"
        },
        "id": "4-5VPkF5INBm",
        "outputId": "95b20e87-1b41-4182-e240-11abb9b45263"
      },
      "execution_count": null,
      "outputs": [
        {
          "output_type": "stream",
          "name": "stdout",
          "text": [
            "Rio de Janeiro\n",
            "Minas Gerais\n",
            "São Paulo\n",
            "Rio Grande Do Sul\n"
          ]
        }
      ]
    },
    {
      "cell_type": "code",
      "source": [
        "# Para resolver este problema, podemos utilizar o mesmo comando pop que utilizamos em listas. Ele removerá o que colocarmos no parenteses, e irá retornar\n",
        "#O item removido\n",
        "ultimo_dicionario.pop(\"Rio de Janeiro\", None)"
      ],
      "metadata": {
        "id": "rx4SgbOfes_u",
        "colab": {
          "base_uri": "https://localhost:8080/",
          "height": 35
        },
        "outputId": "b02feca7-2324-4df0-d4da-f37d27cb86d8"
      },
      "execution_count": null,
      "outputs": [
        {
          "output_type": "execute_result",
          "data": {
            "application/vnd.google.colaboratory.intrinsic+json": {
              "type": "string"
            },
            "text/plain": [
              "'RJ'"
            ]
          },
          "metadata": {},
          "execution_count": 111
        }
      ]
    },
    {
      "cell_type": "code",
      "source": [
        "print(ultimo_dicionario)"
      ],
      "metadata": {
        "colab": {
          "base_uri": "https://localhost:8080/"
        },
        "id": "3-Ep167rIM_E",
        "outputId": "4bfe22e1-e714-4ea2-c69d-ca7fe527a561"
      },
      "execution_count": null,
      "outputs": [
        {
          "output_type": "stream",
          "name": "stdout",
          "text": [
            "{'Minas Gerais': 'MG', 'São Paulo': 'SP', 'Rio Grande Do Sul': 'RS'}\n"
          ]
        }
      ]
    },
    {
      "cell_type": "code",
      "source": [
        "#Outra maneira, é utilizar o comando del \n",
        "del ultimo_dicionario['Rio Grande Do Sul'] \n",
        "\n"
      ],
      "metadata": {
        "colab": {
          "base_uri": "https://localhost:8080/",
          "height": 200
        },
        "id": "j5LSEjzKM31d",
        "outputId": "ab33c2cd-9a1f-47b7-9a3f-1f5237bb7a46"
      },
      "execution_count": null,
      "outputs": [
        {
          "output_type": "error",
          "ename": "KeyError",
          "evalue": "ignored",
          "traceback": [
            "\u001b[0;31m---------------------------------------------------------------------------\u001b[0m",
            "\u001b[0;31mKeyError\u001b[0m                                  Traceback (most recent call last)",
            "\u001b[0;32m<ipython-input-126-3eb1395625e9>\u001b[0m in \u001b[0;36m<module>\u001b[0;34m()\u001b[0m\n\u001b[1;32m      1\u001b[0m \u001b[0;31m#Outra maneira, é utilizar o comando del\u001b[0m\u001b[0;34m\u001b[0m\u001b[0;34m\u001b[0m\u001b[0;34m\u001b[0m\u001b[0m\n\u001b[0;32m----> 2\u001b[0;31m \u001b[0;32mdel\u001b[0m \u001b[0multimo_dicionario\u001b[0m\u001b[0;34m[\u001b[0m\u001b[0;34m'Rio Grande Do Sul'\u001b[0m\u001b[0;34m]\u001b[0m\u001b[0;34m\u001b[0m\u001b[0;34m\u001b[0m\u001b[0m\n\u001b[0m\u001b[1;32m      3\u001b[0m \u001b[0;34m\u001b[0m\u001b[0m\n",
            "\u001b[0;31mKeyError\u001b[0m: 'Rio Grande Do Sul'"
          ]
        }
      ]
    },
    {
      "cell_type": "code",
      "source": [
        "print(ultimo_dicionario)"
      ],
      "metadata": {
        "colab": {
          "base_uri": "https://localhost:8080/"
        },
        "id": "gyqCpJ9ZM7Ac",
        "outputId": "b2fd52e9-a0fb-45c6-982d-31456180876a"
      },
      "execution_count": null,
      "outputs": [
        {
          "output_type": "stream",
          "name": "stdout",
          "text": [
            "{'Minas Gerais': 'MG'}\n"
          ]
        }
      ]
    },
    {
      "cell_type": "code",
      "source": [
        ""
      ],
      "metadata": {
        "id": "zho9096ON58U"
      },
      "execution_count": null,
      "outputs": []
    }
  ]
}