{
  "nbformat": 4,
  "nbformat_minor": 0,
  "metadata": {
    "colab": {
      "name": "Segunda Lista - Destravando Programação",
      "provenance": [],
      "authorship_tag": "ABX9TyPNM+zcw3Do8t0LqBIr1v2+",
      "include_colab_link": true
    },
    "kernelspec": {
      "name": "python3",
      "display_name": "Python 3"
    },
    "language_info": {
      "name": "python"
    }
  },
  "cells": [
    {
      "cell_type": "markdown",
      "metadata": {
        "id": "view-in-github",
        "colab_type": "text"
      },
      "source": [
        "<a href=\"https://colab.research.google.com/github/LeonardoHyppolito/Estudos/blob/main/Segunda_Lista_Destravando_Programa%C3%A7%C3%A3o.ipynb\" target=\"_parent\"><img src=\"https://colab.research.google.com/assets/colab-badge.svg\" alt=\"Open In Colab\"/></a>"
      ]
    },
    {
      "cell_type": "markdown",
      "metadata": {
        "id": "wD7biqIysPoq"
      },
      "source": [
        "Segunda lista, Estruturas logicas e condicionais. "
      ]
    },
    {
      "cell_type": "markdown",
      "source": [
        "1) FAÇA UM PROGRAMA QUE RECEBA DOIS NUMEROS E MOSTRE QUAL DELES É O MAIOR.\n"
      ],
      "metadata": {
        "id": "5nITil206mby"
      }
    },
    {
      "cell_type": "markdown",
      "metadata": {
        "id": "EYum0WUOwGSO"
      },
      "source": [
        "Condicionais:\n"
      ]
    },
    {
      "cell_type": "code",
      "metadata": {
        "colab": {
          "base_uri": "https://localhost:8080/"
        },
        "id": "POEF1pVWvwHC",
        "outputId": "77e83483-6553-439b-f36c-893edb9dc199"
      },
      "source": [
        "primeiro_valor = int(input(\"Digite o primeiro valor:\"))\n",
        "segundo_valor = int(input(\"Digite o segundo valor:\"))"
      ],
      "execution_count": null,
      "outputs": [
        {
          "name": "stdout",
          "output_type": "stream",
          "text": [
            "Digite o primeiro valor:5\n",
            "Digite o segundo valor:5\n"
          ]
        }
      ]
    },
    {
      "cell_type": "code",
      "metadata": {
        "id": "Nb_ROTGyvwn3",
        "outputId": "7c779802-84fc-453d-8246-45b2edfa56f5",
        "colab": {
          "base_uri": "https://localhost:8080/"
        }
      },
      "source": [
        "if primeiro_valor > segundo_valor:\n",
        "  print(f\"O maior numero é {primeiro_valor}\")\n",
        "elif (primeiro_valor == segundo_valor):\n",
        "  print(\"São iguais\")\n",
        "else:\n",
        "  print(segundo_valor)"
      ],
      "execution_count": null,
      "outputs": [
        {
          "output_type": "stream",
          "name": "stdout",
          "text": [
            "São iguais\n"
          ]
        }
      ]
    },
    {
      "cell_type": "markdown",
      "source": [
        "2) LEIA UM NUMERO FORNECIDO PELO USUÁRIO. SE ESSE NÚMERO FOR POSITIVO, CALCULE A RAIZ QUADRADA DO NÚMERO. SE O NÚMERO FOR NEGATIVO, MOSTRE UMA MENSAGEM DIZENDO\n",
        "QUE O NÚMERO É INVÁLIDO."
      ],
      "metadata": {
        "id": "iDQKWuD56qT1"
      }
    },
    {
      "cell_type": "code",
      "metadata": {
        "colab": {
          "base_uri": "https://localhost:8080/"
        },
        "id": "BOXorbw12KIM",
        "outputId": "b94b5668-2a49-4024-df9a-ecced2b2bd45"
      },
      "source": [
        "ler_numero = int(input(\"Digite um numero: \"))"
      ],
      "execution_count": null,
      "outputs": [
        {
          "name": "stdout",
          "output_type": "stream",
          "text": [
            "Digite um numero: 50\n"
          ]
        }
      ]
    },
    {
      "cell_type": "code",
      "metadata": {
        "id": "cT2qqtm_85Ss"
      },
      "source": [
        "import math"
      ],
      "execution_count": null,
      "outputs": []
    },
    {
      "cell_type": "code",
      "metadata": {
        "colab": {
          "base_uri": "https://localhost:8080/"
        },
        "id": "eSTPjAp-2KSK",
        "outputId": "039eca6c-914e-4fd2-a1c9-c7a1b7a97966"
      },
      "source": [
        "if (ler_numero > 0 ):\n",
        "  raiz = math.sqrt(ler_numero)\n",
        "  print(raiz)\n",
        "else: \n",
        "  print(\"Numero invalido\")"
      ],
      "execution_count": null,
      "outputs": [
        {
          "output_type": "stream",
          "name": "stdout",
          "text": [
            "7.0710678118654755\n"
          ]
        }
      ]
    },
    {
      "cell_type": "markdown",
      "source": [
        "3) LEIA UM NÚMERO REAL . SE O NÚMERO FOR POSITIVO IMPRIMA A RAIZ QUADRADA. DO\n",
        "CONTRÁRIO, IMPRIMA O NÚMERO AO QUADRADO."
      ],
      "metadata": {
        "id": "OvMEhoge6zVr"
      }
    },
    {
      "cell_type": "code",
      "metadata": {
        "id": "2XCtImWZs-Od"
      },
      "source": [
        "#3) LEIA UM NÚMERO REAL . SE O NÚMERO FOR POSITIVO IMPRIMA A RAIZ QUADRADA. DO\n",
        "#CONTRÁRIO, IMPRIMA O NÚMERO AO QUADRADO."
      ],
      "execution_count": null,
      "outputs": []
    },
    {
      "cell_type": "code",
      "metadata": {
        "colab": {
          "base_uri": "https://localhost:8080/"
        },
        "id": "b8LmD2CJ9dMb",
        "outputId": "038cbf1e-6bd6-4f50-8ece-2772ee3da0e6"
      },
      "source": [
        "numero_real = float(input(\"digite um numero real:\"))"
      ],
      "execution_count": null,
      "outputs": [
        {
          "name": "stdout",
          "output_type": "stream",
          "text": [
            "digite um numero real:-5.8\n"
          ]
        }
      ]
    },
    {
      "cell_type": "code",
      "metadata": {
        "colab": {
          "base_uri": "https://localhost:8080/"
        },
        "id": "3ODTRuWh9dPJ",
        "outputId": "dd251c4c-1ce3-4573-8453-4159461c8e89"
      },
      "source": [
        "if (numero_real > 0):\n",
        "  raiz_real = math.sqrt(numero_real)\n",
        "  print(f\"A raiz quadrada do {numero_real} é {raiz_real}\")\n",
        "else:\n",
        "  print(f\"Ja que o {numero_real} é negativo, o quadrado dele é {numero_real * numero_real}\")"
      ],
      "execution_count": null,
      "outputs": [
        {
          "output_type": "stream",
          "name": "stdout",
          "text": [
            "Ja que o -5.8 é negativo, o quadrado dele é 33.64\n"
          ]
        }
      ]
    },
    {
      "cell_type": "markdown",
      "source": [
        "4) ler numero inteiro e ver se e par ou impar. "
      ],
      "metadata": {
        "id": "zgqCQdLk64sR"
      }
    },
    {
      "cell_type": "code",
      "metadata": {
        "colab": {
          "base_uri": "https://localhost:8080/"
        },
        "id": "VePd0OGUA256",
        "outputId": "5785bbae-f076-4ac5-fd5e-99b1db918fcc"
      },
      "source": [
        "numero_inteiro = int(input(\"Digite um numero inteiro: \"))"
      ],
      "execution_count": null,
      "outputs": [
        {
          "name": "stdout",
          "output_type": "stream",
          "text": [
            "Digite um numero inteiro: 5\n"
          ]
        }
      ]
    },
    {
      "cell_type": "code",
      "metadata": {
        "colab": {
          "base_uri": "https://localhost:8080/"
        },
        "id": "7jzJ1eKqA280",
        "outputId": "ea8e7666-12f2-492a-d04d-2e14e08d2962"
      },
      "source": [
        "if (numero_inteiro % 2 == 0):\n",
        "  print(\"Este numero é Par\")\n",
        "else: \n",
        "  print(\"Este numero é impar\")"
      ],
      "execution_count": null,
      "outputs": [
        {
          "output_type": "stream",
          "name": "stdout",
          "text": [
            "Este numero é impar\n"
          ]
        }
      ]
    },
    {
      "cell_type": "markdown",
      "metadata": {
        "id": "hqSNw5_NFWtx"
      },
      "source": [
        "NOTE: Neste exercicio 4 é muito importante observar que o percentual sempre pega o resto da divisão, e so por isso faz sentido a logica ! Isto é, qualquer numero % 2 = 0 é par, pois o resto da divisão de um numero par por 2 é 0. "
      ]
    },
    {
      "cell_type": "markdown",
      "source": [
        "5) FAÇA UM PROGRAMA QUE RECEBA DOIS NUMEROS E MOSTRE O MAIOR. SE POR ACASO, OS\n",
        "DOIS NÚMEROS FOREM IGUAIS, IMPRIMA A MENSAGEM NÚMEROS IGUAIS."
      ],
      "metadata": {
        "id": "w8ZJqrLS65zv"
      }
    },
    {
      "cell_type": "code",
      "metadata": {
        "colab": {
          "base_uri": "https://localhost:8080/"
        },
        "id": "b3Sz9sFzBoE1",
        "outputId": "2dd7b7b7-787c-4e48-c930-74925f0c4f92"
      },
      "source": [
        "recebe_numero_um = int(input(\"Digite um numero: \"))\n",
        "recebe_numero_dois= int(input(\"Digite outro numero: \"))"
      ],
      "execution_count": null,
      "outputs": [
        {
          "name": "stdout",
          "output_type": "stream",
          "text": [
            "Digite um numero: 40\n",
            "Digite outro numero: 20\n"
          ]
        }
      ]
    },
    {
      "cell_type": "code",
      "metadata": {
        "colab": {
          "base_uri": "https://localhost:8080/"
        },
        "id": "Hdxb5eUFBoXT",
        "outputId": "3b1c28d9-27d8-47fe-b9ca-0c3ea45be636"
      },
      "source": [
        "if (recebe_numero_um > recebe_numero_dois):\n",
        "  print(recebe_numero_um)\n",
        "elif (recebe_numero_dois == recebe_numero_um):\n",
        "  print(\"Os numeros são iguais\")\n",
        "else:\n",
        "  print(recebe_numero_dois)"
      ],
      "execution_count": null,
      "outputs": [
        {
          "output_type": "stream",
          "name": "stdout",
          "text": [
            "40\n"
          ]
        }
      ]
    },
    {
      "cell_type": "code",
      "source": [
        "#Nesse exercicio, fiquei com dificuldade por esquecer que não precisa escrever tudo no else. Isso porque, o codigo só chega no else, quando todas as condições supracitadas são falsas. "
      ],
      "metadata": {
        "id": "u1-zkIsQ9G0Y"
      },
      "execution_count": null,
      "outputs": []
    },
    {
      "cell_type": "markdown",
      "source": [
        "6) LEIA O SALÁRIO DE UM TRABALHADOR E O VALOR DA PRESTAÇÃO DE UM EMPRÉSTIMO. SE A ´\n",
        "PRESTAÇÃO FOR MAIOR QUE 20% DO SALÁRIO IMPRIMA: EMPRÉSTIMO NÃO CONCEDIDO, CASO\n",
        "CONTRARIO IMPRIMA: EMPRÉSTIMO CONCEDIDO."
      ],
      "metadata": {
        "id": "GYy2A3F766q3"
      }
    },
    {
      "cell_type": "code",
      "metadata": {
        "colab": {
          "base_uri": "https://localhost:8080/"
        },
        "id": "SbALbYLcGcBq",
        "outputId": "2c24d28e-4781-4766-e1a8-f6998acfb09b"
      },
      "source": [
        "salario_trabalhador = float(input(\"Digite o seu salário: \"))\n",
        "emprestimo = float(input(\"Digite a prestação do emprestimo: \"))\n",
        "porcentagem = salario_trabalhador * (20/100)"
      ],
      "execution_count": null,
      "outputs": [
        {
          "name": "stdout",
          "output_type": "stream",
          "text": [
            "Digite o seu salário: 2000\n",
            "Digite a prestação do emprestimo: 412\n"
          ]
        }
      ]
    },
    {
      "cell_type": "code",
      "metadata": {
        "colab": {
          "base_uri": "https://localhost:8080/"
        },
        "id": "YzQWxx2aI_fo",
        "outputId": "376bec43-26ca-4481-fbd0-6777dcdd6b76"
      },
      "source": [
        "print(f\"20% do {salario_trabalhador} é {porcentagem} \")"
      ],
      "execution_count": null,
      "outputs": [
        {
          "output_type": "stream",
          "name": "stdout",
          "text": [
            "20% do 2000.0 é 400.0 \n"
          ]
        }
      ]
    },
    {
      "cell_type": "code",
      "metadata": {
        "colab": {
          "base_uri": "https://localhost:8080/"
        },
        "id": "tHgxh7SXGcET",
        "outputId": "f92d7b7c-bf35-41a5-8956-e02068c912cc"
      },
      "source": [
        "\n",
        "if (emprestimo > porcentagem):\n",
        "  print(\"Emprestimo Não Concedido\")\n",
        "else:\n",
        "  print(\"Emprestimo Concedido\")"
      ],
      "execution_count": null,
      "outputs": [
        {
          "output_type": "stream",
          "name": "stdout",
          "text": [
            "Emprestimo Não Concedido\n"
          ]
        }
      ]
    },
    {
      "cell_type": "markdown",
      "source": [
        "7) LEIA O SALÁRIO DE UM TRABALHADOR E O PERCENTUAL DE IMPOSTO PAGO EM FOLHA. SE O\n",
        "VALOR FOR MAIOR QUE R$ 200 IMPRIMA: ACIMA DE R$200,00, CASO CONTRARIO IMPRIMA:\n",
        "ABAIXO DE R$200,00."
      ],
      "metadata": {
        "id": "ukBakm-E6-xx"
      }
    },
    {
      "cell_type": "code",
      "metadata": {
        "colab": {
          "base_uri": "https://localhost:8080/"
        },
        "id": "nryc4E_LINOJ",
        "outputId": "3e6f8b53-6ad7-490e-89ab-45fc88f5752a"
      },
      "source": [
        "ler_salario = float(input(\"Digite seu salário: \"))\n",
        "ler_imposto = float(input(\"Digite o percentual do imposto pago: \"))\n",
        "porc_sal_impost = ler_salario * (ler_imposto/100)"
      ],
      "execution_count": null,
      "outputs": [
        {
          "name": "stdout",
          "output_type": "stream",
          "text": [
            "Digite seu salário: 2000\n",
            "Digite o percentual do imposto pago: 25\n"
          ]
        }
      ]
    },
    {
      "cell_type": "code",
      "metadata": {
        "colab": {
          "base_uri": "https://localhost:8080/"
        },
        "id": "8TXm_1jnKBGp",
        "outputId": "8589849e-f4da-4fd9-9c05-b85d5038727b"
      },
      "source": [
        "print(f\"O valor do desconto em folha é: {porc_sal_impost}\")"
      ],
      "execution_count": null,
      "outputs": [
        {
          "output_type": "stream",
          "name": "stdout",
          "text": [
            "O valor do desconto em folha é: 500.0\n"
          ]
        }
      ]
    },
    {
      "cell_type": "code",
      "metadata": {
        "colab": {
          "base_uri": "https://localhost:8080/"
        },
        "id": "L07bzBneKK4x",
        "outputId": "3e3dfdb4-4d0a-412c-f471-46492abe7786"
      },
      "source": [
        "if porc_sal_impost > 200:\n",
        "  print(\"Acima de 200$\")\n",
        "elif porc_sal_impost == 200:\n",
        "  print(\"O percentual pago em folha é exatamente 200$\")\n",
        "else:\n",
        "  print(\"Abaixo de 200$\")"
      ],
      "execution_count": null,
      "outputs": [
        {
          "output_type": "stream",
          "name": "stdout",
          "text": [
            "Acima de 200$\n"
          ]
        }
      ]
    },
    {
      "cell_type": "markdown",
      "source": [
        "8) LER UM NUMERO INTEIRO. SE O NÚMERO LIDO FOR NEGATIVO, ESCREVA A MENSAGEM\n",
        "“NÚMERO INVÁLIDO”. SE O NÚMERO FOR POSITIVO, CALCULAR O LOGARITMO DESTE NUMERO."
      ],
      "metadata": {
        "id": "BBd_Lu6K6_uA"
      }
    },
    {
      "cell_type": "code",
      "metadata": {
        "id": "0uA77YJ0s-fu"
      },
      "source": [
        "#8) LER UM NUMERO INTEIRO. SE O NÚMERO LIDO FOR NEGATIVO, ESCREVA A MENSAGEM\n",
        "#“NÚMERO INVÁLIDO”. SE O NÚMERO FOR POSITIVO, CALCULAR O LOGARITMO DESTE NUMERO."
      ],
      "execution_count": null,
      "outputs": []
    },
    {
      "cell_type": "code",
      "metadata": {
        "id": "E4hSlVypONhI"
      },
      "source": [
        "import math"
      ],
      "execution_count": null,
      "outputs": []
    },
    {
      "cell_type": "code",
      "metadata": {
        "colab": {
          "base_uri": "https://localhost:8080/"
        },
        "id": "hd3VMQbzM-lp",
        "outputId": "f0669d5a-0830-47ee-8f70-b731f3e3f21c"
      },
      "source": [
        "numero_inteiro = int(input(\"Digite um numero inteiro: \"))\n",
        "if numero_inteiro < 0:\n",
        "  print(\"NUMERO INVALIDO\")\n",
        "else:\n",
        "  print(f\"O logaritmo de {numero_inteiro} é: {math.log(numero_inteiro)}\")"
      ],
      "execution_count": null,
      "outputs": [
        {
          "output_type": "stream",
          "name": "stdout",
          "text": [
            "Digite um numero inteiro: 7\n",
            "O logaritmo de 7 é: 1.9459101490553132\n"
          ]
        }
      ]
    },
    {
      "cell_type": "markdown",
      "source": [
        "9) FAÇA UM PROGRAMA QUE LEIA 2 NOTAS DE UM ALUNO, VERIFIQUE SE AS NOTAS SAOVÁLIDAS E EXIBA NA TELA A MÉDIA DESTAS NOTAS. UMA NOTA VÁLIDA DEVE SER,OBRIGATORIAMENTE, UM VALOR ENTRE 0.0 E 10.0, ONDE CASO A NOTA NAO POSSUA UM VALORVÁLIDO, ESTE FATO DEVE SER INFORMADO AO USUÁRIO E O PROGRAMA TERMINA."
      ],
      "metadata": {
        "id": "8sqfWqVL7A1I"
      }
    },
    {
      "cell_type": "code",
      "metadata": {
        "colab": {
          "base_uri": "https://localhost:8080/"
        },
        "id": "wP1nE3n48pYA",
        "outputId": "4157c223-b746-46b0-acc0-0d7cb1dae461"
      },
      "source": [
        "nota_1 = float(input(\"Digite sua primeira nota: \"))\n",
        "nota_2 = float(input(\"Digite sua segunda nota: \"))\n",
        "media_notas = (nota_1 + nota_2) / 2 "
      ],
      "execution_count": null,
      "outputs": [
        {
          "name": "stdout",
          "output_type": "stream",
          "text": [
            "Digite sua primeira nota: 10\n",
            "Digite sua segunda nota: 10.5\n"
          ]
        }
      ]
    },
    {
      "cell_type": "code",
      "metadata": {
        "colab": {
          "base_uri": "https://localhost:8080/"
        },
        "id": "N15-LvUX8pam",
        "outputId": "2b9860e4-70f3-4a3b-c01c-e31478a77e78"
      },
      "source": [
        "if (0 <= nota_1 <= 10.0) and (0 <= nota_2 <= 10.0):\n",
        "  print(f\"A média final é {media_notas}\")\n",
        "else:\n",
        "  print(\"Nota digitada invalida\")"
      ],
      "execution_count": null,
      "outputs": [
        {
          "output_type": "stream",
          "name": "stdout",
          "text": [
            "Nota digitada invalida\n"
          ]
        }
      ]
    },
    {
      "cell_type": "markdown",
      "source": [
        ""
      ],
      "metadata": {
        "id": "OOuHR2I07C1o"
      }
    },
    {
      "cell_type": "markdown",
      "metadata": {
        "id": "x3a8invABVLS"
      },
      "source": [
        "Apanhei um pouco, mas concertei ! importante deixar o mais separadinho possivel, visando uma organização boa para a linguagem entender exatamente o que estou dizendo. "
      ]
    },
    {
      "cell_type": "markdown",
      "source": [
        "10) FAÇA UM ALGORITMO QUE CALCULE A MÉDIA PONDERADA DAS NOTAS DE 3 PROVAS. A\n",
        "PRIMEIRA É A SEGUNDA PROVA TEM PESO 1 E A TERCEIRA TEM PESO 2. AO FINAL , MOSTRAR A\n",
        "MÉDIA DO ALUNO E INDICAR SE O ALUNO FOI APROVADO OU REPROVADO. A NOTA PARA\n",
        "APROVAÇÃO DEVE SER IGUAL OU SUPERIOR A 60 PONTOS."
      ],
      "metadata": {
        "id": "1iXatOmWs-ok"
      }
    },
    {
      "cell_type": "code",
      "metadata": {
        "id": "c4ZUJx7MB9YE",
        "colab": {
          "base_uri": "https://localhost:8080/"
        },
        "outputId": "903dd3ea-d361-4ca6-e8f6-c3a490bcec79"
      },
      "source": [
        "nota_primeira_prova = float(input(\"Digite a primeira nota: \"))\n",
        "nota_segunda_prova = float(input(\"Digite a segunda nota: \"))\n",
        "nota_terceira_prova = float(input(\"Digite a terceira nota: \"))\n"
      ],
      "execution_count": null,
      "outputs": [
        {
          "name": "stdout",
          "output_type": "stream",
          "text": [
            "Digite a primeira nota: 25\n",
            "Digite a segunda nota: 68\n",
            "Digite a terceira nota: 74\n"
          ]
        }
      ]
    },
    {
      "cell_type": "code",
      "metadata": {
        "id": "EXABaTqeB-DM"
      },
      "source": [
        "media_ponderada = (nota_primeira_prova * 1 + nota_segunda_prova * 1 + nota_terceira_prova * 2)/4\n"
      ],
      "execution_count": null,
      "outputs": []
    },
    {
      "cell_type": "code",
      "metadata": {
        "id": "Kp-dg4mVB-sR",
        "colab": {
          "base_uri": "https://localhost:8080/"
        },
        "outputId": "7f66b204-e7b0-4e69-a808-775ebd9b7c49"
      },
      "source": [
        "print(f\"A média ponderada do aluno é: {media_ponderada}\")"
      ],
      "execution_count": null,
      "outputs": [
        {
          "output_type": "stream",
          "name": "stdout",
          "text": [
            "A média ponderada do aluno é: 60.25\n"
          ]
        }
      ]
    },
    {
      "cell_type": "markdown",
      "source": [
        "11) ESCREVA UM ALGORITMO QUE LEIA DOIS NÚMEROS E EXIBA-OS EM ORDEM CRESCENTE."
      ],
      "metadata": {
        "id": "q94nu8QE7Dq3"
      }
    },
    {
      "cell_type": "code",
      "metadata": {
        "colab": {
          "base_uri": "https://localhost:8080/"
        },
        "id": "lNClFsfGUDlD",
        "outputId": "9f3756ab-348b-400a-a1f2-ae24118288f1"
      },
      "source": [
        "ler_numero = int(input(\"Digite um numero: \"))\n",
        "ler_numero2 = int(input(\"Digite um numero novamente: \"))\n",
        "\n"
      ],
      "execution_count": null,
      "outputs": [
        {
          "name": "stdout",
          "output_type": "stream",
          "text": [
            "Digite um numero: 5\n",
            "Digite um numero novamente: 5\n"
          ]
        }
      ]
    },
    {
      "cell_type": "code",
      "metadata": {
        "colab": {
          "base_uri": "https://localhost:8080/"
        },
        "id": "MiC3mOyqUDtI",
        "outputId": "7a4605a8-3be1-49ad-b4bd-2b72067af8ca"
      },
      "source": [
        "if ler_numero < ler_numero2:\n",
        "  print(f\"A ordem crescente é: {ler_numero} , {ler_numero2}\")\n",
        "elif (ler_numero2) == (ler_numero):\n",
        "  print(f\"Como os números são iguais, a ordem será a mesma: {ler_numero} , {ler_numero2}\")\n",
        "else:\n",
        "  print(f\"A ordem crescente é: {ler_numero2} , {ler_numero}\")"
      ],
      "execution_count": null,
      "outputs": [
        {
          "output_type": "stream",
          "name": "stdout",
          "text": [
            "Como os números são iguais, a ordem será a mesma: 5 , 5\n"
          ]
        }
      ]
    },
    {
      "cell_type": "markdown",
      "source": [
        "12) ESCREVA UM ALGORI TMO QUE LEIA UM NÚMERO E EXIBA SEU SUCESSOR."
      ],
      "metadata": {
        "id": "EL1kzsDC7EqQ"
      }
    },
    {
      "cell_type": "code",
      "metadata": {
        "colab": {
          "base_uri": "https://localhost:8080/"
        },
        "id": "QzSdaNghXf9d",
        "outputId": "9a517695-4c74-44db-9700-c9f2d92a14b4"
      },
      "source": [
        "algoritmo_que_le_numero = (int(input(\"Coloque um numero: \"))) "
      ],
      "execution_count": null,
      "outputs": [
        {
          "name": "stdout",
          "output_type": "stream",
          "text": [
            "Coloque um numero: 74\n"
          ]
        }
      ]
    },
    {
      "cell_type": "code",
      "metadata": {
        "colab": {
          "base_uri": "https://localhost:8080/"
        },
        "id": "l7_JL9w3XgA5",
        "outputId": "24f59dd8-b0c2-4ec6-f890-2f346e050325"
      },
      "source": [
        "print(f\"O Sucessor do número {algoritmo_que_le_numero} é {algoritmo_que_le_numero +1}\")"
      ],
      "execution_count": null,
      "outputs": [
        {
          "output_type": "stream",
          "name": "stdout",
          "text": [
            "O Sucessor do número 74 é 75\n"
          ]
        }
      ]
    },
    {
      "cell_type": "markdown",
      "source": [
        "13) ELABORE UM ALGORITMO QUE DADA A IDADE DE UM NADADOR CLASSIFICA-O EM UMA DAS\n",
        "SEGUINTES CATEGORIAS: INFANTIL A = 5 - 7 ANOS, INFANTIL B = 8-10 ANOS, JUVENIL A = 11-13 ANOS, JUVENIL B = 14-17 ANOS, ADULTO = MAIORES DE 18 ANOS."
      ],
      "metadata": {
        "id": "VINrXAgc7GXQ"
      }
    },
    {
      "cell_type": "code",
      "metadata": {
        "colab": {
          "base_uri": "https://localhost:8080/"
        },
        "id": "R63pXdwJYsCy",
        "outputId": "5e8fb2a4-d6da-4001-ba49-135c6c6c526e"
      },
      "source": [
        "idade_nadador = int(input(\"Digite a idade do nadador: \"))\n",
        "\n"
      ],
      "execution_count": null,
      "outputs": [
        {
          "name": "stdout",
          "output_type": "stream",
          "text": [
            "Digite a idade do nadador: 13\n"
          ]
        }
      ]
    },
    {
      "cell_type": "code",
      "metadata": {
        "colab": {
          "base_uri": "https://localhost:8080/"
        },
        "id": "cd-P8O5eYsQj",
        "outputId": "bc907b78-c09a-4589-8613-c5818dbfe8b9"
      },
      "source": [
        "if (5 <= idade_nadador <=7):\n",
        "  print(\"Este nadador pertence a categoria: INFANTIL A\")\n",
        "elif (8 <= idade_nadador <= 10):\n",
        "  print(\"Este nadador pertence a categoria: INFANTIL B\")\n",
        "elif (11 <= idade_nadador <= 13):\n",
        "  print(\"Este nadador pertence a categoria: Juvenil A\")\n",
        "elif (14 <= idade_nadador <= 17):\n",
        "  print(\"Este nadador pertence a categoria: Juvenil B\")\n",
        "elif (idade_nadador >= 18):\n",
        "  print(\"Este nadador pertence a categoria: Adulto \")"
      ],
      "execution_count": null,
      "outputs": [
        {
          "output_type": "stream",
          "name": "stdout",
          "text": [
            "Este nadador pertence a categoria: Juvenil A\n"
          ]
        }
      ]
    },
    {
      "cell_type": "markdown",
      "metadata": {
        "id": "pYH-4coUdRpQ"
      },
      "source": [
        "14) FAÇA UM ALGORI TMO QUE LEIA OS VALORES A, B, C E IMPRIMA NA TELA SE A SOMA DE A +\n",
        "B É MENOR QUE C."
      ]
    },
    {
      "cell_type": "code",
      "metadata": {
        "colab": {
          "base_uri": "https://localhost:8080/"
        },
        "id": "SDT-k1ClbfYf",
        "outputId": "b4025173-4d00-4f01-b8d3-c5cd6c62656f"
      },
      "source": [
        "valor_a = int(input(\" Digite valor a: \"))\n",
        "valor_b = int(input(\"Digite valor b: \"))\n",
        "valor_c = int(input(\"Digite valor c: \"))"
      ],
      "execution_count": null,
      "outputs": [
        {
          "name": "stdout",
          "output_type": "stream",
          "text": [
            " Digite valor a: 8\n",
            "Digite valor b: 4\n",
            "Digite valor c: 10\n"
          ]
        }
      ]
    },
    {
      "cell_type": "code",
      "metadata": {
        "colab": {
          "base_uri": "https://localhost:8080/"
        },
        "id": "w5D3Aij-bfgV",
        "outputId": "54447a1c-127f-49cd-bac7-5d989b9fa180"
      },
      "source": [
        "if (valor_a + valor_b) < valor_c:\n",
        "  print(f\"A soma do {valor_a} com o {valor_b} é menor que o {valor_c}\")\n",
        "else: \n",
        "  print(f\"A soma do {valor_a} com o {valor_b} é maior que o {valor_c}\")\n"
      ],
      "execution_count": null,
      "outputs": [
        {
          "output_type": "stream",
          "name": "stdout",
          "text": [
            "A soma do 8 com o 4 é maior que o 10\n"
          ]
        }
      ]
    },
    {
      "cell_type": "markdown",
      "source": [
        "15) FAÇA UM ALGORITMO QUE LEIA UMA VARIÁVEL E SOME 5 CASO SEJA PAR OU SOME 8 CASO\n",
        "SEJA ÍMPAR, IMPRIMIR O RESULTADO DESTA OPERAÇÃO."
      ],
      "metadata": {
        "id": "pHf3Powh7IE3"
      }
    },
    {
      "cell_type": "code",
      "metadata": {
        "id": "c1wDQJ8vskuB"
      },
      "source": [
        "#15) FAÇA UM ALGORITMO QUE LEIA UMA VARIÁVEL E SOME 5 CASO SEJA PAR OU SOME 8 CASO\n",
        "#SEJA ÍMPAR, IMPRIMIR O RESULTADO DESTA OPERAÇÃO."
      ],
      "execution_count": null,
      "outputs": []
    },
    {
      "cell_type": "code",
      "metadata": {
        "colab": {
          "base_uri": "https://localhost:8080/"
        },
        "id": "s3Y5mK2PXIFx",
        "outputId": "31829d2f-d982-410e-b0b5-8589ce2a3548"
      },
      "source": [
        "le_variavel = int(input(\"Digite um numero: \"))"
      ],
      "execution_count": null,
      "outputs": [
        {
          "name": "stdout",
          "output_type": "stream",
          "text": [
            "Digite um numero: 5\n"
          ]
        }
      ]
    },
    {
      "cell_type": "code",
      "metadata": {
        "id": "W-tDE3pKXIIb"
      },
      "source": [
        "if (le_variavel/2) == 0:\n",
        "  print(f\"A variável {le_variavel} é par\")\n",
        "elif (le_variavel/2) == 1:\n",
        "  print(f\"A variável {le_variavel} é impar\")"
      ],
      "execution_count": null,
      "outputs": []
    },
    {
      "cell_type": "markdown",
      "metadata": {
        "id": "_yHzQ0_sYeui"
      },
      "source": [
        "Deu errado, porque esqueci como faz o resto da divisão\n"
      ]
    },
    {
      "cell_type": "code",
      "metadata": {
        "colab": {
          "base_uri": "https://localhost:8080/"
        },
        "id": "VIq0VcCgXIKk",
        "outputId": "e39016c3-8462-4592-93e1-d813dba5f2bd"
      },
      "source": [
        "entrada_variavel = int(input(\" Digite uma variável: \"))"
      ],
      "execution_count": null,
      "outputs": [
        {
          "name": "stdout",
          "output_type": "stream",
          "text": [
            " Digite uma variável: 135\n"
          ]
        }
      ]
    },
    {
      "cell_type": "code",
      "metadata": {
        "colab": {
          "base_uri": "https://localhost:8080/"
        },
        "id": "HzT9uq37Yia_",
        "outputId": "a1925f8c-7899-45a3-d1a4-6b9e7dee97e6"
      },
      "source": [
        "if (entrada_variavel%2) == 0:\n",
        "  print(f\"O valor somado de 5 é {entrada_variavel + 5}\")\n",
        "else:\n",
        "  print(f\"O valor somado de 8 é: {entrada_variavel + 8}\")"
      ],
      "execution_count": null,
      "outputs": [
        {
          "output_type": "stream",
          "name": "stdout",
          "text": [
            "O valor somado de 8 é: 143\n"
          ]
        }
      ]
    },
    {
      "cell_type": "markdown",
      "source": [
        "16) FAÇA UM ALGORITMO QUE LEIA UMA VARIÁVEL E DIVIDA POR 10 SE ESTIVER NO INTERVALO\n",
        "ENTRE 0 E 100 CASO ESTEJA FORA, DIVIDA POR 2. IMPRIMA O RESULTADO"
      ],
      "metadata": {
        "id": "CSjUTMSk7K8J"
      }
    },
    {
      "cell_type": "code",
      "metadata": {
        "colab": {
          "base_uri": "https://localhost:8080/"
        },
        "id": "QMUMyf6BaEPd",
        "outputId": "b42d8379-6c7b-4829-f7d4-5619119c041c"
      },
      "source": [
        "variavel = int(input(\"Digite um número: \"))"
      ],
      "execution_count": null,
      "outputs": [
        {
          "name": "stdout",
          "output_type": "stream",
          "text": [
            "Digite um número: 120\n"
          ]
        }
      ]
    },
    {
      "cell_type": "code",
      "metadata": {
        "colab": {
          "base_uri": "https://localhost:8080/"
        },
        "id": "7JPcX0XSaESN",
        "outputId": "7eb0d157-853f-4c42-8f09-743c6dd82ef0"
      },
      "source": [
        "if (0 <= variavel <=100):\n",
        "  print(f\"O numero {variavel} / 10 = {variavel / 10}\")\n",
        "else:\n",
        "  print(f\"O número {variavel} / 2 = {variavel / 2}\")"
      ],
      "execution_count": null,
      "outputs": [
        {
          "output_type": "stream",
          "name": "stdout",
          "text": [
            "O número 120 / 2 = 60.0\n"
          ]
        }
      ]
    },
    {
      "cell_type": "markdown",
      "source": [
        "17) CRIE UM ALGORITMO QUE, DADO O NÍVEL DE ALERTA DE RISCO, IMPRIMA SE ELE FOR GRAVE.\n",
        "O NÍVEL DE ALERTA É UM NÚMERO QUE VARIA DE 0 A 10. O NÍVEL É CONSIDERADO GRAVE\n",
        "QUANDO ELE É SUPERIOR A 9."
      ],
      "metadata": {
        "id": "tJSgJqMv7LtH"
      }
    },
    {
      "cell_type": "code",
      "metadata": {
        "colab": {
          "base_uri": "https://localhost:8080/"
        },
        "id": "a-ge-zKNbt9e",
        "outputId": "2108d219-5bae-48f7-a06e-f6351d86494f"
      },
      "source": [
        "alerta_de_risco = int(input(\"Nível de alerta de Risco: \"))"
      ],
      "execution_count": null,
      "outputs": [
        {
          "name": "stdout",
          "output_type": "stream",
          "text": [
            "Nível de alerta de Risco: 11\n"
          ]
        }
      ]
    },
    {
      "cell_type": "code",
      "metadata": {
        "colab": {
          "base_uri": "https://localhost:8080/"
        },
        "id": "-rjhLrwObuC1",
        "outputId": "14e25091-870f-4623-c245-12062b67de81"
      },
      "source": [
        "if (alerta_de_risco > 9):\n",
        "  print(f\"ALERTA DE RISCO : NÍVEL {alerta_de_risco} é considerado grave\")\n"
      ],
      "execution_count": null,
      "outputs": [
        {
          "output_type": "stream",
          "name": "stdout",
          "text": [
            "ALERTA DE RISCO : NÍVEL 11 é considerado grave\n"
          ]
        }
      ]
    },
    {
      "cell_type": "markdown",
      "source": [
        "18) FAÇA UM PROGRAMA QUE LEIA UM NÚMERO E DIGA SE ELE É DIVISÍVEL POR 2 E POR 3. USE\n",
        "ESTRUTURA DE DESVIO CONDICIONAL SIMPLES."
      ],
      "metadata": {
        "id": "fFLQ2LW57Mon"
      }
    },
    {
      "cell_type": "code",
      "metadata": {
        "colab": {
          "base_uri": "https://localhost:8080/"
        },
        "id": "19dcQZRqEvTl",
        "outputId": "4fa06716-95c5-4d60-c7b2-baf26b6274b9"
      },
      "source": [
        "divisivel_por_2_e_3 = int(input(\"Digite um numero: \"))\n"
      ],
      "execution_count": null,
      "outputs": [
        {
          "name": "stdout",
          "output_type": "stream",
          "text": [
            "Digite um numero: 8\n"
          ]
        }
      ]
    },
    {
      "cell_type": "code",
      "metadata": {
        "colab": {
          "base_uri": "https://localhost:8080/"
        },
        "id": "Z_zUb06VEvWF",
        "outputId": "0d8d5056-9762-4eec-ff47-a7b162d17d58"
      },
      "source": [
        "if (divisivel_por_2_e_3 % 2 == 0 and divisivel_por_2_e_3 % 3 == 0):\n",
        "  print(f\"Sim o número {divisivel_por_2_e_3} é divisivel por 2 e 3\")\n",
        "else:\n",
        "  print(\"Nao é divisivel\")\n",
        "  "
      ],
      "execution_count": null,
      "outputs": [
        {
          "output_type": "stream",
          "name": "stdout",
          "text": [
            "Nao é divisivel\n"
          ]
        }
      ]
    },
    {
      "cell_type": "markdown",
      "source": [
        "19) CALCULE A MÉDIA ARITMÉTICA DAS 3 NOTAS DE UM ALUNO E MOSTRE, ALÉM DO VALOR DA\n",
        "MÉDIA, UMA MENSAGEM DE \"APROVADO\", CASO A MÉDIA SEJA IGUAL OU SUPERIOR A 6, OU A\n",
        "MENSAGEM \"REPROVADO\", CASO CONTRÁRIO."
      ],
      "metadata": {
        "id": "tQJNR4cK7NhI"
      }
    },
    {
      "cell_type": "code",
      "metadata": {
        "colab": {
          "base_uri": "https://localhost:8080/"
        },
        "id": "JqeQuPVQIwT4",
        "outputId": "aed44316-5673-4554-fad3-767f159c1cd7"
      },
      "source": [
        "primeira_nota = float(input(\"Digite a primeira nota: \"))\n",
        "segunda_nota = float(input(\"Digite a segunda nota: \"))\n",
        "terceira_nota = float(input(\"Digite a terceira nota: \"))"
      ],
      "execution_count": null,
      "outputs": [
        {
          "name": "stdout",
          "output_type": "stream",
          "text": [
            "Digite a primeira nota: 5\n",
            "Digite a segunda nota: 6\n",
            "Digite a terceira nota: 4\n"
          ]
        }
      ]
    },
    {
      "cell_type": "code",
      "metadata": {
        "id": "rhHFQ-kDIwWd"
      },
      "source": [
        "media_das_notas = (primeira_nota + segunda_nota + terceira_nota) /3"
      ],
      "execution_count": null,
      "outputs": []
    },
    {
      "cell_type": "code",
      "metadata": {
        "colab": {
          "base_uri": "https://localhost:8080/"
        },
        "id": "aGgcYXWdIwZM",
        "outputId": "71528553-52dc-48ce-8cad-3a8cbab2d5eb"
      },
      "source": [
        "if (media_das_notas >=6):\n",
        "  print(f\"A média das notas foi: {media_das_notas}, portanto o aluno esta APROVADO\")\n",
        "else:\n",
        "  print(\"REPROVADO\")"
      ],
      "execution_count": null,
      "outputs": [
        {
          "output_type": "stream",
          "name": "stdout",
          "text": [
            "REPROVADO\n"
          ]
        }
      ]
    },
    {
      "cell_type": "markdown",
      "source": [
        "20) LEIA A DISTANCIA EM KM E A QUANTIDADE DE LiTROS DE GASOLINA CONSUMIDOS POR UM\n",
        "CARRO EM UM PERCURSO, CALCULE O CONSUMO EM KM/ L E ESCREVA UMA MENSAGEM DE\n",
        "ACORDO COM A TABELA ABAIXO:"
      ],
      "metadata": {
        "id": "l2oHsmq97Omb"
      }
    },
    {
      "cell_type": "code",
      "metadata": {
        "id": "xA23S9IJvqRb",
        "colab": {
          "base_uri": "https://localhost:8080/"
        },
        "outputId": "beb29806-7158-4150-c82e-1d01ea592f4b"
      },
      "source": [
        "distancia = float(input(\"Entre com a distancia: \"))\n",
        "litros_consumidos = float(input(\"Entre com os litros consumidos: \"))\n",
        "consumo = (distancia/litros_consumidos)"
      ],
      "execution_count": null,
      "outputs": [
        {
          "name": "stdout",
          "output_type": "stream",
          "text": [
            "Entre com a distancia: 220\n",
            "Entre com os litros consumidos: 40\n"
          ]
        }
      ]
    },
    {
      "cell_type": "code",
      "metadata": {
        "colab": {
          "base_uri": "https://localhost:8080/"
        },
        "id": "SoqyI_-Ejazc",
        "outputId": "ea6ca49e-c260-4265-d400-047ec8500524"
      },
      "source": [
        "if (consumo < 8):\n",
        "  print(\"Venda o carro\")\n",
        "elif (8 <= consumo <= 12):\n",
        "  print(\"economico\")\n",
        "else:\n",
        "  print(\"Super economico\")"
      ],
      "execution_count": null,
      "outputs": [
        {
          "output_type": "stream",
          "name": "stdout",
          "text": [
            "Venda o carro\n"
          ]
        }
      ]
    },
    {
      "cell_type": "code",
      "metadata": {
        "id": "6FQblM4lja2B"
      },
      "source": [
        "#VAMOO"
      ],
      "execution_count": null,
      "outputs": []
    },
    {
      "cell_type": "code",
      "source": [
        ""
      ],
      "metadata": {
        "id": "H-I3lxAM9bgH"
      },
      "execution_count": null,
      "outputs": []
    }
  ]
}