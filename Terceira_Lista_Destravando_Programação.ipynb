{
  "nbformat": 4,
  "nbformat_minor": 0,
  "metadata": {
    "colab": {
      "name": "Terceira Lista - Destravando Programação",
      "provenance": [],
      "collapsed_sections": [],
      "authorship_tag": "ABX9TyOxpqLynWo0T7IvgbGC/ZVn",
      "include_colab_link": true
    },
    "kernelspec": {
      "display_name": "Python 3",
      "name": "python3"
    },
    "language_info": {
      "name": "python"
    }
  },
  "cells": [
    {
      "cell_type": "markdown",
      "metadata": {
        "id": "view-in-github",
        "colab_type": "text"
      },
      "source": [
        "<a href=\"https://colab.research.google.com/github/LeonardoHyppolito/Estudos/blob/main/Terceira_Lista_Destravando_Programa%C3%A7%C3%A3o.ipynb\" target=\"_parent\"><img src=\"https://colab.research.google.com/assets/colab-badge.svg\" alt=\"Open In Colab\"/></a>"
      ]
    },
    {
      "cell_type": "markdown",
      "metadata": {
        "id": "m7SXBBhuZkAc"
      },
      "source": [
        "**ESTRUTURAS DE REPETIÇÃO ** SEMPRE COMEÇAR DO ZERO !\n",
        "\n",
        "\n",
        "\n",
        "\n"
      ]
    },
    {
      "cell_type": "markdown",
      "source": [
        "1) LEIA UM NÚMERO INTEIRO E IMPRIMA ATÉ O VALOR 0.\n"
      ],
      "metadata": {
        "id": "YPJPBhr691eX"
      }
    },
    {
      "cell_type": "code",
      "metadata": {
        "id": "9XHvvS-Mdub8",
        "colab": {
          "base_uri": "https://localhost:8080/"
        },
        "outputId": "d496f86d-1c33-42e5-dea2-426c81cd4ab1"
      },
      "source": [
        "ler_numero = int(input(\"Digite um numero inteiro: \"))\n"
      ],
      "execution_count": null,
      "outputs": [
        {
          "name": "stdout",
          "output_type": "stream",
          "text": [
            "Digite um numero inteiro: 5\n"
          ]
        }
      ]
    },
    {
      "cell_type": "code",
      "metadata": {
        "colab": {
          "base_uri": "https://localhost:8080/"
        },
        "id": "2rSgULhfdue1",
        "outputId": "ca1aec98-1895-4c0c-cadf-b720ad93bc28"
      },
      "source": [
        "while ler_numero > 0:\n",
        "  ler_numero = ler_numero - 1 \n",
        "  print(ler_numero)\n",
        "print(\"Chegamos até zero\")"
      ],
      "execution_count": null,
      "outputs": [
        {
          "output_type": "stream",
          "name": "stdout",
          "text": [
            "99\n",
            "98\n",
            "97\n",
            "96\n",
            "95\n",
            "94\n",
            "93\n",
            "92\n",
            "91\n",
            "90\n",
            "89\n",
            "88\n",
            "87\n",
            "86\n",
            "85\n",
            "84\n",
            "83\n",
            "82\n",
            "81\n",
            "80\n",
            "79\n",
            "78\n",
            "77\n",
            "76\n",
            "75\n",
            "74\n",
            "73\n",
            "72\n",
            "71\n",
            "70\n",
            "69\n",
            "68\n",
            "67\n",
            "66\n",
            "65\n",
            "64\n",
            "63\n",
            "62\n",
            "61\n",
            "60\n",
            "59\n",
            "58\n",
            "57\n",
            "56\n",
            "55\n",
            "54\n",
            "53\n",
            "52\n",
            "51\n",
            "50\n",
            "49\n",
            "48\n",
            "47\n",
            "46\n",
            "45\n",
            "44\n",
            "43\n",
            "42\n",
            "41\n",
            "40\n",
            "39\n",
            "38\n",
            "37\n",
            "36\n",
            "35\n",
            "34\n",
            "33\n",
            "32\n",
            "31\n",
            "30\n",
            "29\n",
            "28\n",
            "27\n",
            "26\n",
            "25\n",
            "24\n",
            "23\n",
            "22\n",
            "21\n",
            "20\n",
            "19\n",
            "18\n",
            "17\n",
            "16\n",
            "15\n",
            "14\n",
            "13\n",
            "12\n",
            "11\n",
            "10\n",
            "9\n",
            "8\n",
            "7\n",
            "6\n",
            "5\n",
            "4\n",
            "3\n",
            "2\n",
            "1\n",
            "0\n",
            "Chegamos até zero\n"
          ]
        }
      ]
    },
    {
      "cell_type": "markdown",
      "source": [
        "2) FAÇA UM PROGRAMA QUE IMPRIME A QUANTIDADE DE NÚMEROS PARES DE 100 ATÉ 200,\n",
        "INCLUINDO-OS."
      ],
      "metadata": {
        "id": "gu1q-iBw95bJ"
      }
    },
    {
      "cell_type": "markdown",
      "source": [
        "Condicional dentro de um laço de repetição. Nesse caso, a condição é os numeros pares, dentro de um periodo de 100 e 200, incluindo-os.  "
      ],
      "metadata": {
        "id": "QZqJk7PLI14X"
      }
    },
    {
      "cell_type": "code",
      "metadata": {
        "id": "wuU0_m1se9Ut"
      },
      "source": [
        "num_inicial = 100\n",
        "num_final = 200"
      ],
      "execution_count": null,
      "outputs": []
    },
    {
      "cell_type": "code",
      "metadata": {
        "colab": {
          "base_uri": "https://localhost:8080/"
        },
        "id": "12FPfzD7e9XT",
        "outputId": "be7647e8-aa06-4e16-ce94-35b9054d89fd"
      },
      "source": [
        "while (num_inicial <= num_final):\n",
        "  if (num_inicial % 2 == 0):\n",
        "    print(num_inicial)\n",
        "  num_inicial += 1     \n",
        "\n",
        "  "
      ],
      "execution_count": null,
      "outputs": [
        {
          "output_type": "stream",
          "name": "stdout",
          "text": [
            "100\n",
            "102\n",
            "104\n",
            "106\n",
            "108\n",
            "110\n",
            "112\n",
            "114\n",
            "116\n",
            "118\n",
            "120\n",
            "122\n",
            "124\n",
            "126\n",
            "128\n",
            "130\n",
            "132\n",
            "134\n",
            "136\n",
            "138\n",
            "140\n",
            "142\n",
            "144\n",
            "146\n",
            "148\n",
            "150\n",
            "152\n",
            "154\n",
            "156\n",
            "158\n",
            "160\n",
            "162\n",
            "164\n",
            "166\n",
            "168\n",
            "170\n",
            "172\n",
            "174\n",
            "176\n",
            "178\n",
            "180\n",
            "182\n",
            "184\n",
            "186\n",
            "188\n",
            "190\n",
            "192\n",
            "194\n",
            "196\n",
            "198\n",
            "200\n"
          ]
        }
      ]
    },
    {
      "cell_type": "markdown",
      "source": [
        "vou resolver esse exercicio de duas formas diferentes, acima utilizei o while, e abaixo vamos utilizar o for. \n"
      ],
      "metadata": {
        "id": "6JPmExInSfDr"
      }
    },
    {
      "cell_type": "code",
      "metadata": {
        "colab": {
          "base_uri": "https://localhost:8080/"
        },
        "id": "rztzXS0yfzf0",
        "outputId": "fffa4d76-0a05-4662-998b-bb0259a519d5"
      },
      "source": [
        "for i in range(100,201,2):\n",
        "  print(i)\n",
        "# Neste método, o range utiliza três parametros, o primeiro (100), é de onde começa, o segundo valor (201), é o ultimo valor, porém o metodo range não inclui o ultimo valor \n",
        "#logo colocamos como segundo parametro um número amais do que desejamos chegar , ja o ultimo parametro (2), são os \"passos\" que o i \n",
        "#vai dar na fila, isto é, como ele percorrerá a fila neste caso ele começara no 100, irá até o 201 - 1, andando de dois em dois. \n",
        "# de maneira tecnica, temos: range(x,y,z) onde x é o valor inicial (incluso), y é o valor final (não incluso), z é o incremento. \n",
        "#Note: quando voce não passa o incremento, o computador interpretará o incremento com valor 1. \n",
        "#Note: quando voce passa o range com apenas um parametro, o computador interpretará que o parametro é o valor final, começando do indice zero, com incremento 1. "
      ],
      "execution_count": null,
      "outputs": [
        {
          "output_type": "stream",
          "name": "stdout",
          "text": [
            "100\n",
            "102\n",
            "104\n",
            "106\n",
            "108\n",
            "110\n",
            "112\n",
            "114\n",
            "116\n",
            "118\n",
            "120\n",
            "122\n",
            "124\n",
            "126\n",
            "128\n",
            "130\n",
            "132\n",
            "134\n",
            "136\n",
            "138\n",
            "140\n",
            "142\n",
            "144\n",
            "146\n",
            "148\n",
            "150\n",
            "152\n",
            "154\n",
            "156\n",
            "158\n",
            "160\n",
            "162\n",
            "164\n",
            "166\n",
            "168\n",
            "170\n",
            "172\n",
            "174\n",
            "176\n",
            "178\n",
            "180\n",
            "182\n",
            "184\n",
            "186\n",
            "188\n",
            "190\n",
            "192\n",
            "194\n",
            "196\n",
            "198\n",
            "200\n"
          ]
        }
      ]
    },
    {
      "cell_type": "code",
      "metadata": {
        "id": "wI6QVTy2e9ux"
      },
      "source": [
        "#3) Faça um programa que conte A quantidade de numero pares entre dois numeros quaisquer. "
      ],
      "execution_count": null,
      "outputs": []
    },
    {
      "cell_type": "code",
      "source": [
        ""
      ],
      "metadata": {
        "id": "oky2otjVWVAc"
      },
      "execution_count": null,
      "outputs": []
    },
    {
      "cell_type": "code",
      "source": [
        ""
      ],
      "metadata": {
        "id": "GNFxhiQEWVUw"
      },
      "execution_count": null,
      "outputs": []
    },
    {
      "cell_type": "code",
      "metadata": {
        "id": "DCaJOjDLljTV"
      },
      "source": [
        "#4) FAÇA UM PROGRAMA QUE IMPRIME A SOMA DE TODOS OS NÚMEROS PARES ENTRE DOIS\n",
        "#NÚMEROS QUAISQUER, INCLUINDO-OS."
      ],
      "execution_count": null,
      "outputs": []
    },
    {
      "cell_type": "markdown",
      "source": [
        "  4) FAÇA UM PROGRAMA QUE IMPRIME A SOMA DE TODOS OS NÚMEROS PARES ENTRE DOIS\n",
        "NÚMEROS QUAISQUER, INCLUINDO-OS."
      ],
      "metadata": {
        "id": "HeWER6dU-VvL"
      }
    },
    {
      "cell_type": "code",
      "metadata": {
        "colab": {
          "base_uri": "https://localhost:8080/"
        },
        "id": "2UDJevCPsMm7",
        "outputId": "c3447f18-a42a-478b-c353-da19ce41f98f"
      },
      "source": [
        "primeiro_numero = int(input(\"Digite o primeiro numero: \"))\n",
        "numero_final = int(input(\"Digite o número final: \"))"
      ],
      "execution_count": null,
      "outputs": [
        {
          "name": "stdout",
          "output_type": "stream",
          "text": [
            "Digite o primeiro numero: 10\n",
            "Digite o número final: 20\n"
          ]
        }
      ]
    },
    {
      "cell_type": "code",
      "metadata": {
        "colab": {
          "base_uri": "https://localhost:8080/"
        },
        "id": "O-8JwfvQsMzL",
        "outputId": "98f2330e-05d4-4986-8d25-e93848581e5f"
      },
      "source": [
        "soma = 0\n",
        "for i in range(primeiro_numero,numero_final + 1 ,1):\n",
        "  #print(i)\n",
        "  if (i % 2 == 0):\n",
        "    print(i)\n",
        "    soma += i \n",
        "print(f\"A soma dos numeros pares é {soma}\")"
      ],
      "execution_count": null,
      "outputs": [
        {
          "output_type": "stream",
          "name": "stdout",
          "text": [
            "10\n",
            "12\n",
            "14\n",
            "16\n",
            "18\n",
            "20\n",
            "A soma dos numeros pares é 90\n"
          ]
        }
      ]
    },
    {
      "cell_type": "markdown",
      "source": [
        "5) FAÇA UM PROGRAMA QUE CALCULE O FATORIAL DE UM NÚMERO.\n",
        "fatorial de um numero, é a multiplicação desse por seus antecessores, até chegar no numero 1. "
      ],
      "metadata": {
        "id": "v2aZkPEd-aGg"
      }
    },
    {
      "cell_type": "code",
      "metadata": {
        "colab": {
          "base_uri": "https://localhost:8080/"
        },
        "id": "fFsITpH1wBzA",
        "outputId": "ff17790f-2ad3-42c9-902a-cfd9e7c64316"
      },
      "source": [
        "numero = int(input(\"entre com um numero inteiro: \"))\n",
        "controle_fat = 1\n",
        "i = 1"
      ],
      "execution_count": null,
      "outputs": [
        {
          "name": "stdout",
          "output_type": "stream",
          "text": [
            "entre com um numero inteiro: 8\n"
          ]
        }
      ]
    },
    {
      "cell_type": "code",
      "metadata": {
        "colab": {
          "base_uri": "https://localhost:8080/"
        },
        "id": "ReQc7PrJwB1L",
        "outputId": "15f7f317-896e-4b55-8f22-9876b81dba84"
      },
      "source": [
        "#Utilizando o while\n",
        "while (i <= numero):\n",
        "  controle_fat = controle_fat * i \n",
        "  i = i + 1\n",
        "print(f\"O fatorial do {numero} é {controle_fat}\")"
      ],
      "execution_count": null,
      "outputs": [
        {
          "output_type": "stream",
          "name": "stdout",
          "text": [
            "O fatorial do 8 é 40320\n"
          ]
        }
      ]
    },
    {
      "cell_type": "markdown",
      "source": [
        "\n",
        "Acho importante destacar a diferença do laço de repetição for e do laço de repetição while. O while é muito legal para situações em que temos uma condição (parametro), isto é \"Enquanto tal situação for verdade, execute tal coisa e não sabemos o tamanho do percurso que essa condição irá percorrer. Ja o for, nos sabemos o tamanho do percurso, isto é, onde começa, onde termina e como vamos percorrer a fila. \n",
        " "
      ],
      "metadata": {
        "id": "k4fZ2vQJ5Jzv"
      }
    },
    {
      "cell_type": "code",
      "metadata": {
        "colab": {
          "base_uri": "https://localhost:8080/"
        },
        "id": "AWwrX9bvXGR8",
        "outputId": "01911c04-d6d2-4fa1-ddff-b4c2e424fda1"
      },
      "source": [
        "#Utilizando o for\n",
        "valor_n = int(input(\"Digite um número inteiro: \"))\n",
        "n_fat = 1 "
      ],
      "execution_count": null,
      "outputs": [
        {
          "name": "stdout",
          "output_type": "stream",
          "text": [
            "Digite um número inteiro: 5\n"
          ]
        }
      ]
    },
    {
      "cell_type": "code",
      "metadata": {
        "colab": {
          "base_uri": "https://localhost:8080/"
        },
        "id": "wxZl-ZzsXGkA",
        "outputId": "a2ce0618-95c0-4615-df5d-2e1acf9d4cc5"
      },
      "source": [
        "for i in range(1,valor_n + 1):\n",
        "  n_fat = n_fat * i \n",
        "print(f\"O fatorial do {valor_n} é {n_fat}\")"
      ],
      "execution_count": null,
      "outputs": [
        {
          "output_type": "stream",
          "name": "stdout",
          "text": [
            "O fatorial do 5 é 120\n"
          ]
        }
      ]
    },
    {
      "cell_type": "markdown",
      "source": [
        "6) FAÇA UM PROGRAMA QUE DETERMINE E MOSTRE OS CINCO PRIMEIROS MÚLTIPLOS DE 3,\n",
        "CONSIDERANDO NÚMEROS MAIORES QUE 0."
      ],
      "metadata": {
        "id": "94UzAobn-eaP"
      }
    },
    {
      "cell_type": "code",
      "source": [
        "n_multiplo = int(input(\"Entre com um numero que deseja saber os 5 primeiros multiplos: \"))"
      ],
      "metadata": {
        "colab": {
          "base_uri": "https://localhost:8080/"
        },
        "id": "SoatBqGKA2yl",
        "outputId": "9223bf35-a673-4b46-94c6-b6122ac8e804"
      },
      "execution_count": null,
      "outputs": [
        {
          "name": "stdout",
          "output_type": "stream",
          "text": [
            "Entre com um numero que deseja saber os 5 primeiros multiplos: 3\n"
          ]
        }
      ]
    },
    {
      "cell_type": "code",
      "source": [
        "#Construindo o laço \n",
        "for i in range(1,6):\n",
        "  print(i * n_multiplo)"
      ],
      "metadata": {
        "colab": {
          "base_uri": "https://localhost:8080/"
        },
        "id": "EapEcTu3A3H3",
        "outputId": "aa0bd3a6-0cf0-4c86-ca2a-d23151aec9fe"
      },
      "execution_count": null,
      "outputs": [
        {
          "output_type": "stream",
          "name": "stdout",
          "text": [
            "3\n",
            "6\n",
            "9\n",
            "12\n",
            "15\n"
          ]
        }
      ]
    },
    {
      "cell_type": "code",
      "metadata": {
        "id": "rfsE-yiHljbT"
      },
      "source": [
        "#7) FAÇA UM ALGORITMO UTILIZANDO O COMANDO WHILE QUE MOSTRA UMA CONTAGEM\n",
        "#REGRESSIVA NA TELA, INICIANDO EM 10 E TERMINANDO EM 0. MOSTRAR UMA MENSAGEM “ FIM!”\n",
        "#APÓS A CONTAGEM."
      ],
      "execution_count": null,
      "outputs": []
    },
    {
      "cell_type": "markdown",
      "source": [
        "7) FAÇA UM ALGORITMO UTILIZANDO O COMANDO WHILE QUE MOSTRA UMA CONTAGEM\n",
        "REGRESSIVA NA TELA, INICIANDO EM 10 E TERMINANDO EM 0. MOSTRAR UMA MENSAGEM “ FIM!”\n",
        "APÓS A CONTAGEM."
      ],
      "metadata": {
        "id": "aFy7T3sq-ibe"
      }
    },
    {
      "cell_type": "code",
      "source": [
        "contagem = int(input(\"Digite um numero inteiro: \"))"
      ],
      "metadata": {
        "id": "Pf-baRB4_uIf",
        "colab": {
          "base_uri": "https://localhost:8080/"
        },
        "outputId": "f792549d-4844-4b93-a73e-454d9c2d83a1"
      },
      "execution_count": null,
      "outputs": [
        {
          "name": "stdout",
          "output_type": "stream",
          "text": [
            "Digite um numero inteiro: 10\n"
          ]
        }
      ]
    },
    {
      "cell_type": "code",
      "source": [
        "while (contagem >= 0): \n",
        "   print(contagem)\n",
        "   contagem = contagem -1\n",
        "print(\"FIM\")\n",
        "  #Nesse exercicio a ordem é muito importante, pois se a subtração \"contagem -1\" estivesse antes do print, quando chegasse no zero, o laço de repetição iria subtrair um de zero\n",
        "  #E depois printar o -1, o que não condiz com a logica da resoluçãO do exercicio. \n"
      ],
      "metadata": {
        "colab": {
          "base_uri": "https://localhost:8080/"
        },
        "id": "7v3IBpddXHzS",
        "outputId": "a3d7e19f-bc93-4f6f-e557-f96e3b5450e0"
      },
      "execution_count": null,
      "outputs": [
        {
          "output_type": "stream",
          "name": "stdout",
          "text": [
            "10\n",
            "9\n",
            "8\n",
            "7\n",
            "6\n",
            "5\n",
            "4\n",
            "3\n",
            "2\n",
            "1\n",
            "0\n",
            "FIM\n"
          ]
        }
      ]
    },
    {
      "cell_type": "markdown",
      "source": [
        "8) FAÇA UM PROGRAMA QUE PEÇA AO USUÁRIO PARA DIGITAR 10 VALORES E SOME-OS"
      ],
      "metadata": {
        "id": "b7ZD5xsS-nsO"
      }
    },
    {
      "cell_type": "code",
      "source": [
        "soma = 0 \n",
        "for i in range(10):\n",
        "  digite_dez_valores = int(input(\"Digite dez valores: \"))\n",
        "  soma = soma + digite_dez_valores\n",
        "print(f\"A soma é {soma}\")"
      ],
      "metadata": {
        "colab": {
          "base_uri": "https://localhost:8080/"
        },
        "id": "ZNNcGO-cbRH9",
        "outputId": "8b719077-c4d4-490f-ac5b-3ab791dbaca0"
      },
      "execution_count": null,
      "outputs": [
        {
          "output_type": "stream",
          "name": "stdout",
          "text": [
            "Digite dez valores: 1\n",
            "Digite dez valores: 2\n",
            "Digite dez valores: 3\n",
            "Digite dez valores: 4\n",
            "Digite dez valores: 5\n",
            "Digite dez valores: 6\n",
            "Digite dez valores: 7\n",
            "Digite dez valores: 8\n",
            "Digite dez valores: 9\n",
            "Digite dez valores: 10\n",
            "A soma é 55\n"
          ]
        }
      ]
    },
    {
      "cell_type": "markdown",
      "source": [
        "9) FAÇA UM PROGRAMA QUE LEIA 10 INTEIROS E IMPRIMA SUA MÉDIA."
      ],
      "metadata": {
        "id": "S2GTTDOR-r7Y"
      }
    },
    {
      "cell_type": "code",
      "source": [
        "soma = 0 \n",
        "media = 0 \n",
        "for i in range(10):\n",
        "  dez_inteiros = int(input(\"Digite 10 valores: \"))\n",
        "  soma = (soma + dez_inteiros)\n",
        "media = (soma / 10)\n",
        "print(f\"A media dos dez inteiros é : {media}\") "
      ],
      "metadata": {
        "colab": {
          "base_uri": "https://localhost:8080/"
        },
        "id": "liNazyc1kJaT",
        "outputId": "77d1bc8b-8efb-4605-e574-bac107018bfd"
      },
      "execution_count": null,
      "outputs": [
        {
          "output_type": "stream",
          "name": "stdout",
          "text": [
            "Digite 10 valores: 1\n",
            "Digite 10 valores: 2\n",
            "Digite 10 valores: 3\n",
            "Digite 10 valores: 4\n",
            "Digite 10 valores: 5\n",
            "Digite 10 valores: 6\n",
            "Digite 10 valores: 7\n",
            "Digite 10 valores: 8\n",
            "Digite 10 valores: 9\n",
            "Digite 10 valores: 10\n",
            "A media dos dez inteiros é : 5.5\n"
          ]
        }
      ]
    },
    {
      "cell_type": "markdown",
      "source": [
        "10) FAÇA UM PROGRAMA QUE LEIA 10 INTEIROS POSITIVOS, IGNORANDO NAO POSITIVOS, E\n",
        "IMPRIMA SUA MÉDIA.\n"
      ],
      "metadata": {
        "id": "6M96Duql-wxy"
      }
    },
    {
      "cell_type": "markdown",
      "source": [
        "Nesse exercicio 10, eu tentei criar um programa que mesmo que recebesse numeros negativos fosse capaz de somar apenas os numeros positivos (e isso eu consegui) mas travei na parte da média, onde eu teria que dizer ao programa pra dividir a variavel soma, pela quantidade de numeros positivos, o que eu não consegui fazer. "
      ],
      "metadata": {
        "id": "iSKZ-a3KoA7d"
      }
    },
    {
      "cell_type": "code",
      "source": [
        "soma = 0 \n",
        "media = 0 \n",
        "for i in range(10):\n",
        "  numeros_inteiros_positivos = int(input(\"Digite um numero inteiro: \"))\n",
        "  if numeros_inteiros_positivos > 0:\n",
        "    soma = soma + numeros_inteiros_positivos\n",
        "    media = soma /  \n",
        "print(f\"A média dos numeros positivos é: {media}\")"
      ],
      "metadata": {
        "colab": {
          "base_uri": "https://localhost:8080/"
        },
        "id": "D2tNCGe1lO2C",
        "outputId": "570a6167-d346-43ca-a0d3-4e59ab9e615a"
      },
      "execution_count": null,
      "outputs": [
        {
          "output_type": "stream",
          "name": "stdout",
          "text": [
            "Digite um numero inteiro: 1\n",
            "Digite um numero inteiro: -2\n",
            "Digite um numero inteiro: 3\n",
            "Digite um numero inteiro: -4\n",
            "Digite um numero inteiro: 2\n",
            "Digite um numero inteiro: -1\n",
            "Digite um numero inteiro: 5\n",
            "Digite um numero inteiro: -1\n",
            "Digite um numero inteiro: 8\n",
            "Digite um numero inteiro: -6\n",
            "A média dos numeros positivos é: 1.9\n"
          ]
        }
      ]
    },
    {
      "cell_type": "code",
      "source": [
        "#Resolvendo do jeito do victor\n",
        "soma = 0 \n",
        "contador = 0 \n",
        "for i in range(10):\n",
        "  ler_numero_inteiro = int(input(\"Entre com um numero inteiro: \"))\n",
        "  if (ler_numero_inteiro > 0):\n",
        "    soma = soma + ler_numero_inteiro\n",
        "    contador = contador + 1\n",
        "media = (soma / contador)\n",
        "print(f\"A media é {media}\")"
      ],
      "metadata": {
        "colab": {
          "base_uri": "https://localhost:8080/"
        },
        "id": "Zips9YJMlO4L",
        "outputId": "001c6a0b-59d2-4aba-9431-558e67ef065b"
      },
      "execution_count": null,
      "outputs": [
        {
          "output_type": "stream",
          "name": "stdout",
          "text": [
            "Entre com um numero inteiro: 2\n",
            "Entre com um numero inteiro: 4\n",
            "Entre com um numero inteiro: 6\n",
            "Entre com um numero inteiro: -9\n",
            "Entre com um numero inteiro: -9\n",
            "Entre com um numero inteiro: -9\n",
            "Entre com um numero inteiro: -9\n",
            "Entre com um numero inteiro: -9\n",
            "Entre com um numero inteiro: -9\n",
            "Entre com um numero inteiro: -9\n",
            "A media é 4.0\n"
          ]
        }
      ]
    },
    {
      "cell_type": "markdown",
      "source": [
        "11) FAÇA UM PROGRAMA QUE LEIA UM NUMERO INTEIRO N E DEPOIS IMPRIMA OS N PRIMEIROS\n",
        "NUMEROS NATURAIS ÍMPARES"
      ],
      "metadata": {
        "id": "oJHrUuyx-zfg"
      }
    },
    {
      "cell_type": "code",
      "source": [
        "numero_n = int(input(\"Digite um numero inteiro: \"))\n"
      ],
      "metadata": {
        "colab": {
          "base_uri": "https://localhost:8080/"
        },
        "id": "lGPSBB4yuzvL",
        "outputId": "4b7d7f33-ab16-4bf7-9093-19366d3cb0ac"
      },
      "execution_count": null,
      "outputs": [
        {
          "name": "stdout",
          "output_type": "stream",
          "text": [
            "Digite um numero inteiro: 12\n"
          ]
        }
      ]
    },
    {
      "cell_type": "code",
      "source": [
        "i = 0 \n",
        "while (i <= numero_n):\n",
        "  if (i % 2 != 0):\n",
        "    print(i)\n",
        "  i = i + 1  # Aqui é importante notar que o i = i + 1 esta fora do bloco if, pois caso ele estivesse dentro ele somente somaria mais um se os numeros fossem impar"
      ],
      "metadata": {
        "colab": {
          "base_uri": "https://localhost:8080/"
        },
        "id": "iEir0GZVu0Um",
        "outputId": "6e22258b-7051-4ba8-8c79-ba44f440261a"
      },
      "execution_count": null,
      "outputs": [
        {
          "output_type": "stream",
          "name": "stdout",
          "text": [
            "1\n",
            "3\n",
            "5\n",
            "7\n",
            "9\n",
            "11\n"
          ]
        }
      ]
    },
    {
      "cell_type": "markdown",
      "source": [
        "12) FAÇA UM PROGRAMA QUE CALCULE E MOSTRE A SOMA DOS 50 PRIMEIROS NUMEROS PARES."
      ],
      "metadata": {
        "id": "Xxnn2fSX-3_P"
      }
    },
    {
      "cell_type": "code",
      "source": [
        "soma = 0 \n",
        "for i in range(100):\n",
        "  if (i % 2 == 0):\n",
        "    print(i)\n",
        "    soma =  soma + i \n",
        "print(f\" A soma dos 50 primeiros numeros pares é {soma}\")"
      ],
      "metadata": {
        "colab": {
          "base_uri": "https://localhost:8080/"
        },
        "id": "KNfyxKYMxAdw",
        "outputId": "97bd3f57-614a-4b29-c8a7-1081e098332e"
      },
      "execution_count": null,
      "outputs": [
        {
          "output_type": "stream",
          "name": "stdout",
          "text": [
            "0\n",
            "2\n",
            "4\n",
            "6\n",
            "8\n",
            "10\n",
            "12\n",
            "14\n",
            "16\n",
            "18\n",
            "20\n",
            "22\n",
            "24\n",
            "26\n",
            "28\n",
            "30\n",
            "32\n",
            "34\n",
            "36\n",
            "38\n",
            "40\n",
            "42\n",
            "44\n",
            "46\n",
            "48\n",
            "50\n",
            "52\n",
            "54\n",
            "56\n",
            "58\n",
            "60\n",
            "62\n",
            "64\n",
            "66\n",
            "68\n",
            "70\n",
            "72\n",
            "74\n",
            "76\n",
            "78\n",
            "80\n",
            "82\n",
            "84\n",
            "86\n",
            "88\n",
            "90\n",
            "92\n",
            "94\n",
            "96\n",
            "98\n",
            " A soma dos 50 primeiros numeros pares é 2450\n"
          ]
        }
      ]
    },
    {
      "cell_type": "code",
      "metadata": {
        "id": "24xBx-IYljrn"
      },
      "source": [
        ""
      ],
      "execution_count": null,
      "outputs": []
    },
    {
      "cell_type": "markdown",
      "source": [
        "13) IMPRIMA OS PRIMEIROS 10 NÚMEROS NATURAIS USANDO O LOOP WHILE."
      ],
      "metadata": {
        "id": "VTC8AEPp-7Fo"
      }
    },
    {
      "cell_type": "code",
      "source": [
        "#Como queremos utilizar o while, compensa criar uma variavel i = 0 \n",
        "i = 0 \n",
        "while (i <= 10):\n",
        "  print(i)\n",
        "  i = i + 1 "
      ],
      "metadata": {
        "id": "fdxgkAzkxAf2",
        "colab": {
          "base_uri": "https://localhost:8080/"
        },
        "outputId": "1ab54fb6-5854-4be1-9d27-a11b25ccc2eb"
      },
      "execution_count": null,
      "outputs": [
        {
          "output_type": "stream",
          "name": "stdout",
          "text": [
            "0\n",
            "1\n",
            "2\n",
            "3\n",
            "4\n",
            "5\n",
            "6\n",
            "7\n",
            "8\n",
            "9\n",
            "10\n"
          ]
        }
      ]
    },
    {
      "cell_type": "markdown",
      "source": [
        "14) IMPRIMIR TABUADA DE UM DETERMINADO NÚMERO"
      ],
      "metadata": {
        "id": "iTswJlMg-9SX"
      }
    },
    {
      "cell_type": "code",
      "source": [
        "tabuada  = int(input(\"Digite um numero inteiro: \"))\n",
        "i  = 0 \n",
        "while (i <= 10): \n",
        "  print(f\"{tabuada} * {i}  = {tabuada * i}\")\n",
        "  i = i + 1"
      ],
      "metadata": {
        "colab": {
          "base_uri": "https://localhost:8080/"
        },
        "id": "oj112FXNL6sq",
        "outputId": "fb1bea5a-3acc-4dda-b765-3c85fcccdc2f"
      },
      "execution_count": null,
      "outputs": [
        {
          "output_type": "stream",
          "name": "stdout",
          "text": [
            "Digite um numero inteiro: 8\n",
            "8 * 0  = 0\n",
            "8 * 1  = 8\n",
            "8 * 2  = 16\n",
            "8 * 3  = 24\n",
            "8 * 4  = 32\n",
            "8 * 5  = 40\n",
            "8 * 6  = 48\n",
            "8 * 7  = 56\n",
            "8 * 8  = 64\n",
            "8 * 9  = 72\n",
            "8 * 10  = 80\n"
          ]
        }
      ]
    },
    {
      "cell_type": "markdown",
      "source": [
        "15) EXIBIR NÚMEROS DE -10 A -1 USANDO O LOOP FOR"
      ],
      "metadata": {
        "id": "jXZmXmLe_Ai3"
      }
    },
    {
      "cell_type": "code",
      "source": [
        "for i in range(-10,0):\n",
        "  print(i)\n",
        "  i = i + 1 "
      ],
      "metadata": {
        "colab": {
          "base_uri": "https://localhost:8080/"
        },
        "id": "UzyZswH0L644",
        "outputId": "d25c4e63-fd71-4d9a-b394-f3a88dfda341"
      },
      "execution_count": null,
      "outputs": [
        {
          "output_type": "stream",
          "name": "stdout",
          "text": [
            "-10\n",
            "-9\n",
            "-8\n",
            "-7\n",
            "-6\n",
            "-5\n",
            "-4\n",
            "-3\n",
            "-2\n",
            "-1\n"
          ]
        }
      ]
    },
    {
      "cell_type": "markdown",
      "source": [
        "16) EXIBIR UMA MENSAGEM \"FEITOOOO\" APÓS A EXECUÇÃO BEM-SUCEDIDA DO LOOP FOR"
      ],
      "metadata": {
        "id": "OOeZNY2Q_DAH"
      }
    },
    {
      "cell_type": "code",
      "source": [
        "for i in range(10,110,10):\n",
        "  print(i)\n",
        "  i = i + 10\n",
        "print(\"FEITOOOO\")"
      ],
      "metadata": {
        "colab": {
          "base_uri": "https://localhost:8080/"
        },
        "id": "czA6bodmPJ1X",
        "outputId": "d4e10032-936d-4c20-f0c1-870f1c63932e"
      },
      "execution_count": null,
      "outputs": [
        {
          "output_type": "stream",
          "name": "stdout",
          "text": [
            "10\n",
            "20\n",
            "30\n",
            "40\n",
            "50\n",
            "60\n",
            "70\n",
            "80\n",
            "90\n",
            "100\n",
            "FEITOOOO\n"
          ]
        }
      ]
    },
    {
      "cell_type": "markdown",
      "source": [
        "17) LEIA UM NÚMERO INTEIRO E MOSTRE O CUBO ATÉ ESSE NÚMERO."
      ],
      "metadata": {
        "id": "DbeXfKBu_LgQ"
      }
    },
    {
      "cell_type": "code",
      "source": [
        "numero_cubo = int(input(\"Digite um numero inteiro: \"))\n"
      ],
      "metadata": {
        "colab": {
          "base_uri": "https://localhost:8080/"
        },
        "id": "x4XwaUhOPpcG",
        "outputId": "c5f74976-b136-46ba-dcd2-506563a837b6"
      },
      "execution_count": null,
      "outputs": [
        {
          "name": "stdout",
          "output_type": "stream",
          "text": [
            "Digite um numero inteiro: 10\n"
          ]
        }
      ]
    },
    {
      "cell_type": "code",
      "source": [
        "i = 0 \n",
        "while(i <= numero_cubo):\n",
        "  print(i ** 3)\n",
        "  i = i + 1 "
      ],
      "metadata": {
        "colab": {
          "base_uri": "https://localhost:8080/"
        },
        "id": "yM3IYcssQVvL",
        "outputId": "fb99a15d-3cf4-4523-8109-aea7d24cd051"
      },
      "execution_count": null,
      "outputs": [
        {
          "output_type": "stream",
          "name": "stdout",
          "text": [
            "0\n",
            "1\n",
            "8\n",
            "27\n",
            "64\n",
            "125\n",
            "216\n",
            "343\n",
            "512\n",
            "729\n",
            "1000\n"
          ]
        }
      ]
    },
    {
      "cell_type": "markdown",
      "source": [
        "18) FAÇA UM PROGRAMA QUE LEIA UM NÚMERO INTEIRO POSITIVO N E IMPRIMA TODOS OS\n",
        "NÚMEROS NATURAIS DE 0 ATÉ N EM ORDEM DECRESCENTE\n"
      ],
      "metadata": {
        "id": "wPiHrN2O_PcI"
      }
    },
    {
      "cell_type": "code",
      "source": [
        "numero_n = int(input(\"Digite um numero inteiro positivo\"))\n"
      ],
      "metadata": {
        "colab": {
          "base_uri": "https://localhost:8080/"
        },
        "id": "zF5SwOtCQ00L",
        "outputId": "74005e48-ce3b-4837-cab1-1bfefb20305e"
      },
      "execution_count": null,
      "outputs": [
        {
          "name": "stdout",
          "output_type": "stream",
          "text": [
            "Digite um numero inteiro positivo10\n"
          ]
        }
      ]
    },
    {
      "cell_type": "code",
      "source": [
        "for i in range(numero_n,-1,-1):\n",
        "  print(i)"
      ],
      "metadata": {
        "colab": {
          "base_uri": "https://localhost:8080/"
        },
        "id": "_4Ub6coIQ1Sm",
        "outputId": "2e207285-d0df-4977-df34-a47b5a78ea63"
      },
      "execution_count": null,
      "outputs": [
        {
          "output_type": "stream",
          "name": "stdout",
          "text": [
            "10\n",
            "9\n",
            "8\n",
            "7\n",
            "6\n",
            "5\n",
            "4\n",
            "3\n",
            "2\n",
            "1\n",
            "0\n"
          ]
        }
      ]
    },
    {
      "cell_type": "markdown",
      "source": [
        "19) FAÇA UM PROGRAMA QUE LEIA UM NUMERO INTEIRO POSITIVO N E IMPRIMA TODOS OS\n",
        "NÚMEROS NATURAIS DE 0 ATÉ N EM ORDEM CRESCENTE."
      ],
      "metadata": {
        "id": "00wUk1mR_Uc_"
      }
    },
    {
      "cell_type": "code",
      "source": [
        "ler_numero_positivo = int(input(\"Digite um numero inteiro: \"))\n",
        "for i in range(0,ler_numero_positivo + 1 , 1 ):\n",
        "  print(i)"
      ],
      "metadata": {
        "colab": {
          "base_uri": "https://localhost:8080/"
        },
        "id": "DfQ9QR-pTEM0",
        "outputId": "9cf514a2-21ec-45a3-fa98-231f4f35218e"
      },
      "execution_count": null,
      "outputs": [
        {
          "output_type": "stream",
          "name": "stdout",
          "text": [
            "Digite um numero inteiro: 10\n",
            "0\n",
            "1\n",
            "2\n",
            "3\n",
            "4\n",
            "5\n",
            "6\n",
            "7\n",
            "8\n",
            "9\n",
            "10\n"
          ]
        }
      ]
    },
    {
      "cell_type": "markdown",
      "source": [
        "20) LEIA UM NÚMERO INTEIRO, E CONTE O NÚMERO TOTAL DE DÍGITOS. EX: 3 (1 DÍGITO), 10 (2\n",
        "DÍGITOS), 233 (3 DÍGITOS), ETC.\n"
      ],
      "metadata": {
        "id": "NzHlFwkt_Xo7"
      }
    },
    {
      "cell_type": "code",
      "source": [
        "numero = int(input(\"Digite um numero inteiro: \"))"
      ],
      "metadata": {
        "colab": {
          "base_uri": "https://localhost:8080/"
        },
        "id": "dt82MltETEnD",
        "outputId": "4249c894-da1d-43be-990b-ff0b4b0d5e28"
      },
      "execution_count": null,
      "outputs": [
        {
          "name": "stdout",
          "output_type": "stream",
          "text": [
            "Digite um numero inteiro: 12345\n"
          ]
        }
      ]
    },
    {
      "cell_type": "code",
      "source": [
        "# o comando //, retorna somente a parte inteira do rrsultado de uma divisão\n",
        "valor_saber_digito = int(input(\"Entre com um valor inteiro: \"))"
      ],
      "metadata": {
        "colab": {
          "base_uri": "https://localhost:8080/"
        },
        "id": "DMxVdc9GT2QL",
        "outputId": "63857502-dfcd-423b-b67c-ab250a0fde93"
      },
      "execution_count": null,
      "outputs": [
        {
          "name": "stdout",
          "output_type": "stream",
          "text": [
            "Entre com um valor inteiro: 12345\n"
          ]
        }
      ]
    },
    {
      "cell_type": "code",
      "source": [
        "contador = 0 \n",
        "while(valor_saber_digito > 0 ):                       # Aqui o interessante é notar, que precisa ser menor, e nao igual, para que o //, funcione, parando quando chega no zero. \n",
        "  valor_saber_digito = valor_saber_digito // 10      # O barra barra //, retorna somente a parte inteira da divisão ( o numero antes da virgula)\n",
        "  print(valor_saber_digito)\n",
        "  contador = contador + 1                             # A ideia de usar o contador, dentro de blocos, seja de for, seja de whilw é muito útil. \n",
        "print(f\" O numero de digitos é {contador} \")"
      ],
      "metadata": {
        "colab": {
          "base_uri": "https://localhost:8080/"
        },
        "id": "dqSSET6XVQ5W",
        "outputId": "45db0838-b26e-4b6e-e702-bc418de29ee7"
      },
      "execution_count": null,
      "outputs": [
        {
          "output_type": "stream",
          "name": "stdout",
          "text": [
            "1234\n",
            "123\n",
            "12\n",
            "1\n",
            "0\n",
            " O numero de digitos é 5 \n"
          ]
        }
      ]
    },
    {
      "cell_type": "code",
      "metadata": {
        "id": "nYz4BNY3W-tu"
      },
      "source": [
        "#20) 4) FAÇA UM PROGRAMA QUE IMPRIME A SOMA DE TODOS OS NÚMEROS ÍMPARES ENTRE\n",
        "#DOIS NÚMEROS QUAISQUER, INCLUINDO-OS"
      ],
      "execution_count": null,
      "outputs": []
    },
    {
      "cell_type": "code",
      "source": [
        "primeiro_valor = int(input(\"Digite um numero: \"))\n",
        "segundo_valor = int(input(\"Digite outro numero: \"))\n"
      ],
      "metadata": {
        "colab": {
          "base_uri": "https://localhost:8080/"
        },
        "id": "76xXRzJ-VQ78",
        "outputId": "21485fd0-e175-48dd-978d-8809e7618cb3"
      },
      "execution_count": null,
      "outputs": [
        {
          "name": "stdout",
          "output_type": "stream",
          "text": [
            "Digite um numero: 1\n",
            "Digite outro numero: 10\n"
          ]
        }
      ]
    },
    {
      "cell_type": "code",
      "source": [
        "soma = 0 \n",
        "for i in range(primeiro_valor, segundo_valor):\n",
        "  if i % 2 != 0:\n",
        "    print(i)\n",
        "    soma = soma + i\n",
        "print(f\"A soma dos numeros impares do {primeiro_valor} , até o {segundo_valor}, é igual a {soma}\")"
      ],
      "metadata": {
        "colab": {
          "base_uri": "https://localhost:8080/"
        },
        "id": "Am3oBZ64T0zj",
        "outputId": "2269123a-fa06-498c-a7d1-6ac95c7a930a"
      },
      "execution_count": null,
      "outputs": [
        {
          "output_type": "stream",
          "name": "stdout",
          "text": [
            "1\n",
            "3\n",
            "5\n",
            "7\n",
            "9\n",
            "A soma dos numeros impares do 1 , até o 10, é igual a 25\n"
          ]
        }
      ]
    },
    {
      "cell_type": "code",
      "source": [
        ""
      ],
      "metadata": {
        "id": "AP1wR0wNbCAu"
      },
      "execution_count": null,
      "outputs": []
    }
  ]
}