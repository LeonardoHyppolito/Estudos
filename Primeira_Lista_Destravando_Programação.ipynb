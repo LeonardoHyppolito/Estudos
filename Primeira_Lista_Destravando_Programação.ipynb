{
  "nbformat": 4,
  "nbformat_minor": 0,
  "metadata": {
    "colab": {
      "name": "Primeira Lista - Destravando Programação ",
      "provenance": [],
      "collapsed_sections": [
        "M3oORAQQO8ty",
        "ds3ZtS4KPBGQ",
        "aV8IR5nnPFXw",
        "GeJQyMXKPLVx",
        "PTXHDVKmPOlA",
        "uc046ZCnPUNS",
        "2CZPx8m0PWpX",
        "KSKU3-R_PZYg",
        "hCZIxpjtPb3B",
        "i8JDNsMyPi7v",
        "8RyCxA7RQAbL",
        "fTrZ_EqnQCxX",
        "fB1M_36qQElI",
        "AFQWVbcgQGm_",
        "d6neJm0-QK3v",
        "lDGqOYa7QM0R"
      ],
      "authorship_tag": "ABX9TyNOIIMSdgaHctHPl5982WnB",
      "include_colab_link": true
    },
    "kernelspec": {
      "name": "python3",
      "display_name": "Python 3"
    },
    "language_info": {
      "name": "python"
    }
  },
  "cells": [
    {
      "cell_type": "markdown",
      "metadata": {
        "id": "view-in-github",
        "colab_type": "text"
      },
      "source": [
        "<a href=\"https://colab.research.google.com/github/LeonardoHyppolito/Estudos/blob/main/Primeira_Lista_Destravando_Programa%C3%A7%C3%A3o.ipynb\" target=\"_parent\"><img src=\"https://colab.research.google.com/assets/colab-badge.svg\" alt=\"Open In Colab\"/></a>"
      ]
    },
    {
      "cell_type": "markdown",
      "source": [
        "Primeira Lista de Exercicios de programação ! A ideia aqui é  apresentar os conceitos de variáveis e tipos de dados. \n"
      ],
      "metadata": {
        "id": "2di_SNc7ObvR"
      }
    },
    {
      "cell_type": "markdown",
      "source": [
        "##Exercicio 1 - Faça um programa que leia e imprima um numero inteiro e o imprima"
      ],
      "metadata": {
        "id": "6Um8Kz8TO0mx"
      }
    },
    {
      "cell_type": "code",
      "metadata": {
        "id": "4xPbS_UD9Rz4"
      },
      "source": [
        "programa_que_le_numero = int(input(\"Digite um numero inteiro:\"))\n",
        "print(f\"O numero digitado foi:{programa_que_le_numero}\")"
      ],
      "execution_count": null,
      "outputs": []
    },
    {
      "cell_type": "code",
      "metadata": {
        "id": "nr8HF--X_O-Z"
      },
      "source": [
        "print(f\"o tipo de dado é:{type(programa_que_le_numero)}\")"
      ],
      "execution_count": null,
      "outputs": []
    },
    {
      "cell_type": "code",
      "metadata": {
        "id": "nhLvojvY__a_"
      },
      "source": [
        "# Por padrão, toda vez que usar o input, a linguagem transforma o dado em string. Queremos um numero inteiro, para isso utilizamos a função int"
      ],
      "execution_count": null,
      "outputs": []
    },
    {
      "cell_type": "markdown",
      "source": [
        "## Exercicio 2 - Faça um programa que leia um numero real e o imprima "
      ],
      "metadata": {
        "id": "xzQTjRpBOwjP"
      }
    },
    {
      "cell_type": "code",
      "metadata": {
        "colab": {
          "base_uri": "https://localhost:8080/"
        },
        "id": "zywqooEX_A83",
        "outputId": "8565870f-905f-4379-f6da-18103fbd106c"
      },
      "source": [
        "le_numero_real = float(input(\"digite um numero real:\"))\n",
        "print(f\"o numero real escolhido foi:{le_numero_real}\")"
      ],
      "execution_count": null,
      "outputs": [
        {
          "output_type": "stream",
          "text": [
            "digite um numero real:5.5\n",
            "o numero real escolhido foi:5.5\n"
          ],
          "name": "stdout"
        }
      ]
    },
    {
      "cell_type": "code",
      "metadata": {
        "id": "psI8IPFbDxHl"
      },
      "source": [
        "## Desta vez ja iniciei com o float, mesmo assim vou conferir com a função type"
      ],
      "execution_count": null,
      "outputs": []
    },
    {
      "cell_type": "code",
      "metadata": {
        "colab": {
          "base_uri": "https://localhost:8080/"
        },
        "id": "VGmnkh1XEUWA",
        "outputId": "61df7b37-12de-484b-cc9a-cbfacf867319"
      },
      "source": [
        "type(le_numero_real)"
      ],
      "execution_count": null,
      "outputs": [
        {
          "output_type": "execute_result",
          "data": {
            "text/plain": [
              "float"
            ]
          },
          "metadata": {},
          "execution_count": 9
        }
      ]
    },
    {
      "cell_type": "markdown",
      "source": [
        "## Exercicio 3 peça ao usuario para digitar 3 valores inteiros e imprima a soma deles."
      ],
      "metadata": {
        "id": "LYYQVHgNO4PB"
      }
    },
    {
      "cell_type": "code",
      "metadata": {
        "id": "BrutCCA0KjC3"
      },
      "source": [
        "## Do meu jeito "
      ],
      "execution_count": null,
      "outputs": []
    },
    {
      "cell_type": "code",
      "metadata": {
        "colab": {
          "base_uri": "https://localhost:8080/"
        },
        "id": "XrX1Z0N5JGcR",
        "outputId": "6f877d8c-a1ad-43c7-b834-977c4b52e313"
      },
      "source": [
        "primeira_entrada = int(input(\"Digite o primeiro numero:\"))\n"
      ],
      "execution_count": null,
      "outputs": [
        {
          "output_type": "stream",
          "text": [
            "Digite o primeiro numero:1\n"
          ],
          "name": "stdout"
        }
      ]
    },
    {
      "cell_type": "code",
      "metadata": {
        "colab": {
          "base_uri": "https://localhost:8080/"
        },
        "id": "CyWmatjbJceD",
        "outputId": "a9e49b50-9f43-429b-c218-5ef7132669b0"
      },
      "source": [
        "segunda_entrada = int(input(\"Digite o segundo numero:\"))"
      ],
      "execution_count": null,
      "outputs": [
        {
          "output_type": "stream",
          "text": [
            "Digite o segundo numero:2\n"
          ],
          "name": "stdout"
        }
      ]
    },
    {
      "cell_type": "code",
      "metadata": {
        "colab": {
          "base_uri": "https://localhost:8080/"
        },
        "id": "_vBtGvPFJj8X",
        "outputId": "1102af49-1a9a-4831-d9d1-76c70de5666c"
      },
      "source": [
        "terceira_entrada = int(input(\"Digite o terceiro numero:\"))"
      ],
      "execution_count": null,
      "outputs": [
        {
          "output_type": "stream",
          "text": [
            "Digite o terceiro numero:10\n"
          ],
          "name": "stdout"
        }
      ]
    },
    {
      "cell_type": "code",
      "metadata": {
        "colab": {
          "base_uri": "https://localhost:8080/"
        },
        "id": "Hzyqyg5sJ4k6",
        "outputId": "4b03e591-f081-490d-a868-55d26e62e16a"
      },
      "source": [
        "(print(primeira_entrada + segunda_entrada + terceira_entrada))"
      ],
      "execution_count": null,
      "outputs": [
        {
          "output_type": "stream",
          "text": [
            "13\n"
          ],
          "name": "stdout"
        }
      ]
    },
    {
      "cell_type": "code",
      "metadata": {
        "id": "KcWYAU5fL8kR"
      },
      "source": [
        "## eu tinha colocado int antes do print, o computador deu o resultado e um erro ao mesmo tempo, imagino que por eu ter colocado \"int\" em todas as variaveis\n",
        "##eu não preciso dizer que a soma vai ser um numero inteiro, uma vez que todas as variaveis somadas são do tipo int "
      ],
      "execution_count": null,
      "outputs": []
    },
    {
      "cell_type": "code",
      "metadata": {
        "colab": {
          "base_uri": "https://localhost:8080/"
        },
        "id": "GitFa_FALlZb",
        "outputId": "5f237b43-1fe3-4f4f-f52f-fe6ce754d952"
      },
      "source": [
        "type(primeira_entrada + segunda_entrada + terceira_entrada)"
      ],
      "execution_count": null,
      "outputs": [
        {
          "output_type": "execute_result",
          "data": {
            "text/plain": [
              "int"
            ]
          },
          "metadata": {},
          "execution_count": 18
        }
      ]
    },
    {
      "cell_type": "code",
      "metadata": {
        "id": "DC7j2PaiKShb"
      },
      "source": [
        "## Jeito do professor"
      ],
      "execution_count": null,
      "outputs": []
    },
    {
      "cell_type": "code",
      "metadata": {
        "colab": {
          "base_uri": "https://localhost:8080/"
        },
        "id": "b8tjEJ9ZLW_Q",
        "outputId": "2cc0abc2-5f08-4d21-ddc3-494fd0d1cdb8"
      },
      "source": [
        "primeiro_valor = int(input(\"digite o primeiro valor:\"))\n",
        "segundo_valor = int(input(\"digite o segundo valor:\"))\n",
        "terceiro_valor = int(input(\"digite o terceiro valor\"))"
      ],
      "execution_count": null,
      "outputs": [
        {
          "output_type": "stream",
          "text": [
            "digite o primeiro valor:2\n",
            "digite o segundo valor:25\n",
            "digite o terceiro valor20\n"
          ],
          "name": "stdout"
        }
      ]
    },
    {
      "cell_type": "code",
      "metadata": {
        "id": "3u3qZC40OrGh"
      },
      "source": [
        "soma = primeiro_valor + segundo_valor + terceiro_valor \n"
      ],
      "execution_count": null,
      "outputs": []
    },
    {
      "cell_type": "code",
      "metadata": {
        "colab": {
          "base_uri": "https://localhost:8080/"
        },
        "id": "rSbboqISPIiA",
        "outputId": "109c688c-0c0b-4426-fb98-1fb5b33a4c5e"
      },
      "source": [
        "print(soma)"
      ],
      "execution_count": null,
      "outputs": [
        {
          "output_type": "stream",
          "text": [
            "47\n"
          ],
          "name": "stdout"
        }
      ]
    },
    {
      "cell_type": "code",
      "metadata": {
        "colab": {
          "base_uri": "https://localhost:8080/"
        },
        "id": "q7QspY0sPMJ_",
        "outputId": "aa5bf8e0-aa8d-4bc9-f7d6-719cbd1d7370"
      },
      "source": [
        "tipo_do_dado = print(f\"o tipo do dado é:{type(soma)}\")"
      ],
      "execution_count": null,
      "outputs": [
        {
          "output_type": "stream",
          "text": [
            "o tipo do dado é:<class 'int'>\n"
          ],
          "name": "stdout"
        }
      ]
    },
    {
      "cell_type": "code",
      "metadata": {
        "id": "BaOFK7YJPhcy"
      },
      "source": [
        "## Passei bem perto, a linha de raciocinio foi parecida ! "
      ],
      "execution_count": null,
      "outputs": []
    },
    {
      "cell_type": "markdown",
      "source": [
        "## Exercicio 4: Peça para o usuario digitar um numero real(float), e imprima o quadrado desse valor. "
      ],
      "metadata": {
        "id": "M3oORAQQO8ty"
      }
    },
    {
      "cell_type": "code",
      "metadata": {
        "id": "HwG-NRBUQRjy"
      },
      "source": [
        "## Do meu jeito \n"
      ],
      "execution_count": null,
      "outputs": []
    },
    {
      "cell_type": "code",
      "metadata": {
        "colab": {
          "base_uri": "https://localhost:8080/"
        },
        "id": "0NsDo7SbQUSH",
        "outputId": "933336d0-32f6-486c-83cf-74c4b38a3c6e"
      },
      "source": [
        "user_choices = float(input(\"Digite um numero real:\"))"
      ],
      "execution_count": null,
      "outputs": [
        {
          "output_type": "stream",
          "text": [
            "Digite um numero real:1.2\n"
          ],
          "name": "stdout"
        }
      ]
    },
    {
      "cell_type": "code",
      "metadata": {
        "colab": {
          "base_uri": "https://localhost:8080/"
        },
        "id": "-OxoAJrWQqui",
        "outputId": "90e113f6-0004-4a43-80d2-aa1f6d4cc107"
      },
      "source": [
        "quadrado_numero = print(f\"O quadrado do numero é:{user_choices * user_choices}\")"
      ],
      "execution_count": null,
      "outputs": [
        {
          "output_type": "stream",
          "text": [
            "O quadrado do numero é:1.44\n"
          ],
          "name": "stdout"
        }
      ]
    },
    {
      "cell_type": "code",
      "metadata": {
        "colab": {
          "base_uri": "https://localhost:8080/"
        },
        "id": "zTV9oZbdRV3q",
        "outputId": "b97488bf-7464-4088-a1cc-2fdb883cfb34"
      },
      "source": [
        "verificando_tipo_de_dado = print(f\"O tipo de dado é:{type(user_choices * user_choices)}\")"
      ],
      "execution_count": null,
      "outputs": [
        {
          "output_type": "stream",
          "text": [
            "O tipo de dado é:<class 'float'>\n"
          ],
          "name": "stdout"
        }
      ]
    },
    {
      "cell_type": "code",
      "metadata": {
        "id": "dj_iOJKWRuBR"
      },
      "source": [
        "## Jeito do professor"
      ],
      "execution_count": null,
      "outputs": []
    },
    {
      "cell_type": "code",
      "metadata": {
        "colab": {
          "base_uri": "https://localhost:8080/"
        },
        "id": "N3lUbDpYMsOI",
        "outputId": "1879275f-6464-446c-cf31-31941b29a4fe"
      },
      "source": [
        "digite_um_numero_real = float(input(\"Digite um numero real:\"))"
      ],
      "execution_count": null,
      "outputs": [
        {
          "output_type": "stream",
          "text": [
            "Digite um numero real:1.2\n"
          ],
          "name": "stdout"
        }
      ]
    },
    {
      "cell_type": "code",
      "metadata": {
        "colab": {
          "base_uri": "https://localhost:8080/"
        },
        "id": "ZqjNzEfcOiu1",
        "outputId": "69eee090-5608-489a-c901-438a7a023e7a"
      },
      "source": [
        "numero_real_quadrado = digite_um_numero_real * digite_um_numero_real\n",
        "print(f\"O quadrado do valor {digite_um_numero_real} é {numero_real_quadrado}\")"
      ],
      "execution_count": null,
      "outputs": [
        {
          "output_type": "stream",
          "text": [
            "O quadrado do valor 1.2 é 1.44\n"
          ],
          "name": "stdout"
        }
      ]
    },
    {
      "cell_type": "code",
      "metadata": {
        "colab": {
          "base_uri": "https://localhost:8080/"
        },
        "id": "ob7pO5GuO-K_",
        "outputId": "7ffc3be4-57ad-4150-fe97-d7dacebff4bf"
      },
      "source": [
        "print(f\"O tipo de dado é:{type(numero_real_quadrado)}\")"
      ],
      "execution_count": null,
      "outputs": [
        {
          "output_type": "stream",
          "text": [
            "O tipo de dado é:<class 'float'>\n"
          ],
          "name": "stdout"
        }
      ]
    },
    {
      "cell_type": "markdown",
      "source": [
        "## Exercicio 5 - Peça para um usuario digitar um numero real e imprima a quinta parte deste numero. "
      ],
      "metadata": {
        "id": "ds3ZtS4KPBGQ"
      }
    },
    {
      "cell_type": "code",
      "metadata": {
        "colab": {
          "base_uri": "https://localhost:8080/"
        },
        "id": "i5f-RgmPQM1P",
        "outputId": "7b5ecae2-a443-43df-9051-8a4b2e41557d"
      },
      "source": [
        "usuario_digita = float(input(\"Digite um numero real:\"))"
      ],
      "execution_count": null,
      "outputs": [
        {
          "output_type": "stream",
          "text": [
            "Digite um numero real:1.2\n"
          ],
          "name": "stdout"
        }
      ]
    },
    {
      "cell_type": "code",
      "metadata": {
        "id": "Dgu-9XxkR428"
      },
      "source": [
        "quinta_parte_do_numero = (usuario_digita / 5) * 4 "
      ],
      "execution_count": null,
      "outputs": []
    },
    {
      "cell_type": "code",
      "metadata": {
        "colab": {
          "base_uri": "https://localhost:8080/"
        },
        "id": "CsB51lcqSR1e",
        "outputId": "b77a10a3-8201-48f6-f875-0fef422dfb88"
      },
      "source": [
        "print(f\"A quinta parte do numero real escolhido é:{quinta_parte_do_numero}\")"
      ],
      "execution_count": null,
      "outputs": [
        {
          "output_type": "stream",
          "text": [
            "A quinta parte do numero real escolhido é:0.96\n"
          ],
          "name": "stdout"
        }
      ]
    },
    {
      "cell_type": "code",
      "metadata": {
        "id": "vQcsMXr-SmB-"
      },
      "source": [
        "## O meu objetivo era dividir um numero em 5 partes, e achar o pedaço final, acredito ser um erro de logica, ou de entendimento do problema \n",
        "## porém consegui fazer com que a linguagem atendesse esse raciocinio, que não necessariamente resolve o problema. "
      ],
      "execution_count": null,
      "outputs": []
    },
    {
      "cell_type": "code",
      "metadata": {
        "id": "KdTG_COOToPZ"
      },
      "source": [
        "## Jeito do professor - Era só dividirt por 5 ! "
      ],
      "execution_count": null,
      "outputs": []
    },
    {
      "cell_type": "code",
      "metadata": {
        "colab": {
          "base_uri": "https://localhost:8080/"
        },
        "id": "YczL4nLlTrsn",
        "outputId": "8ef48cd6-7432-4015-d282-f8870966e54e"
      },
      "source": [
        "## meu jeito (2°tentativa)\n",
        "usuario_digita = float(input(\"Digite um numero real:\"))\n",
        "quinta_parte_do_numero = usuario_digita / 5 \n",
        "print(f\"a quinta parte do numero é {usuario_digita / 5}\")"
      ],
      "execution_count": null,
      "outputs": [
        {
          "output_type": "stream",
          "text": [
            "Digite um numero real:1.2\n",
            "a quinta parte do numero é 0.24\n"
          ],
          "name": "stdout"
        }
      ]
    },
    {
      "cell_type": "code",
      "metadata": {
        "id": "yhCY3rKGVdtN",
        "colab": {
          "base_uri": "https://localhost:8080/"
        },
        "outputId": "e2aa1edf-45f0-408e-c23d-fad2bf123d1a"
      },
      "source": [
        "type(quinta_parte_do_numero)"
      ],
      "execution_count": null,
      "outputs": [
        {
          "output_type": "execute_result",
          "data": {
            "text/plain": [
              "float"
            ]
          },
          "metadata": {},
          "execution_count": 41
        }
      ]
    },
    {
      "cell_type": "markdown",
      "source": [
        "## exercicio 6 - Leia uma temperatura em graus celsius e apresente-a convertida em graus Fahrenheit. A formula de conversão é F = C * (9/5) + 32 \n",
        "## sendo F a temperatura em fahrenheit e c a temperatura em celcius. "
      ],
      "metadata": {
        "id": "aV8IR5nnPFXw"
      }
    },
    {
      "cell_type": "code",
      "metadata": {
        "id": "RT4Je3edRs5V"
      },
      "source": [
        "## Começando pelo meu jeito. "
      ],
      "execution_count": null,
      "outputs": []
    },
    {
      "cell_type": "code",
      "metadata": {
        "colab": {
          "base_uri": "https://localhost:8080/"
        },
        "id": "LzWwlry9R5yU",
        "outputId": "19579d5b-fc95-455e-c7cb-54fd7ce28e5d"
      },
      "source": [
        "temp_celsius = float(input(\"Digite a temperatura em graus celcius de hoje:\"))"
      ],
      "execution_count": null,
      "outputs": [
        {
          "output_type": "stream",
          "text": [
            "Digite a temperatura em graus celcius de hoje:21.7\n"
          ],
          "name": "stdout"
        }
      ]
    },
    {
      "cell_type": "code",
      "metadata": {
        "colab": {
          "base_uri": "https://localhost:8080/"
        },
        "id": "8xh-n9bVSyVA",
        "outputId": "b33178a1-ea76-4ec8-d193-c133d7ed8af0"
      },
      "source": [
        "temp_fahrenheit = temp_celsius * (9/5) + 32\n",
        "conversor_temp = print(f\"A temperatura de hoje em Fahrenheit é:{temp_fahrenheit}\")\n"
      ],
      "execution_count": null,
      "outputs": [
        {
          "output_type": "stream",
          "text": [
            "A temperatura de hoje em Fahrenheit é:71.06\n"
          ],
          "name": "stdout"
        }
      ]
    },
    {
      "cell_type": "code",
      "metadata": {
        "id": "UWS9-j61TqUj"
      },
      "source": [
        "## Daria para colocar tudo em uma unica celula de codigo ? "
      ],
      "execution_count": null,
      "outputs": []
    },
    {
      "cell_type": "code",
      "metadata": {
        "colab": {
          "base_uri": "https://localhost:8080/"
        },
        "id": "d75L59IOUXut",
        "outputId": "a7e48aef-e278-4224-9360-7da9c1c07ff7"
      },
      "source": [
        "temp_celsius = float(input(\"Digite a temperatura em graus celcius de hoje:\"))\n",
        "temp_fahrenheit = temp_celsius * (9/5) + 32\n",
        "conversor_temp = print(f\"A temperatura de hoje em Fahrenheit é:{temp_fahrenheit}\")\n"
      ],
      "execution_count": null,
      "outputs": [
        {
          "output_type": "stream",
          "text": [
            "Digite a temperatura em graus celcius de hoje:21.7\n",
            "A temperatura de hoje em Fahrenheit é:71.06\n"
          ],
          "name": "stdout"
        }
      ]
    },
    {
      "cell_type": "code",
      "metadata": {
        "colab": {
          "base_uri": "https://localhost:8080/"
        },
        "id": "BIX-hSsDXMz_",
        "outputId": "09f3880c-ce64-4a60-b1dd-3fdedd513baf"
      },
      "source": [
        "type(temp_fahrenheit)\n",
        "type(temp_celsius)"
      ],
      "execution_count": null,
      "outputs": [
        {
          "output_type": "execute_result",
          "data": {
            "text/plain": [
              "float"
            ]
          },
          "metadata": {},
          "execution_count": 48
        }
      ]
    },
    {
      "cell_type": "code",
      "metadata": {
        "id": "VLPPIhyrUfdJ"
      },
      "source": [
        "## Simmmmm, mas vamos ver o que o professor fez. "
      ],
      "execution_count": null,
      "outputs": []
    },
    {
      "cell_type": "code",
      "metadata": {
        "colab": {
          "base_uri": "https://localhost:8080/"
        },
        "id": "EL8qk48vUnY6",
        "outputId": "cc0bb869-b83b-45a9-ac8a-ec7a39a2a187"
      },
      "source": [
        "grau_em_celsius = float(input(\"Entre com a temperatura em graus celsius:\"))"
      ],
      "execution_count": null,
      "outputs": [
        {
          "output_type": "stream",
          "text": [
            "Entre com a temperatura em graus celsius:21.7\n"
          ],
          "name": "stdout"
        }
      ]
    },
    {
      "cell_type": "code",
      "metadata": {
        "id": "QqnSNT0IYXTl"
      },
      "source": [
        "grau_em_fah = grau_em_celsius * (9/5) + 32 "
      ],
      "execution_count": null,
      "outputs": []
    },
    {
      "cell_type": "code",
      "metadata": {
        "colab": {
          "base_uri": "https://localhost:8080/"
        },
        "id": "ZtWtjbNzYw7I",
        "outputId": "2b12b50c-9844-4afe-bf2f-5e51f02fa3a3"
      },
      "source": [
        "print(f\"A temperatura de {grau_em_celsius} em Fahrenheit é {grau_em_fah}\")"
      ],
      "execution_count": null,
      "outputs": [
        {
          "output_type": "stream",
          "text": [
            "A temperatura de 21.7 em Fahrenheit é 71.06\n"
          ],
          "name": "stdout"
        }
      ]
    },
    {
      "cell_type": "markdown",
      "source": [
        "## Exercicio 7 - Leia uma temperatura em graus kelvin e apresente-a convertida em graus celcius. A formlula de conversão é C = K - 273.15, sendo c a temperatura\n",
        "#em celsius e k em kelvin. Primeiro, vou tentar fazer ! "
      ],
      "metadata": {
        "id": "GeJQyMXKPLVx"
      }
    },
    {
      "cell_type": "code",
      "metadata": {
        "colab": {
          "base_uri": "https://localhost:8080/"
        },
        "id": "2sUx5r0v8YmE",
        "outputId": "d7149709-9da8-47ad-dd5e-4dc64e4ce80b"
      },
      "source": [
        "temperatura_kelvin = float(input(\"Entre com a temperatura em kelvin: \"))"
      ],
      "execution_count": null,
      "outputs": [
        {
          "output_type": "stream",
          "text": [
            "Entre com a temperatura em kelvin: 300\n"
          ],
          "name": "stdout"
        }
      ]
    },
    {
      "cell_type": "code",
      "metadata": {
        "colab": {
          "base_uri": "https://localhost:8080/"
        },
        "id": "6P3hYZFh9KKk",
        "outputId": "b46aae4e-ba2d-4367-da66-1e0971393a08"
      },
      "source": [
        "temperatura_celsius = temperatura_kelvin - 273.15\n",
        "print(f\"A temperatura {temperatura_kelvin} em Celsius é: {temperatura_celsius}\")"
      ],
      "execution_count": null,
      "outputs": [
        {
          "output_type": "stream",
          "text": [
            "A temperatura 300.0 em Celsius é: 26.850000000000023\n"
          ],
          "name": "stdout"
        }
      ]
    },
    {
      "cell_type": "code",
      "metadata": {
        "id": "jqa9de1h9yHe"
      },
      "source": [
        "## Jeito do professor "
      ],
      "execution_count": null,
      "outputs": []
    },
    {
      "cell_type": "code",
      "metadata": {
        "id": "rj7_IeHY99jK"
      },
      "source": [
        "## Fez igual ! vamooooooo"
      ],
      "execution_count": null,
      "outputs": []
    },
    {
      "cell_type": "markdown",
      "source": [
        "## exercicio 8 - Leia um angulo em graus, e apresente-o convertido em radianos. A formlula da conversão é R= G*PI/180, considere G=angulo em graus; pi=3.14;\n",
        "##e R em radianos. Primeiro vou fazer do meu jeito !"
      ],
      "metadata": {
        "id": "PTXHDVKmPOlA"
      }
    },
    {
      "cell_type": "code",
      "metadata": {
        "colab": {
          "base_uri": "https://localhost:8080/"
        },
        "id": "kgkqY00f_Tv8",
        "outputId": "59efaf07-b5c3-499b-9e58-7d7a72b1cf12"
      },
      "source": [
        "angulo_em_grau = float(input(\"Digite um angulo em grau: \"))"
      ],
      "execution_count": null,
      "outputs": [
        {
          "output_type": "stream",
          "text": [
            "Digite um angulo em grau: 180\n"
          ],
          "name": "stdout"
        }
      ]
    },
    {
      "cell_type": "code",
      "metadata": {
        "colab": {
          "base_uri": "https://localhost:8080/"
        },
        "id": "iCkkzpbs_la6",
        "outputId": "d14ceb27-b106-4796-8ac4-3311158024f4"
      },
      "source": [
        "angulo_radiano = angulo_em_grau * 3.14 / 180\n",
        "print(f\"A conversão do angulo {angulo_em_grau} em Radianos é {angulo_radiano}\")"
      ],
      "execution_count": null,
      "outputs": [
        {
          "output_type": "stream",
          "text": [
            "A conversão do angulo 180.0 em Radianos é 3.14\n"
          ],
          "name": "stdout"
        }
      ]
    },
    {
      "cell_type": "markdown",
      "source": [
        "## Exercicio 9 - Leia um valor de comprimento em polegadas e apresente-o convertido em centimetros. A formula de conversão é C = p* 2.54, sendo C o comprimento\n",
        "# em centimetros e p em polegadas"
      ],
      "metadata": {
        "id": "uc046ZCnPUNS"
      }
    },
    {
      "cell_type": "code",
      "metadata": {
        "colab": {
          "base_uri": "https://localhost:8080/"
        },
        "id": "wy4GyPEBBy5Q",
        "outputId": "4d66bf92-2beb-4acd-eb82-fb24cd51031f"
      },
      "source": [
        "valor_polegadas = float(input(\"Entre com um valor em polegadas: \"))"
      ],
      "execution_count": null,
      "outputs": [
        {
          "output_type": "stream",
          "text": [
            "Entre com um valor em polegadas: 24.7\n"
          ],
          "name": "stdout"
        }
      ]
    },
    {
      "cell_type": "code",
      "metadata": {
        "colab": {
          "base_uri": "https://localhost:8080/"
        },
        "id": "URFE5V0ICPha",
        "outputId": "f215b298-b326-4651-a676-d505e2393ce2"
      },
      "source": [
        "valor_centimetros = valor_polegadas * 2.54 \n",
        "print(f\"O valor {valor_polegadas} em centimetros é igual a {valor_centimetros}\")"
      ],
      "execution_count": null,
      "outputs": [
        {
          "output_type": "stream",
          "text": [
            "O valor 24.7 em centimetros é igual a 62.738\n"
          ],
          "name": "stdout"
        }
      ]
    },
    {
      "cell_type": "markdown",
      "source": [
        "## Exercicio 10 - Faça a leitura de tres valores, e apresente como resultado a soma dos  quadrados dos valores lidos "
      ],
      "metadata": {
        "id": "2CZPx8m0PWpX"
      }
    },
    {
      "cell_type": "code",
      "metadata": {
        "colab": {
          "base_uri": "https://localhost:8080/"
        },
        "id": "FunezT7hDkeM",
        "outputId": "c21ba0d8-2cd2-4473-e61f-96e4fc67c916"
      },
      "source": [
        "valor_1 = float(input(\"Entre com um valor: \"))\n",
        "valor_2 = float(input(\"Entre com outro valor:\"))\n",
        "valor_3 = float(input(\"Entre com um ultimo valor:\"))"
      ],
      "execution_count": null,
      "outputs": [
        {
          "output_type": "stream",
          "text": [
            "Entre com um valor: 10.5\n",
            "Entre com outro valor:18.7\n",
            "Entre com um ultimo valor:20\n"
          ],
          "name": "stdout"
        }
      ]
    },
    {
      "cell_type": "code",
      "metadata": {
        "colab": {
          "base_uri": "https://localhost:8080/"
        },
        "id": "o6n3EIc_E3gk",
        "outputId": "fecded6e-bf43-4207-f5aa-6aa7176ee97f"
      },
      "source": [
        "resultado = (valor_1 * valor_1) + (valor_2 * valor_2) + (valor_3 * valor_3)\n",
        "print(f\"O resultado da soma dos qudrados dos valores lidos é {resultado}\")"
      ],
      "execution_count": null,
      "outputs": [
        {
          "output_type": "stream",
          "text": [
            "O resultado da soma dos qudrados dos valores lidos é 859.94\n"
          ],
          "name": "stdout"
        }
      ]
    },
    {
      "cell_type": "code",
      "metadata": {
        "id": "Lxg4URg6Fh2T"
      },
      "source": [
        "## Jeito do professor ! "
      ],
      "execution_count": null,
      "outputs": []
    },
    {
      "cell_type": "code",
      "metadata": {
        "colab": {
          "base_uri": "https://localhost:8080/"
        },
        "id": "MCc1OZ1lGMKX",
        "outputId": "e5fd5da7-f930-4e74-c353-cf3619ec72d0"
      },
      "source": [
        "prim_valor = int(input(\"Entre com o primeiro valor: \"))\n",
        "seg_valor = int(input(\"Entre com o segundo valor: \"))\n",
        "tcr_valor = int(input(\"Entre com o terceiro valor:\"))"
      ],
      "execution_count": null,
      "outputs": [
        {
          "output_type": "stream",
          "text": [
            "Entre com o primeiro valor: 10\n",
            "Entre com o segundo valor: 20\n",
            "Entre com o terceiro valor:30\n"
          ],
          "name": "stdout"
        }
      ]
    },
    {
      "cell_type": "code",
      "metadata": {
        "id": "yBPbY8wFGqNg"
      },
      "source": [
        "quadrado_do_primeiro = prim_valor*prim_valor\n",
        "quadrado_do_segundo = seg_valor*seg_valor\n",
        "quadrado_do_terceiro = tcr_valor*tcr_valor"
      ],
      "execution_count": null,
      "outputs": []
    },
    {
      "cell_type": "code",
      "metadata": {
        "colab": {
          "base_uri": "https://localhost:8080/"
        },
        "id": "J_PbYFsZHBGP",
        "outputId": "3c450a4c-55cb-4e1d-995b-4b61084d0896"
      },
      "source": [
        "soma_dos_quadrados = quadrado_do_primeiro + quadrado_do_segundo + quadrado_do_terceiro\n",
        "print(f\"A soma é: {soma_dos_quadrados}\")"
      ],
      "execution_count": null,
      "outputs": [
        {
          "output_type": "stream",
          "text": [
            "A soma é: 1400\n"
          ],
          "name": "stdout"
        }
      ]
    },
    {
      "cell_type": "code",
      "metadata": {
        "id": "KTh_AAYFIBXK"
      },
      "source": [
        "## kkkkk depois ele fez igualzinho eu. chama, esquece só progresso "
      ],
      "execution_count": null,
      "outputs": []
    },
    {
      "cell_type": "markdown",
      "source": [
        "## Exercicio 11 - Peça ao usuario quatro notas, calcule a media aritmetica e imprima o resultado "
      ],
      "metadata": {
        "id": "KSKU3-R_PZYg"
      }
    },
    {
      "cell_type": "code",
      "metadata": {
        "colab": {
          "base_uri": "https://localhost:8080/"
        },
        "id": "z4WyD6enJIoO",
        "outputId": "a083181f-070e-4f81-ffe0-47c3026826b0"
      },
      "source": [
        "nota_1 = float(input(\"Entre com a primeira nota: \"))\n",
        "nota_2= float(input(\"Entre com a segunda nota: \"))\n",
        "nota_3= float(input(\"Entre com a terceira nota: \"))\n",
        "nota_4 = float(input(\"Entre com a quarta nota: \"))"
      ],
      "execution_count": null,
      "outputs": [
        {
          "output_type": "stream",
          "text": [
            "Entre com a primeira nota: 10\n",
            "Entre com a segunda nota: 5\n",
            "Entre com a terceira nota: 4\n",
            "Entre com a quarta nota: 7\n"
          ],
          "name": "stdout"
        }
      ]
    },
    {
      "cell_type": "code",
      "metadata": {
        "colab": {
          "base_uri": "https://localhost:8080/"
        },
        "id": "kFx3C7SZLAAL",
        "outputId": "5aa14679-0b4e-4a11-ea5f-bae220c05a71"
      },
      "source": [
        "media_das_notas = (nota_1 + nota_2 + nota_3 + nota_4) / 4\n",
        "print(f\"A média das notas é {media_das_notas}\")"
      ],
      "execution_count": null,
      "outputs": [
        {
          "output_type": "stream",
          "text": [
            "A média das notas é 6.5\n"
          ],
          "name": "stdout"
        }
      ]
    },
    {
      "cell_type": "code",
      "metadata": {
        "id": "neXojpFHZcwL"
      },
      "source": [
        "## Jeito do professor = o meu ! BORAAA"
      ],
      "execution_count": null,
      "outputs": []
    },
    {
      "cell_type": "markdown",
      "source": [
        "## Exercicio 12 - leia um numero inteiro e imprima seu antecessor e seu sucessor "
      ],
      "metadata": {
        "id": "hCZIxpjtPb3B"
      }
    },
    {
      "cell_type": "code",
      "metadata": {
        "colab": {
          "base_uri": "https://localhost:8080/"
        },
        "id": "4SvlbStKakI1",
        "outputId": "9bb968f4-90aa-4fb0-94a9-078f75761365"
      },
      "source": [
        "numero_inteiro = int(input(\"Digite um numero inteiro: \"))\n",
        "antecessor = numero_inteiro - 1 \n",
        "sucessor = numero_inteiro + 1 \n",
        "print(f\"O antecessor do {numero_inteiro} é {antecessor} e o sucessor é {sucessor}\")"
      ],
      "execution_count": null,
      "outputs": [
        {
          "output_type": "stream",
          "text": [
            "Digite um numero inteiro: 45\n",
            "O antecessor do 45 é 44 e o sucessor é 46\n"
          ],
          "name": "stdout"
        }
      ]
    },
    {
      "cell_type": "markdown",
      "source": [
        "##exercicio 13) Leia um numero inteiro e imprima a soma do sucessor de seu triplo com o antecessor de seu dobro."
      ],
      "metadata": {
        "id": "i8JDNsMyPi7v"
      }
    },
    {
      "cell_type": "code",
      "metadata": {
        "colab": {
          "base_uri": "https://localhost:8080/"
        },
        "id": "6YsgGSvlcd1F",
        "outputId": "f3ac4cfd-8ba0-4f72-d47b-853a6fd1ac62"
      },
      "source": [
        "numerinho = int(input(\"Digite um numero inteiro: \"))\n",
        "sucessor_do_triplo = (numerinho * 3) + 1\n",
        "antecessor_do_dobro = (numerinho * 2) -1"
      ],
      "execution_count": null,
      "outputs": [
        {
          "output_type": "stream",
          "text": [
            "Digite um numero inteiro: 80\n"
          ],
          "name": "stdout"
        }
      ]
    },
    {
      "cell_type": "code",
      "metadata": {
        "colab": {
          "base_uri": "https://localhost:8080/"
        },
        "id": "uuYQIS9Acd32",
        "outputId": "ad6e7262-7171-4706-ca28-8ab1c2574ff0"
      },
      "source": [
        "soma_pedida = sucessor_do_triplo + antecessor_do_dobro\n",
        "print(f\"A soma do sucessor do triplo do numero com o antecessor de seu dobro é {soma_pedida}\")"
      ],
      "execution_count": null,
      "outputs": [
        {
          "output_type": "stream",
          "text": [
            "A soma do sucessor do triplo do numero com o antecessor de seu dobro é 400\n"
          ],
          "name": "stdout"
        }
      ]
    },
    {
      "cell_type": "markdown",
      "source": [
        "##14) LEIA O TAMANHO DO LADO DE UM QUADRADO E IMPRIMA COMO RESULTADO A SUA ÁREA."
      ],
      "metadata": {
        "id": "8RyCxA7RQAbL"
      }
    },
    {
      "cell_type": "code",
      "metadata": {
        "colab": {
          "base_uri": "https://localhost:8080/"
        },
        "id": "xtSXN1Chd8DE",
        "outputId": "26fc4cbd-3d8c-444d-8ed5-571034c94f89"
      },
      "source": [
        "tamanho_do_lado = float(input(\"O tamanho do lado do quadrado é: \"))\n",
        "area_quadrado = (tamanho_do_lado * tamanho_do_lado) \n",
        "print(f\"Sempre que o lado do quadrado for {tamanho_do_lado} a area desse quadrado será {area_quadrado}\")"
      ],
      "execution_count": null,
      "outputs": [
        {
          "output_type": "stream",
          "text": [
            "O tamanho do lado do quadrado é: 4\n",
            "Sempre que o lado do quadrado for 4.0 a area desse quadrado será 16.0\n"
          ],
          "name": "stdout"
        }
      ]
    },
    {
      "cell_type": "code",
      "metadata": {
        "id": "TXviIHi3brAg"
      },
      "source": [
        "##15) FAÇA UM PROGRAMA QUE LEIA O VALOR DE UM PRODUTO E IMPRIMA O VALOR COM DESCONTO, TENDO EM VISTA QUE O DESCONTO FOI DE 12%"
      ],
      "execution_count": null,
      "outputs": []
    },
    {
      "cell_type": "code",
      "metadata": {
        "colab": {
          "base_uri": "https://localhost:8080/"
        },
        "id": "m0JFD1JefkBx",
        "outputId": "c1802b69-02dc-4c74-a64b-cd30c98e5e79"
      },
      "source": [
        "valor_original = float(input(\"O valor original do produto é: \"))\n",
        "valor_descontado = valor_original * 0.12\n",
        "valor_com_desconto = valor_original * 0.88"
      ],
      "execution_count": null,
      "outputs": [
        {
          "output_type": "stream",
          "text": [
            "O valor original do produto é: 100\n"
          ],
          "name": "stdout"
        }
      ]
    },
    {
      "cell_type": "code",
      "metadata": {
        "colab": {
          "base_uri": "https://localhost:8080/"
        },
        "id": "rESXwKE7fkDh",
        "outputId": "ec189925-7026-4f4d-bca1-fbefb457c995"
      },
      "source": [
        "print(f\"Com o desconto o valor do produto será {valor_com_desconto}\")"
      ],
      "execution_count": null,
      "outputs": [
        {
          "output_type": "stream",
          "text": [
            "Com o desconto o valor do produto será 88.0\n"
          ],
          "name": "stdout"
        }
      ]
    },
    {
      "cell_type": "markdown",
      "source": [
        "##16) LEIA O SALÁRIO DE UM FUNCIONÁRIO. CALCULE E IMPRIMA O VALOR DO NOVO SALÁRIO,SABENDO QUE ELE RECEBEU UM AUMENTO DE 25%."
      ],
      "metadata": {
        "id": "fTrZ_EqnQCxX"
      }
    },
    {
      "cell_type": "code",
      "metadata": {
        "colab": {
          "base_uri": "https://localhost:8080/"
        },
        "id": "HUhZuljIhK7H",
        "outputId": "b2f02ca8-c9b6-4c5a-c25e-0d5627311d4b"
      },
      "source": [
        "salario_funcionario = float(input(\"O Salário do funcionario é:\"))\n",
        "novo_salario = salario_funcionario * 1.25 \n",
        "print(f\"Com o aumento, o funcionario passará a ganhar {novo_salario}\")"
      ],
      "execution_count": null,
      "outputs": [
        {
          "output_type": "stream",
          "text": [
            "O Salário do funcionario é:1000\n",
            "Com o aumento, o funcionario passará a ganhar 1250.0\n"
          ],
          "name": "stdout"
        }
      ]
    },
    {
      "cell_type": "markdown",
      "source": [
        "##17)  FAÇA UM PROGRAMA QUE LEIA O VALOR DA HORA DE TRABALHO (EM REAIS) E NUMERO DE HORAS TRABALHADAS NO MÊS. IMPRIMA O VALOR A SER PAGO AO FUNCIONÁRIO, \n",
        "#       ADICIONANDO 10% SOBRE O VALOR CALCULADO."
      ],
      "metadata": {
        "id": "fB1M_36qQElI"
      }
    },
    {
      "cell_type": "code",
      "metadata": {
        "colab": {
          "base_uri": "https://localhost:8080/"
        },
        "id": "sChLcxMpiTjg",
        "outputId": "bc34411d-9c9a-4e2b-ee3e-58bb735093c1"
      },
      "source": [
        "valor_ganho_por_hora = float(input(\"O preço da hora deste funcionario é:\"))\n",
        "horas_trabalhadas = int(input(\"Considerando que ele trabalha:\"))\n",
        "salario_total = valor_ganho_por_hora * horas_trabalhadas \n",
        "print(f\"O salário mensal dele é:{salario_total}\")"
      ],
      "execution_count": null,
      "outputs": [
        {
          "output_type": "stream",
          "text": [
            "O preço da hora deste funcionario é:50\n",
            "Considerando que ele trabalha:160\n",
            "O salário mensal dele é:8000.0\n"
          ],
          "name": "stdout"
        }
      ]
    },
    {
      "cell_type": "code",
      "metadata": {
        "colab": {
          "base_uri": "https://localhost:8080/"
        },
        "id": "Vn02sql7iTsU",
        "outputId": "266ea48e-9aa9-4ad3-8a99-9bf52b6f2c04"
      },
      "source": [
        "print(f\"Muito empenhado ele ganhou 10% de aumento então seu salário ficou {salario_total * 1.10}\")"
      ],
      "execution_count": null,
      "outputs": [
        {
          "output_type": "stream",
          "text": [
            "Muito empenhado ele ganhou 10% de aumento então seu salário ficou 8800.0\n"
          ],
          "name": "stdout"
        }
      ]
    },
    {
      "cell_type": "markdown",
      "source": [
        "## 18) IMPLEMENTE UM PROGRAMA QUE CALCULE O ANO DE NASCIMENTO DE UMA PESSOA APARTIR DE SUA IDADE E DO ANO ATUAL."
      ],
      "metadata": {
        "id": "AFQWVbcgQGm_"
      }
    },
    {
      "cell_type": "code",
      "metadata": {
        "colab": {
          "base_uri": "https://localhost:8080/"
        },
        "id": "5ZphPnO1kti8",
        "outputId": "57d4851d-f9f4-46f7-86da-40cd2633f6be"
      },
      "source": [
        "\n",
        "idade = int(input(\"Digite aqui quantos anos voce fez ou fará esse ano:\"))\n",
        "ano_atual = int(input(\"Certo, agora digite o ano em que voce se encontra: \"))"
      ],
      "execution_count": null,
      "outputs": [
        {
          "output_type": "stream",
          "text": [
            "Digite aqui quantos anos voce fez ou fará esse ano:21\n",
            "Certo, agora digite o ano em que voce se encontra: 2021\n"
          ],
          "name": "stdout"
        }
      ]
    },
    {
      "cell_type": "code",
      "metadata": {
        "id": "HRU4J54hlxUH",
        "colab": {
          "base_uri": "https://localhost:8080/"
        },
        "outputId": "a38c525a-45f9-453d-b5c9-c5e24c2f7bf0"
      },
      "source": [
        "ano_nascimento = ano_atual - idade \n",
        "print(f\"Voce nasceu em {ano_nascimento} !! Acertei ?\")\n"
      ],
      "execution_count": null,
      "outputs": [
        {
          "output_type": "stream",
          "text": [
            "Voce nasceu em 2000 !! Acertei ?\n"
          ],
          "name": "stdout"
        }
      ]
    },
    {
      "cell_type": "code",
      "metadata": {
        "id": "EuBOidgCclMu"
      },
      "source": [
        "## Uau incrivel !! "
      ],
      "execution_count": null,
      "outputs": []
    },
    {
      "cell_type": "markdown",
      "source": [
        "## 19)  ESCREVA UM PROGRAMA QUE LEIA AS COORDENADAS X E Y DE PONTOS NO R2 E CALCULE SUA DISTÂNCIA DA ORIGEM (0, 0)."
      ],
      "metadata": {
        "id": "d6neJm0-QK3v"
      }
    },
    {
      "cell_type": "code",
      "metadata": {
        "colab": {
          "base_uri": "https://localhost:8080/"
        },
        "id": "lemcKqeHe5Ew",
        "outputId": "863d153a-463e-4f0f-ade5-5afd9e479631"
      },
      "source": [
        "coordenada_x = int(input(\"digite a coordenada de x: \"))\n",
        "coordenada_y = int(input(\"digite a coordenada de y: \"))"
      ],
      "execution_count": null,
      "outputs": [
        {
          "output_type": "stream",
          "text": [
            "digite a coordenada de x: 10\n",
            "digite a coordenada de y: 22\n"
          ],
          "name": "stdout"
        }
      ]
    },
    {
      "cell_type": "code",
      "metadata": {
        "id": "KfYCO4g_e5Hn"
      },
      "source": [
        "# a distancia é a raiz quadrada de (xb-xa)^2 + (yb-ya), porém a origem (0,0), permite:\n",
        "distancia_parte_1 = (coordenada_x * coordenada_x) + (coordenada_y * coordenada_y)\n"
      ],
      "execution_count": null,
      "outputs": []
    },
    {
      "cell_type": "code",
      "metadata": {
        "id": "uT7Asb8xe5ke"
      },
      "source": [
        "import math "
      ],
      "execution_count": null,
      "outputs": []
    },
    {
      "cell_type": "code",
      "metadata": {
        "colab": {
          "base_uri": "https://localhost:8080/"
        },
        "id": "EBeT-SNdpspf",
        "outputId": "609461a2-58fe-4d7c-eeb8-00178db930ea"
      },
      "source": [
        "math.sqrt(distancia_parte_1)"
      ],
      "execution_count": null,
      "outputs": [
        {
          "output_type": "execute_result",
          "data": {
            "text/plain": [
              "24.166091947189145"
            ]
          },
          "metadata": {},
          "execution_count": 8
        }
      ]
    },
    {
      "cell_type": "markdown",
      "source": [
        "## 20)  RECEBA O SALARIO-BASE DE UM FUNCIONÁRIO. CALCULE E IMPRIMA O SALÃRIO A RECEBER,SABENDO-SE QUE ESSE FUNCIOÁRIO TEM UMA GRATIFICAÇÃO DE 5% SOBRE O \n",
        "#      SALÁRIO-BASE.ALÉM DISSO, ELE PAGA 7% DE IMPOSTO SOBRE O SALÁRIO-BASE"
      ],
      "metadata": {
        "id": "lDGqOYa7QM0R"
      }
    },
    {
      "cell_type": "code",
      "metadata": {
        "id": "8ZIzYKPYjOv2"
      },
      "source": [
        "#uma maneira é fazer a porcentagem como (x/100)"
      ],
      "execution_count": null,
      "outputs": []
    },
    {
      "cell_type": "code",
      "metadata": {
        "colab": {
          "base_uri": "https://localhost:8080/"
        },
        "id": "KbeSqr_qc5DY",
        "outputId": "d1a2dde2-5c02-409f-dff7-19d7a301b099"
      },
      "source": [
        "salario_base = float(input(\"Digite seu salário base:\"))\n",
        "grat = salario_base * 1.05 \n",
        "imposto = salario_base * 1.07 "
      ],
      "execution_count": null,
      "outputs": [
        {
          "output_type": "stream",
          "text": [
            "Digite seu salário base:1000\n"
          ],
          "name": "stdout"
        }
      ]
    },
    {
      "cell_type": "code",
      "metadata": {
        "colab": {
          "base_uri": "https://localhost:8080/"
        },
        "id": "uKT1_6fEc5GD",
        "outputId": "ee962e58-5de8-48e0-9e8f-78d060957282"
      },
      "source": [
        "salario_recebido = salario_base + grat - imposto\n",
        "print(f\"O salário final será de {salario_base + grat - imposto}\")"
      ],
      "execution_count": null,
      "outputs": [
        {
          "output_type": "stream",
          "text": [
            "O salário final será de 980.0\n"
          ],
          "name": "stdout"
        }
      ]
    },
    {
      "cell_type": "markdown",
      "metadata": {
        "id": "iF3ySpqAei5A"
      },
      "source": [
        "Nesse exercicio 20, eu tive duas interpretações, uma que os 7% de imposto deveria ser aplicado em cima do salário pós gratificação, e outra que o imposto é em cima do salário base. \n"
      ]
    },
    {
      "cell_type": "code",
      "metadata": {
        "id": "8m4OnJ40e1oQ"
      },
      "source": [
        "## Fim da primeira lista ! vamoooooooooooooooooo"
      ],
      "execution_count": null,
      "outputs": []
    }
  ]
}